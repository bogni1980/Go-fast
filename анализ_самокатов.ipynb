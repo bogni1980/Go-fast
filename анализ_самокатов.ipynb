{
 "cells": [
  {
   "cell_type": "markdown",
   "id": "52bf19f1",
   "metadata": {},
   "source": [
    "# Исследовательский анализ данныx сервиса аренды самокатов GoFast"
   ]
  },
  {
   "cell_type": "markdown",
   "id": "b9e6eccd",
   "metadata": {},
   "source": [
    "\n",
    "**Мы получили данные сервиса аренды самокатов GoFast о некоторых пользователях из нескольких городов, а также об их поездках.** \n",
    "\n",
    "**Описание данных**\n",
    "\n",
    "Пользователи — users_go.csv\n",
    "\n",
    "- user_id — уникальный идентификатор пользователя\n",
    "- name — имя пользователя\n",
    "- age — возраст\n",
    "- city — город\n",
    "- subscription_type — тип подписки (free, ultra)\n",
    "\n",
    "Поeздки — rides_go.csv\n",
    "\n",
    "- user_id — уникальный идентификатор пользователя\n",
    "- distance — расстояние, которое пользователь проехал в текущей сессии (в метрах)\n",
    "- duration — продолжительность сессии (в минутах) — время с того момента, как пользователь нажал кнопку «Начать поездку» до - - момента, как он нажал кнопку «Завершить поездку»\n",
    "- date — дата совершения поездки\n",
    "\n",
    "Подписки — subscriptions_go.csv\n",
    "\n",
    "- subscription_type — тип подписки\n",
    "- minute_price — стоимость одной минуты поездки по данной подписке\n",
    "- start_ride_price — стоимость начала поездки\n",
    "- subscription_fee — стоимость ежемесячного платежа\n",
    "\n",
    "**Цель исследования: необходимо проанализировать данные и проверить некоторые гипотезы, которые могут помочь бизнесу вырасти:**\n",
    "- Важно понять, тратят ли пользователи с подпиской больше времени на поездки? Если да, то пользователи с подпиской могут быть «выгоднее» для компании.\n",
    "- Расстояние одной поездки в 3130 метров — оптимальное с точки зрения износа самоката. Можно ли сказать, что среднее расстояние, которое проезжают пользователи с подпиской за одну поездку, не превышает 3130 метров?\n",
    "- Будет ли помесячная выручка от пользователей с подпиской по месяцам выше, чем выручка от пользователей без подписки?\n",
    "\n",
    "**План выполнения состоит из следующих пунктов:**\n",
    "\n",
    "1. Загрузка данных.\n",
    "\n",
    "2. Предобработка данных.\n",
    "   - Корректировка типов данных столбцов.\n",
    "   - Добавление столбцов.\n",
    "   - Обработка неявных дубликатов.\n",
    "   - Проверка результатов предобработки данных.\n",
    "   \n",
    "3. Исследовательский анализ данных:\n",
    "   - Частота встречаемости городов.\n",
    "   - Соотношение пользователей с подпиской и без нее.\n",
    "   - Возраст пользователей.\n",
    "   - Расстояние, которое пользователь преодолел за одну поездку.\n",
    "   - Продолжительность поездок.\n",
    "*Сделаны промежуточные выводы исследовательского анализа.*\n",
    "\n",
    "4. Объединение данных.\n",
    "- Объединение данных о пользователях, поездках и подписках в один датафрейм методом merge().\n",
    "- Создание двух датафреймов с пользователями, имеющими подписку и без нее, на основе общего датафрейма.\n",
    "- Визуализация данных из датафреймов, разделенных на пользователей с подпиской и без.\n",
    "\n",
    "5. Подсчёт выручки.\n",
    "- Создание датафрейма, агрегированного по пользователям\n",
    "- Добавление столбца в агрегированный датафрейм с помесечной выручкой по каждому пользователю\n",
    "\n",
    "6.Проверка гипотез\n"
   ]
  },
  {
   "cell_type": "markdown",
   "id": "6017aa7c",
   "metadata": {},
   "source": [
    "## Загрузим все необходимые библиотеки:"
   ]
  },
  {
   "cell_type": "code",
   "execution_count": 3,
   "id": "c37bb403",
   "metadata": {},
   "outputs": [],
   "source": [
    "import pandas as pd\n",
    "import numpy as np\n",
    "import matplotlib.pyplot as plt\n",
    "from scipy import stats as st\n",
    "import seaborn as sns\n"
   ]
  },
  {
   "cell_type": "markdown",
   "id": "ec4feab9",
   "metadata": {},
   "source": [
    "#### Шаг 1. Загрузка данных"
   ]
  },
  {
   "cell_type": "markdown",
   "id": "c5e8b8c5",
   "metadata": {},
   "source": [
    "Загрузим данные и по каждому датасету изучим первоначальную информацию"
   ]
  },
  {
   "cell_type": "code",
   "execution_count": 4,
   "id": "7594cfbe",
   "metadata": {},
   "outputs": [],
   "source": [
    "\n",
    "try:\n",
    "    users_go = pd.read_csv('/datasets/users_go.csv')\n",
    "except:\n",
    "    users_go = pd.read_csv('https://code.s3.yandex.net/datasets/users_go.csv')\n",
    "\n",
    "try:\n",
    "    rides_go = pd.read_csv('/datasets/rides_go.csv')\n",
    "except:\n",
    "    rides_go = pd.read_csv('https://code.s3.yandex.net/datasets/rides_go.csv', parse_dates = ['date'])\n",
    "\n",
    "try:\n",
    "    subscriptions_go = pd.read_csv('/datasets/subscriptions_go.csv')\n",
    "except:\n",
    "    subscriptions_go = pd.read_csv('https://code.s3.yandex.net/datasets/subscriptions_go.csv')       \n"
   ]
  },
  {
   "cell_type": "code",
   "execution_count": 5,
   "id": "d91db786",
   "metadata": {},
   "outputs": [],
   "source": [
    "def descr (df):\n",
    "    return (display(df.head(10)), df.info())"
   ]
  },
  {
   "cell_type": "code",
   "execution_count": 6,
   "id": "dca3bfbe",
   "metadata": {},
   "outputs": [
    {
     "data": {
      "text/html": [
       "<div>\n",
       "<style scoped>\n",
       "    .dataframe tbody tr th:only-of-type {\n",
       "        vertical-align: middle;\n",
       "    }\n",
       "\n",
       "    .dataframe tbody tr th {\n",
       "        vertical-align: top;\n",
       "    }\n",
       "\n",
       "    .dataframe thead th {\n",
       "        text-align: right;\n",
       "    }\n",
       "</style>\n",
       "<table border=\"1\" class=\"dataframe\">\n",
       "  <thead>\n",
       "    <tr style=\"text-align: right;\">\n",
       "      <th></th>\n",
       "      <th>user_id</th>\n",
       "      <th>name</th>\n",
       "      <th>age</th>\n",
       "      <th>city</th>\n",
       "      <th>subscription_type</th>\n",
       "    </tr>\n",
       "  </thead>\n",
       "  <tbody>\n",
       "    <tr>\n",
       "      <th>0</th>\n",
       "      <td>1</td>\n",
       "      <td>Кира</td>\n",
       "      <td>22</td>\n",
       "      <td>Тюмень</td>\n",
       "      <td>ultra</td>\n",
       "    </tr>\n",
       "    <tr>\n",
       "      <th>1</th>\n",
       "      <td>2</td>\n",
       "      <td>Станислав</td>\n",
       "      <td>31</td>\n",
       "      <td>Омск</td>\n",
       "      <td>ultra</td>\n",
       "    </tr>\n",
       "    <tr>\n",
       "      <th>2</th>\n",
       "      <td>3</td>\n",
       "      <td>Алексей</td>\n",
       "      <td>20</td>\n",
       "      <td>Москва</td>\n",
       "      <td>ultra</td>\n",
       "    </tr>\n",
       "    <tr>\n",
       "      <th>3</th>\n",
       "      <td>4</td>\n",
       "      <td>Константин</td>\n",
       "      <td>26</td>\n",
       "      <td>Ростов-на-Дону</td>\n",
       "      <td>ultra</td>\n",
       "    </tr>\n",
       "    <tr>\n",
       "      <th>4</th>\n",
       "      <td>5</td>\n",
       "      <td>Адель</td>\n",
       "      <td>28</td>\n",
       "      <td>Омск</td>\n",
       "      <td>ultra</td>\n",
       "    </tr>\n",
       "    <tr>\n",
       "      <th>5</th>\n",
       "      <td>6</td>\n",
       "      <td>Регина</td>\n",
       "      <td>25</td>\n",
       "      <td>Краснодар</td>\n",
       "      <td>ultra</td>\n",
       "    </tr>\n",
       "    <tr>\n",
       "      <th>6</th>\n",
       "      <td>7</td>\n",
       "      <td>Игорь</td>\n",
       "      <td>23</td>\n",
       "      <td>Омск</td>\n",
       "      <td>ultra</td>\n",
       "    </tr>\n",
       "    <tr>\n",
       "      <th>7</th>\n",
       "      <td>8</td>\n",
       "      <td>Юрий</td>\n",
       "      <td>23</td>\n",
       "      <td>Краснодар</td>\n",
       "      <td>ultra</td>\n",
       "    </tr>\n",
       "    <tr>\n",
       "      <th>8</th>\n",
       "      <td>9</td>\n",
       "      <td>Ян</td>\n",
       "      <td>21</td>\n",
       "      <td>Пятигорск</td>\n",
       "      <td>ultra</td>\n",
       "    </tr>\n",
       "    <tr>\n",
       "      <th>9</th>\n",
       "      <td>10</td>\n",
       "      <td>Валерий</td>\n",
       "      <td>18</td>\n",
       "      <td>Екатеринбург</td>\n",
       "      <td>ultra</td>\n",
       "    </tr>\n",
       "  </tbody>\n",
       "</table>\n",
       "</div>"
      ],
      "text/plain": [
       "   user_id        name  age            city subscription_type\n",
       "0        1        Кира   22          Тюмень             ultra\n",
       "1        2   Станислав   31            Омск             ultra\n",
       "2        3     Алексей   20          Москва             ultra\n",
       "3        4  Константин   26  Ростов-на-Дону             ultra\n",
       "4        5       Адель   28            Омск             ultra\n",
       "5        6      Регина   25       Краснодар             ultra\n",
       "6        7       Игорь   23            Омск             ultra\n",
       "7        8        Юрий   23       Краснодар             ultra\n",
       "8        9          Ян   21       Пятигорск             ultra\n",
       "9       10     Валерий   18    Екатеринбург             ultra"
      ]
     },
     "metadata": {},
     "output_type": "display_data"
    },
    {
     "name": "stdout",
     "output_type": "stream",
     "text": [
      "<class 'pandas.core.frame.DataFrame'>\n",
      "RangeIndex: 1565 entries, 0 to 1564\n",
      "Data columns (total 5 columns):\n",
      " #   Column             Non-Null Count  Dtype \n",
      "---  ------             --------------  ----- \n",
      " 0   user_id            1565 non-null   int64 \n",
      " 1   name               1565 non-null   object\n",
      " 2   age                1565 non-null   int64 \n",
      " 3   city               1565 non-null   object\n",
      " 4   subscription_type  1565 non-null   object\n",
      "dtypes: int64(2), object(3)\n",
      "memory usage: 61.3+ KB\n"
     ]
    },
    {
     "data": {
      "text/plain": [
       "(None, None)"
      ]
     },
     "execution_count": 6,
     "metadata": {},
     "output_type": "execute_result"
    }
   ],
   "source": [
    "descr(users_go)"
   ]
  },
  {
   "cell_type": "markdown",
   "id": "bde00da4",
   "metadata": {},
   "source": [
    "*При изучении первоначальной информации мы видим что данные в users_go без пропусков, название колонок также соответствует.* "
   ]
  },
  {
   "cell_type": "code",
   "execution_count": 7,
   "id": "c4bba25c",
   "metadata": {},
   "outputs": [
    {
     "data": {
      "text/html": [
       "<div>\n",
       "<style scoped>\n",
       "    .dataframe tbody tr th:only-of-type {\n",
       "        vertical-align: middle;\n",
       "    }\n",
       "\n",
       "    .dataframe tbody tr th {\n",
       "        vertical-align: top;\n",
       "    }\n",
       "\n",
       "    .dataframe thead th {\n",
       "        text-align: right;\n",
       "    }\n",
       "</style>\n",
       "<table border=\"1\" class=\"dataframe\">\n",
       "  <thead>\n",
       "    <tr style=\"text-align: right;\">\n",
       "      <th></th>\n",
       "      <th>user_id</th>\n",
       "      <th>distance</th>\n",
       "      <th>duration</th>\n",
       "      <th>date</th>\n",
       "    </tr>\n",
       "  </thead>\n",
       "  <tbody>\n",
       "    <tr>\n",
       "      <th>0</th>\n",
       "      <td>1</td>\n",
       "      <td>4409.919140</td>\n",
       "      <td>25.599769</td>\n",
       "      <td>2021-01-01</td>\n",
       "    </tr>\n",
       "    <tr>\n",
       "      <th>1</th>\n",
       "      <td>1</td>\n",
       "      <td>2617.592153</td>\n",
       "      <td>15.816871</td>\n",
       "      <td>2021-01-18</td>\n",
       "    </tr>\n",
       "    <tr>\n",
       "      <th>2</th>\n",
       "      <td>1</td>\n",
       "      <td>754.159807</td>\n",
       "      <td>6.232113</td>\n",
       "      <td>2021-04-20</td>\n",
       "    </tr>\n",
       "    <tr>\n",
       "      <th>3</th>\n",
       "      <td>1</td>\n",
       "      <td>2694.783254</td>\n",
       "      <td>18.511000</td>\n",
       "      <td>2021-08-11</td>\n",
       "    </tr>\n",
       "    <tr>\n",
       "      <th>4</th>\n",
       "      <td>1</td>\n",
       "      <td>4028.687306</td>\n",
       "      <td>26.265803</td>\n",
       "      <td>2021-08-28</td>\n",
       "    </tr>\n",
       "    <tr>\n",
       "      <th>5</th>\n",
       "      <td>1</td>\n",
       "      <td>2770.890808</td>\n",
       "      <td>16.650138</td>\n",
       "      <td>2021-10-09</td>\n",
       "    </tr>\n",
       "    <tr>\n",
       "      <th>6</th>\n",
       "      <td>1</td>\n",
       "      <td>3039.020292</td>\n",
       "      <td>14.927879</td>\n",
       "      <td>2021-10-19</td>\n",
       "    </tr>\n",
       "    <tr>\n",
       "      <th>7</th>\n",
       "      <td>1</td>\n",
       "      <td>2842.118050</td>\n",
       "      <td>23.117468</td>\n",
       "      <td>2021-11-06</td>\n",
       "    </tr>\n",
       "    <tr>\n",
       "      <th>8</th>\n",
       "      <td>1</td>\n",
       "      <td>3412.690668</td>\n",
       "      <td>15.238072</td>\n",
       "      <td>2021-11-14</td>\n",
       "    </tr>\n",
       "    <tr>\n",
       "      <th>9</th>\n",
       "      <td>1</td>\n",
       "      <td>748.690645</td>\n",
       "      <td>15.041884</td>\n",
       "      <td>2021-11-22</td>\n",
       "    </tr>\n",
       "  </tbody>\n",
       "</table>\n",
       "</div>"
      ],
      "text/plain": [
       "   user_id     distance   duration       date\n",
       "0        1  4409.919140  25.599769 2021-01-01\n",
       "1        1  2617.592153  15.816871 2021-01-18\n",
       "2        1   754.159807   6.232113 2021-04-20\n",
       "3        1  2694.783254  18.511000 2021-08-11\n",
       "4        1  4028.687306  26.265803 2021-08-28\n",
       "5        1  2770.890808  16.650138 2021-10-09\n",
       "6        1  3039.020292  14.927879 2021-10-19\n",
       "7        1  2842.118050  23.117468 2021-11-06\n",
       "8        1  3412.690668  15.238072 2021-11-14\n",
       "9        1   748.690645  15.041884 2021-11-22"
      ]
     },
     "metadata": {},
     "output_type": "display_data"
    },
    {
     "name": "stdout",
     "output_type": "stream",
     "text": [
      "<class 'pandas.core.frame.DataFrame'>\n",
      "RangeIndex: 18068 entries, 0 to 18067\n",
      "Data columns (total 4 columns):\n",
      " #   Column    Non-Null Count  Dtype         \n",
      "---  ------    --------------  -----         \n",
      " 0   user_id   18068 non-null  int64         \n",
      " 1   distance  18068 non-null  float64       \n",
      " 2   duration  18068 non-null  float64       \n",
      " 3   date      18068 non-null  datetime64[ns]\n",
      "dtypes: datetime64[ns](1), float64(2), int64(1)\n",
      "memory usage: 564.8 KB\n"
     ]
    },
    {
     "data": {
      "text/plain": [
       "(None, None)"
      ]
     },
     "execution_count": 7,
     "metadata": {},
     "output_type": "execute_result"
    }
   ],
   "source": [
    "descr(rides_go)"
   ]
  },
  {
   "cell_type": "markdown",
   "id": "84e9251c",
   "metadata": {},
   "source": [
    "*При изучении первоначальной информации мы видим что данные в rides_go без пропусков, название колонок также соответствует.Также при загрузке привели столбец date к типу даты pandas.*"
   ]
  },
  {
   "cell_type": "code",
   "execution_count": 8,
   "id": "1e4e4580",
   "metadata": {
    "scrolled": true
   },
   "outputs": [
    {
     "data": {
      "text/html": [
       "<div>\n",
       "<style scoped>\n",
       "    .dataframe tbody tr th:only-of-type {\n",
       "        vertical-align: middle;\n",
       "    }\n",
       "\n",
       "    .dataframe tbody tr th {\n",
       "        vertical-align: top;\n",
       "    }\n",
       "\n",
       "    .dataframe thead th {\n",
       "        text-align: right;\n",
       "    }\n",
       "</style>\n",
       "<table border=\"1\" class=\"dataframe\">\n",
       "  <thead>\n",
       "    <tr style=\"text-align: right;\">\n",
       "      <th></th>\n",
       "      <th>subscription_type</th>\n",
       "      <th>minute_price</th>\n",
       "      <th>start_ride_price</th>\n",
       "      <th>subscription_fee</th>\n",
       "    </tr>\n",
       "  </thead>\n",
       "  <tbody>\n",
       "    <tr>\n",
       "      <th>0</th>\n",
       "      <td>free</td>\n",
       "      <td>8</td>\n",
       "      <td>50</td>\n",
       "      <td>0</td>\n",
       "    </tr>\n",
       "    <tr>\n",
       "      <th>1</th>\n",
       "      <td>ultra</td>\n",
       "      <td>6</td>\n",
       "      <td>0</td>\n",
       "      <td>199</td>\n",
       "    </tr>\n",
       "  </tbody>\n",
       "</table>\n",
       "</div>"
      ],
      "text/plain": [
       "  subscription_type  minute_price  start_ride_price  subscription_fee\n",
       "0              free             8                50                 0\n",
       "1             ultra             6                 0               199"
      ]
     },
     "metadata": {},
     "output_type": "display_data"
    },
    {
     "name": "stdout",
     "output_type": "stream",
     "text": [
      "<class 'pandas.core.frame.DataFrame'>\n",
      "RangeIndex: 2 entries, 0 to 1\n",
      "Data columns (total 4 columns):\n",
      " #   Column             Non-Null Count  Dtype \n",
      "---  ------             --------------  ----- \n",
      " 0   subscription_type  2 non-null      object\n",
      " 1   minute_price       2 non-null      int64 \n",
      " 2   start_ride_price   2 non-null      int64 \n",
      " 3   subscription_fee   2 non-null      int64 \n",
      "dtypes: int64(3), object(1)\n",
      "memory usage: 196.0+ bytes\n"
     ]
    },
    {
     "data": {
      "text/plain": [
       "(None, None)"
      ]
     },
     "execution_count": 8,
     "metadata": {},
     "output_type": "execute_result"
    }
   ],
   "source": [
    "descr(subscriptions_go)"
   ]
  },
  {
   "cell_type": "markdown",
   "id": "7a1fed79",
   "metadata": {},
   "source": [
    "*При изучении первоначальной информации мы видим что данные в subscriptions_go без пропусков, название колонок также соответствует*"
   ]
  },
  {
   "cell_type": "markdown",
   "id": "c26d5ddc",
   "metadata": {},
   "source": [
    "#### Шаг 2. Предобработка данных"
   ]
  },
  {
   "cell_type": "code",
   "execution_count": 9,
   "id": "9ff6a51d",
   "metadata": {
    "scrolled": true
   },
   "outputs": [
    {
     "data": {
      "text/html": [
       "<div>\n",
       "<style scoped>\n",
       "    .dataframe tbody tr th:only-of-type {\n",
       "        vertical-align: middle;\n",
       "    }\n",
       "\n",
       "    .dataframe tbody tr th {\n",
       "        vertical-align: top;\n",
       "    }\n",
       "\n",
       "    .dataframe thead th {\n",
       "        text-align: right;\n",
       "    }\n",
       "</style>\n",
       "<table border=\"1\" class=\"dataframe\">\n",
       "  <thead>\n",
       "    <tr style=\"text-align: right;\">\n",
       "      <th></th>\n",
       "      <th>user_id</th>\n",
       "      <th>distance</th>\n",
       "      <th>duration</th>\n",
       "      <th>date</th>\n",
       "      <th>number_month</th>\n",
       "    </tr>\n",
       "  </thead>\n",
       "  <tbody>\n",
       "    <tr>\n",
       "      <th>0</th>\n",
       "      <td>1</td>\n",
       "      <td>4409.919140</td>\n",
       "      <td>25.599769</td>\n",
       "      <td>2021-01-01</td>\n",
       "      <td>1</td>\n",
       "    </tr>\n",
       "    <tr>\n",
       "      <th>1</th>\n",
       "      <td>1</td>\n",
       "      <td>2617.592153</td>\n",
       "      <td>15.816871</td>\n",
       "      <td>2021-01-18</td>\n",
       "      <td>1</td>\n",
       "    </tr>\n",
       "    <tr>\n",
       "      <th>2</th>\n",
       "      <td>1</td>\n",
       "      <td>754.159807</td>\n",
       "      <td>6.232113</td>\n",
       "      <td>2021-04-20</td>\n",
       "      <td>4</td>\n",
       "    </tr>\n",
       "    <tr>\n",
       "      <th>3</th>\n",
       "      <td>1</td>\n",
       "      <td>2694.783254</td>\n",
       "      <td>18.511000</td>\n",
       "      <td>2021-08-11</td>\n",
       "      <td>8</td>\n",
       "    </tr>\n",
       "    <tr>\n",
       "      <th>4</th>\n",
       "      <td>1</td>\n",
       "      <td>4028.687306</td>\n",
       "      <td>26.265803</td>\n",
       "      <td>2021-08-28</td>\n",
       "      <td>8</td>\n",
       "    </tr>\n",
       "  </tbody>\n",
       "</table>\n",
       "</div>"
      ],
      "text/plain": [
       "   user_id     distance   duration       date  number_month\n",
       "0        1  4409.919140  25.599769 2021-01-01             1\n",
       "1        1  2617.592153  15.816871 2021-01-18             1\n",
       "2        1   754.159807   6.232113 2021-04-20             4\n",
       "3        1  2694.783254  18.511000 2021-08-11             8\n",
       "4        1  4028.687306  26.265803 2021-08-28             8"
      ]
     },
     "execution_count": 9,
     "metadata": {},
     "output_type": "execute_result"
    }
   ],
   "source": [
    "#создадим столбец с номеров месяцев:\n",
    "rides_go['number_month']= rides_go['date'].dt.month\n",
    "rides_go.head()"
   ]
  },
  {
   "cell_type": "code",
   "execution_count": 10,
   "id": "18532c30",
   "metadata": {},
   "outputs": [
    {
     "name": "stdout",
     "output_type": "stream",
     "text": [
      "Начало периода : 2021-01-01 00:00:00\n",
      "Конец периода: 2021-12-30 00:00:00\n"
     ]
    }
   ],
   "source": [
    "print('Начало периода :', rides_go['date'].min())\n",
    "print('Конец периода:', rides_go['date'].max())"
   ]
  },
  {
   "cell_type": "markdown",
   "id": "1123f489",
   "metadata": {},
   "source": [
    "Проверим на наличие пропусков и дубликатов.\n",
    "\n",
    "*При просмотре общей информации пропусков обнаружено не было. Перепроверим дополнительно а также проверим на наличие явных дубликатов*\n"
   ]
  },
  {
   "cell_type": "code",
   "execution_count": 11,
   "id": "b001daa4",
   "metadata": {},
   "outputs": [],
   "source": [
    "def control (df):\n",
    "    return  (df.isna().sum(), df.duplicated().sum())"
   ]
  },
  {
   "cell_type": "code",
   "execution_count": 12,
   "id": "14013c4b",
   "metadata": {},
   "outputs": [
    {
     "data": {
      "text/plain": [
       "(user_id              0\n",
       " name                 0\n",
       " age                  0\n",
       " city                 0\n",
       " subscription_type    0\n",
       " dtype: int64,\n",
       " 31)"
      ]
     },
     "execution_count": 12,
     "metadata": {},
     "output_type": "execute_result"
    }
   ],
   "source": [
    "control(users_go)"
   ]
  },
  {
   "cell_type": "code",
   "execution_count": 13,
   "id": "91edf270",
   "metadata": {},
   "outputs": [
    {
     "data": {
      "text/plain": [
       "0"
      ]
     },
     "execution_count": 13,
     "metadata": {},
     "output_type": "execute_result"
    }
   ],
   "source": [
    "#удалим дубликаты\n",
    "users_go.drop_duplicates(inplace = True)\n",
    "users_go.duplicated().sum()"
   ]
  },
  {
   "cell_type": "code",
   "execution_count": 14,
   "id": "87fefd57",
   "metadata": {
    "scrolled": true
   },
   "outputs": [
    {
     "data": {
      "text/plain": [
       "(user_id         0\n",
       " distance        0\n",
       " duration        0\n",
       " date            0\n",
       " number_month    0\n",
       " dtype: int64,\n",
       " 0)"
      ]
     },
     "execution_count": 14,
     "metadata": {},
     "output_type": "execute_result"
    }
   ],
   "source": [
    "control (rides_go)"
   ]
  },
  {
   "cell_type": "code",
   "execution_count": 15,
   "id": "a3aef95a",
   "metadata": {},
   "outputs": [
    {
     "data": {
      "text/plain": [
       "(subscription_type    0\n",
       " minute_price         0\n",
       " start_ride_price     0\n",
       " subscription_fee     0\n",
       " dtype: int64,\n",
       " 0)"
      ]
     },
     "execution_count": 15,
     "metadata": {},
     "output_type": "execute_result"
    }
   ],
   "source": [
    "control (subscriptions_go)"
   ]
  },
  {
   "cell_type": "markdown",
   "id": "cef98025",
   "metadata": {},
   "source": [
    "*Во втором шаге мы создали необходимый столбец обработали все три таблицы на наличие пропусков и дубликатов*"
   ]
  },
  {
   "cell_type": "markdown",
   "id": "c5a99c13",
   "metadata": {},
   "source": [
    "#### Шаг 3. Исследовательский анализ данных"
   ]
  },
  {
   "cell_type": "markdown",
   "id": "a9f11174",
   "metadata": {},
   "source": [
    "**Опишим общую информацию о пользователях и поездках:**\n",
    "- частота встречаемости городов;\n",
    "- соотношение пользователей с подпиской и без подписки;\n",
    "- возраст пользователей;\n",
    "- расстояние, которое пользователь преодолел за одну поездку;\n",
    "- продолжительность поездок."
   ]
  },
  {
   "cell_type": "markdown",
   "id": "561f9136",
   "metadata": {},
   "source": [
    "**Частота встречаемости городов**"
   ]
  },
  {
   "cell_type": "code",
   "execution_count": 16,
   "id": "06aa2150",
   "metadata": {
    "scrolled": false
   },
   "outputs": [
    {
     "data": {
      "text/html": [
       "<div>\n",
       "<style scoped>\n",
       "    .dataframe tbody tr th:only-of-type {\n",
       "        vertical-align: middle;\n",
       "    }\n",
       "\n",
       "    .dataframe tbody tr th {\n",
       "        vertical-align: top;\n",
       "    }\n",
       "\n",
       "    .dataframe thead th {\n",
       "        text-align: right;\n",
       "    }\n",
       "</style>\n",
       "<table border=\"1\" class=\"dataframe\">\n",
       "  <thead>\n",
       "    <tr style=\"text-align: right;\">\n",
       "      <th></th>\n",
       "      <th>user_id</th>\n",
       "    </tr>\n",
       "    <tr>\n",
       "      <th>city</th>\n",
       "      <th></th>\n",
       "    </tr>\n",
       "  </thead>\n",
       "  <tbody>\n",
       "    <tr>\n",
       "      <th>Пятигорск</th>\n",
       "      <td>219</td>\n",
       "    </tr>\n",
       "    <tr>\n",
       "      <th>Екатеринбург</th>\n",
       "      <td>204</td>\n",
       "    </tr>\n",
       "    <tr>\n",
       "      <th>Ростов-на-Дону</th>\n",
       "      <td>198</td>\n",
       "    </tr>\n",
       "    <tr>\n",
       "      <th>Краснодар</th>\n",
       "      <td>193</td>\n",
       "    </tr>\n",
       "    <tr>\n",
       "      <th>Сочи</th>\n",
       "      <td>189</td>\n",
       "    </tr>\n",
       "    <tr>\n",
       "      <th>Омск</th>\n",
       "      <td>183</td>\n",
       "    </tr>\n",
       "    <tr>\n",
       "      <th>Тюмень</th>\n",
       "      <td>180</td>\n",
       "    </tr>\n",
       "    <tr>\n",
       "      <th>Москва</th>\n",
       "      <td>168</td>\n",
       "    </tr>\n",
       "  </tbody>\n",
       "</table>\n",
       "</div>"
      ],
      "text/plain": [
       "                user_id\n",
       "city                   \n",
       "Пятигорск           219\n",
       "Екатеринбург        204\n",
       "Ростов-на-Дону      198\n",
       "Краснодар           193\n",
       "Сочи                189\n",
       "Омск                183\n",
       "Тюмень              180\n",
       "Москва              168"
      ]
     },
     "execution_count": 16,
     "metadata": {},
     "output_type": "execute_result"
    }
   ],
   "source": [
    "# Cгруппируем пользователей по городам\n",
    "city_users = users_go.pivot_table(index ='city', values = 'user_id', aggfunc ='count').sort_values(by='user_id', ascending = False)\n",
    "city_users"
   ]
  },
  {
   "cell_type": "code",
   "execution_count": 17,
   "id": "a233fb3c",
   "metadata": {},
   "outputs": [
    {
     "data": {
      "text/plain": [
       "city\n",
       "Пятигорск         219\n",
       "Екатеринбург      204\n",
       "Ростов-на-Дону    198\n",
       "Краснодар         193\n",
       "Сочи              189\n",
       "Омск              183\n",
       "Тюмень            180\n",
       "Москва            168\n",
       "Name: count, dtype: int64"
      ]
     },
     "execution_count": 17,
     "metadata": {},
     "output_type": "execute_result"
    }
   ],
   "source": [
    "users_go['city'].value_counts().sort_values(ascending=False)"
   ]
  },
  {
   "cell_type": "code",
   "execution_count": 18,
   "id": "9d96272c",
   "metadata": {},
   "outputs": [
    {
     "data": {
      "image/png": "[encoded data removed]",
      "text/plain": [
       "<Figure size 800x800 with 1 Axes>"
      ]
     },
     "metadata": {},
     "output_type": "display_data"
    }
   ],
   "source": [
    "# для визуализации лучше всего нам подойдет гистограмма в количественоом выражении и круговая диаграмма в процентном\n",
    "city_users.plot(kind='barh', figsize=(8, 8), title='Частота встречаемости городов', ec = 'black', grid=True)\n",
    "plt.xlabel('Количество пользователей')\n",
    "plt.ylabel('Города')\n",
    "plt.show()"
   ]
  },
  {
   "cell_type": "code",
   "execution_count": 19,
   "id": "9e6ac0e5",
   "metadata": {
    "scrolled": true
   },
   "outputs": [
    {
     "data": {
      "image/png": "[encoded data removed]",
      "text/plain": [
       "<Figure size 600x600 with 1 Axes>"
      ]
     },
     "metadata": {},
     "output_type": "display_data"
    }
   ],
   "source": [
    "users_go['city'].value_counts().plot(\n",
    "    kind = 'pie', y = city_users, autopct = '%1.0f%%', label='',\n",
    "    figsize=(6,6), title = 'Частота встречаемости городов в %')\n",
    "plt.show()"
   ]
  },
  {
   "cell_type": "markdown",
   "id": "b84fcc06",
   "metadata": {},
   "source": [
    "Выводы\n",
    "\n",
    "*В процентном соотношении присутствие в различных городах распределено практически равномерно. В количественном, странным образом, Москва на последнем месте. Видимо это связано с огромной конкуренцией и меньшей представленностью сервиса в Москве* "
   ]
  },
  {
   "cell_type": "markdown",
   "id": "af9a4722",
   "metadata": {},
   "source": [
    "**Соотношение пользователей с подпиской и без подписки**"
   ]
  },
  {
   "cell_type": "code",
   "execution_count": 20,
   "id": "1fa26bea",
   "metadata": {},
   "outputs": [
    {
     "name": "stdout",
     "output_type": "stream",
     "text": [
      "subscription_type\n",
      "free     835\n",
      "ultra    699\n",
      "Name: count, dtype: int64\n"
     ]
    }
   ],
   "source": [
    "print(users_go['subscription_type'].value_counts())"
   ]
  },
  {
   "cell_type": "code",
   "execution_count": 21,
   "id": "c95773c3",
   "metadata": {
    "scrolled": true
   },
   "outputs": [
    {
     "data": {
      "image/png": "[encoded data removed]",
      "text/plain": [
       "<Figure size 600x600 with 1 Axes>"
      ]
     },
     "metadata": {},
     "output_type": "display_data"
    }
   ],
   "source": [
    "users_go['subscription_type'].value_counts().plot(\n",
    "    kind = 'pie', autopct = '%1.0f%%', figsize=(6,6), label='',\n",
    "    title = 'Cоотношение пользователей с подпиской и без подписки');\n",
    "plt.show()"
   ]
  },
  {
   "cell_type": "markdown",
   "id": "ad33103c",
   "metadata": {},
   "source": [
    "Выводы\n",
    "\n",
    "*Количество пользователей с подпиской ultra составляет 46% от общего количества, что является хорошим показателем*"
   ]
  },
  {
   "cell_type": "markdown",
   "id": "5eda8336",
   "metadata": {},
   "source": [
    "**Возраст пользователей**"
   ]
  },
  {
   "cell_type": "code",
   "execution_count": 22,
   "id": "89d3653d",
   "metadata": {},
   "outputs": [
    {
     "name": "stdout",
     "output_type": "stream",
     "text": [
      "count    1534.000000\n",
      "mean       24.903520\n",
      "std         4.572367\n",
      "min        12.000000\n",
      "25%        22.000000\n",
      "50%        25.000000\n",
      "75%        28.000000\n",
      "max        43.000000\n",
      "Name: age, dtype: float64\n",
      "age\n",
      "25    145\n",
      "24    132\n",
      "26    131\n",
      "23    129\n",
      "22    119\n",
      "27    119\n",
      "28    112\n",
      "21     93\n",
      "20     71\n",
      "30     68\n",
      "29     68\n",
      "31     48\n",
      "19     47\n",
      "18     46\n",
      "32     41\n",
      "33     39\n",
      "17     26\n",
      "16     19\n",
      "34     19\n",
      "35     15\n",
      "15     13\n",
      "14      9\n",
      "13      8\n",
      "36      6\n",
      "12      4\n",
      "38      3\n",
      "37      2\n",
      "39      1\n",
      "43      1\n",
      "Name: count, dtype: int64\n"
     ]
    },
    {
     "data": {
      "text/plain": [
       "25"
      ]
     },
     "execution_count": 22,
     "metadata": {},
     "output_type": "execute_result"
    }
   ],
   "source": [
    "print(users_go['age'].describe())\n",
    "print(users_go['age'].value_counts())\n",
    "users_go['age'].mode()[0]"
   ]
  },
  {
   "cell_type": "code",
   "execution_count": 23,
   "id": "6d20610b",
   "metadata": {},
   "outputs": [
    {
     "data": {
      "image/png": "[encoded data removed]",
      "text/plain": [
       "<Figure size 800x600 with 1 Axes>"
      ]
     },
     "metadata": {},
     "output_type": "display_data"
    }
   ],
   "source": [
    "users_go['age'].hist( bins = 30, grid=True,ec='black', figsize = (8,6))\n",
    "plt.title('Возраст пользователей')\n",
    "plt.xlabel('Возвраст')\n",
    "plt.ylabel('Количество пользователей')\n",
    "plt.show()"
   ]
  },
  {
   "cell_type": "markdown",
   "id": "82a50f59",
   "metadata": {},
   "source": [
    "Выводы\n",
    "\n",
    "*Всего сервисом GoFast воспользовались 1534. Среднее, медиана и мода показывают нам на то,  что в основном сервисом пользуються 25-летние, минимальный возвраст 12 лет, максимальный 43*"
   ]
  },
  {
   "cell_type": "markdown",
   "id": "e8c5eeef",
   "metadata": {},
   "source": [
    "**Расстояние, которое пользователь преодолел за одну поездку**"
   ]
  },
  {
   "cell_type": "code",
   "execution_count": 24,
   "id": "271e9d54",
   "metadata": {},
   "outputs": [
    {
     "data": {
      "text/html": [
       "<div>\n",
       "<style scoped>\n",
       "    .dataframe tbody tr th:only-of-type {\n",
       "        vertical-align: middle;\n",
       "    }\n",
       "\n",
       "    .dataframe tbody tr th {\n",
       "        vertical-align: top;\n",
       "    }\n",
       "\n",
       "    .dataframe thead th {\n",
       "        text-align: right;\n",
       "    }\n",
       "</style>\n",
       "<table border=\"1\" class=\"dataframe\">\n",
       "  <thead>\n",
       "    <tr style=\"text-align: right;\">\n",
       "      <th></th>\n",
       "      <th>user_id</th>\n",
       "      <th>distance</th>\n",
       "      <th>duration</th>\n",
       "      <th>date</th>\n",
       "      <th>number_month</th>\n",
       "    </tr>\n",
       "  </thead>\n",
       "  <tbody>\n",
       "    <tr>\n",
       "      <th>18058</th>\n",
       "      <td>1534</td>\n",
       "      <td>195.447469</td>\n",
       "      <td>6.469074</td>\n",
       "      <td>2021-06-11</td>\n",
       "      <td>6</td>\n",
       "    </tr>\n",
       "    <tr>\n",
       "      <th>18059</th>\n",
       "      <td>1534</td>\n",
       "      <td>3214.021065</td>\n",
       "      <td>18.343604</td>\n",
       "      <td>2021-06-18</td>\n",
       "      <td>6</td>\n",
       "    </tr>\n",
       "    <tr>\n",
       "      <th>18060</th>\n",
       "      <td>1534</td>\n",
       "      <td>3644.708038</td>\n",
       "      <td>20.289416</td>\n",
       "      <td>2021-08-08</td>\n",
       "      <td>8</td>\n",
       "    </tr>\n",
       "    <tr>\n",
       "      <th>18061</th>\n",
       "      <td>1534</td>\n",
       "      <td>3977.744996</td>\n",
       "      <td>26.916544</td>\n",
       "      <td>2021-08-20</td>\n",
       "      <td>8</td>\n",
       "    </tr>\n",
       "    <tr>\n",
       "      <th>18062</th>\n",
       "      <td>1534</td>\n",
       "      <td>4928.173852</td>\n",
       "      <td>22.560373</td>\n",
       "      <td>2021-09-13</td>\n",
       "      <td>9</td>\n",
       "    </tr>\n",
       "    <tr>\n",
       "      <th>18063</th>\n",
       "      <td>1534</td>\n",
       "      <td>3781.098080</td>\n",
       "      <td>19.822962</td>\n",
       "      <td>2021-11-04</td>\n",
       "      <td>11</td>\n",
       "    </tr>\n",
       "    <tr>\n",
       "      <th>18064</th>\n",
       "      <td>1534</td>\n",
       "      <td>2840.423057</td>\n",
       "      <td>21.409799</td>\n",
       "      <td>2021-11-16</td>\n",
       "      <td>11</td>\n",
       "    </tr>\n",
       "    <tr>\n",
       "      <th>18065</th>\n",
       "      <td>1534</td>\n",
       "      <td>3826.185507</td>\n",
       "      <td>18.435051</td>\n",
       "      <td>2021-11-18</td>\n",
       "      <td>11</td>\n",
       "    </tr>\n",
       "    <tr>\n",
       "      <th>18066</th>\n",
       "      <td>1534</td>\n",
       "      <td>2902.308661</td>\n",
       "      <td>16.674362</td>\n",
       "      <td>2021-11-27</td>\n",
       "      <td>11</td>\n",
       "    </tr>\n",
       "    <tr>\n",
       "      <th>18067</th>\n",
       "      <td>1534</td>\n",
       "      <td>2371.711192</td>\n",
       "      <td>15.893917</td>\n",
       "      <td>2021-12-29</td>\n",
       "      <td>12</td>\n",
       "    </tr>\n",
       "  </tbody>\n",
       "</table>\n",
       "</div>"
      ],
      "text/plain": [
       "       user_id     distance   duration       date  number_month\n",
       "18058     1534   195.447469   6.469074 2021-06-11             6\n",
       "18059     1534  3214.021065  18.343604 2021-06-18             6\n",
       "18060     1534  3644.708038  20.289416 2021-08-08             8\n",
       "18061     1534  3977.744996  26.916544 2021-08-20             8\n",
       "18062     1534  4928.173852  22.560373 2021-09-13             9\n",
       "18063     1534  3781.098080  19.822962 2021-11-04            11\n",
       "18064     1534  2840.423057  21.409799 2021-11-16            11\n",
       "18065     1534  3826.185507  18.435051 2021-11-18            11\n",
       "18066     1534  2902.308661  16.674362 2021-11-27            11\n",
       "18067     1534  2371.711192  15.893917 2021-12-29            12"
      ]
     },
     "execution_count": 24,
     "metadata": {},
     "output_type": "execute_result"
    }
   ],
   "source": [
    "rides_go.tail(10)"
   ]
  },
  {
   "cell_type": "code",
   "execution_count": 25,
   "id": "6f6665e9",
   "metadata": {},
   "outputs": [
    {
     "data": {
      "text/plain": [
       "count    18068.000000\n",
       "mean      3070.659976\n",
       "std       1116.831209\n",
       "min          0.855683\n",
       "25%       2543.226360\n",
       "50%       3133.609994\n",
       "75%       3776.222735\n",
       "max       7211.007745\n",
       "Name: distance, dtype: float64"
      ]
     },
     "execution_count": 25,
     "metadata": {},
     "output_type": "execute_result"
    }
   ],
   "source": [
    "rides_go['distance'].describe()"
   ]
  },
  {
   "cell_type": "code",
   "execution_count": 26,
   "id": "b3a72c7c",
   "metadata": {},
   "outputs": [
    {
     "data": {
      "image/png": "[encoded data removed]",
      "text/plain": [
       "<Figure size 800x600 with 1 Axes>"
      ]
     },
     "metadata": {},
     "output_type": "display_data"
    }
   ],
   "source": [
    "rides_go['distance'].hist( bins = 50, grid=True, ec='black', figsize = (8,6))\n",
    "plt.title('Расстояние, которое пользователь преодолел за одну поездку')\n",
    "plt.xlabel('Растояние')\n",
    "plt.ylabel('Количество поездок')\n",
    "plt.show()"
   ]
  },
  {
   "cell_type": "markdown",
   "id": "c77d817a",
   "metadata": {},
   "source": [
    "Выводы\n",
    "\n",
    "*Мы видим, что пользователи сервиса, в среднем за одну поездку проезжают 3000-3200 метров. Также есть значения близки к нулю, скорее всего это связано с тем, что пользователь не умеет ездить на самокате и не смог преодолеть страх поездки* "
   ]
  },
  {
   "cell_type": "markdown",
   "id": "1a9e9f5f",
   "metadata": {},
   "source": [
    "**Продолжительность поездок**"
   ]
  },
  {
   "cell_type": "code",
   "execution_count": 27,
   "id": "c7355cc0",
   "metadata": {},
   "outputs": [
    {
     "data": {
      "text/plain": [
       "count    18068.000000\n",
       "mean        17.805011\n",
       "std          6.091051\n",
       "min          0.500000\n",
       "25%         13.597563\n",
       "50%         17.678395\n",
       "75%         21.724800\n",
       "max         40.823963\n",
       "Name: duration, dtype: float64"
      ]
     },
     "execution_count": 27,
     "metadata": {},
     "output_type": "execute_result"
    }
   ],
   "source": [
    "rides_go['duration'].describe()"
   ]
  },
  {
   "cell_type": "code",
   "execution_count": 28,
   "id": "160b1806",
   "metadata": {},
   "outputs": [
    {
     "data": {
      "image/png": "[encoded data removed]",
      "text/plain": [
       "<Figure size 800x600 with 1 Axes>"
      ]
     },
     "metadata": {},
     "output_type": "display_data"
    }
   ],
   "source": [
    "rides_go['duration'].hist( bins = 50, grid=True, ec='black', figsize = (8,6))\n",
    "plt.title('Продолжительность поездок')\n",
    "plt.xlabel('Длительность одной поездки')\n",
    "plt.ylabel('Количество поездок')\n",
    "plt.show()"
   ]
  },
  {
   "cell_type": "code",
   "execution_count": 29,
   "id": "79a24f5e",
   "metadata": {},
   "outputs": [
    {
     "data": {
      "text/plain": [
       "12013     0.500000\n",
       "17314     0.500000\n",
       "15029     0.500000\n",
       "7437      0.500000\n",
       "12967     0.500000\n",
       "           ...    \n",
       "6453     38.265229\n",
       "1998     38.352763\n",
       "2623     39.526602\n",
       "4709     39.873856\n",
       "4215     40.823963\n",
       "Name: duration, Length: 18068, dtype: float64"
      ]
     },
     "execution_count": 29,
     "metadata": {},
     "output_type": "execute_result"
    }
   ],
   "source": [
    "rides_go['duration'].sort_values()"
   ]
  },
  {
   "cell_type": "markdown",
   "id": "e047ef4a",
   "metadata": {},
   "source": [
    "Построим \"ящик с усами\" для определения аномалий"
   ]
  },
  {
   "cell_type": "code",
   "execution_count": 30,
   "id": "36dfa42c",
   "metadata": {},
   "outputs": [
    {
     "data": {
      "text/plain": [
       "<function matplotlib.pyplot.show(close=None, block=None)>"
      ]
     },
     "execution_count": 30,
     "metadata": {},
     "output_type": "execute_result"
    },
    {
     "data": {
      "image/png": "[encoded data removed]",
      "text/plain": [
       "<Figure size 640x480 with 1 Axes>"
      ]
     },
     "metadata": {},
     "output_type": "display_data"
    }
   ],
   "source": [
    "sns.boxplot(x=rides_go['duration'], color='green')\n",
    "plt.title('Продолжительность поездок')\n",
    "plt.xlabel('Длительность одной поездки')\n",
    "plt.show\n"
   ]
  },
  {
   "cell_type": "markdown",
   "id": "76333361",
   "metadata": {},
   "source": [
    "Выводы\n",
    "\n",
    "*Длительность поездки составляет от 0,5 до 40 минут. Такой короткий интервал времени скорее всего (как писалось выше) связан со страхом пользователя использовать самокат. Средние как и медиана составляет почти 18 минут.*"
   ]
  },
  {
   "cell_type": "markdown",
   "id": "95339a49",
   "metadata": {},
   "source": [
    "#### Шаг 4. Объединение данных"
   ]
  },
  {
   "cell_type": "markdown",
   "id": "6fc5516c",
   "metadata": {},
   "source": [
    "**Объединим данные о пользователях, поездках и подписках в один датафрейм**"
   ]
  },
  {
   "cell_type": "code",
   "execution_count": 31,
   "id": "58aba1f9",
   "metadata": {
    "scrolled": true
   },
   "outputs": [
    {
     "data": {
      "text/html": [
       "<div>\n",
       "<style scoped>\n",
       "    .dataframe tbody tr th:only-of-type {\n",
       "        vertical-align: middle;\n",
       "    }\n",
       "\n",
       "    .dataframe tbody tr th {\n",
       "        vertical-align: top;\n",
       "    }\n",
       "\n",
       "    .dataframe thead th {\n",
       "        text-align: right;\n",
       "    }\n",
       "</style>\n",
       "<table border=\"1\" class=\"dataframe\">\n",
       "  <thead>\n",
       "    <tr style=\"text-align: right;\">\n",
       "      <th></th>\n",
       "      <th>user_id</th>\n",
       "      <th>name</th>\n",
       "      <th>age</th>\n",
       "      <th>city</th>\n",
       "      <th>subscription_type</th>\n",
       "      <th>distance</th>\n",
       "      <th>duration</th>\n",
       "      <th>date</th>\n",
       "      <th>number_month</th>\n",
       "      <th>minute_price</th>\n",
       "      <th>start_ride_price</th>\n",
       "      <th>subscription_fee</th>\n",
       "    </tr>\n",
       "  </thead>\n",
       "  <tbody>\n",
       "    <tr>\n",
       "      <th>0</th>\n",
       "      <td>1</td>\n",
       "      <td>Кира</td>\n",
       "      <td>22</td>\n",
       "      <td>Тюмень</td>\n",
       "      <td>ultra</td>\n",
       "      <td>4409.919140</td>\n",
       "      <td>25.599769</td>\n",
       "      <td>2021-01-01</td>\n",
       "      <td>1</td>\n",
       "      <td>6</td>\n",
       "      <td>0</td>\n",
       "      <td>199</td>\n",
       "    </tr>\n",
       "    <tr>\n",
       "      <th>1</th>\n",
       "      <td>1</td>\n",
       "      <td>Кира</td>\n",
       "      <td>22</td>\n",
       "      <td>Тюмень</td>\n",
       "      <td>ultra</td>\n",
       "      <td>2617.592153</td>\n",
       "      <td>15.816871</td>\n",
       "      <td>2021-01-18</td>\n",
       "      <td>1</td>\n",
       "      <td>6</td>\n",
       "      <td>0</td>\n",
       "      <td>199</td>\n",
       "    </tr>\n",
       "    <tr>\n",
       "      <th>2</th>\n",
       "      <td>1</td>\n",
       "      <td>Кира</td>\n",
       "      <td>22</td>\n",
       "      <td>Тюмень</td>\n",
       "      <td>ultra</td>\n",
       "      <td>754.159807</td>\n",
       "      <td>6.232113</td>\n",
       "      <td>2021-04-20</td>\n",
       "      <td>4</td>\n",
       "      <td>6</td>\n",
       "      <td>0</td>\n",
       "      <td>199</td>\n",
       "    </tr>\n",
       "    <tr>\n",
       "      <th>3</th>\n",
       "      <td>1</td>\n",
       "      <td>Кира</td>\n",
       "      <td>22</td>\n",
       "      <td>Тюмень</td>\n",
       "      <td>ultra</td>\n",
       "      <td>2694.783254</td>\n",
       "      <td>18.511000</td>\n",
       "      <td>2021-08-11</td>\n",
       "      <td>8</td>\n",
       "      <td>6</td>\n",
       "      <td>0</td>\n",
       "      <td>199</td>\n",
       "    </tr>\n",
       "    <tr>\n",
       "      <th>4</th>\n",
       "      <td>1</td>\n",
       "      <td>Кира</td>\n",
       "      <td>22</td>\n",
       "      <td>Тюмень</td>\n",
       "      <td>ultra</td>\n",
       "      <td>4028.687306</td>\n",
       "      <td>26.265803</td>\n",
       "      <td>2021-08-28</td>\n",
       "      <td>8</td>\n",
       "      <td>6</td>\n",
       "      <td>0</td>\n",
       "      <td>199</td>\n",
       "    </tr>\n",
       "    <tr>\n",
       "      <th>5</th>\n",
       "      <td>1</td>\n",
       "      <td>Кира</td>\n",
       "      <td>22</td>\n",
       "      <td>Тюмень</td>\n",
       "      <td>ultra</td>\n",
       "      <td>2770.890808</td>\n",
       "      <td>16.650138</td>\n",
       "      <td>2021-10-09</td>\n",
       "      <td>10</td>\n",
       "      <td>6</td>\n",
       "      <td>0</td>\n",
       "      <td>199</td>\n",
       "    </tr>\n",
       "    <tr>\n",
       "      <th>6</th>\n",
       "      <td>1</td>\n",
       "      <td>Кира</td>\n",
       "      <td>22</td>\n",
       "      <td>Тюмень</td>\n",
       "      <td>ultra</td>\n",
       "      <td>3039.020292</td>\n",
       "      <td>14.927879</td>\n",
       "      <td>2021-10-19</td>\n",
       "      <td>10</td>\n",
       "      <td>6</td>\n",
       "      <td>0</td>\n",
       "      <td>199</td>\n",
       "    </tr>\n",
       "    <tr>\n",
       "      <th>7</th>\n",
       "      <td>1</td>\n",
       "      <td>Кира</td>\n",
       "      <td>22</td>\n",
       "      <td>Тюмень</td>\n",
       "      <td>ultra</td>\n",
       "      <td>2842.118050</td>\n",
       "      <td>23.117468</td>\n",
       "      <td>2021-11-06</td>\n",
       "      <td>11</td>\n",
       "      <td>6</td>\n",
       "      <td>0</td>\n",
       "      <td>199</td>\n",
       "    </tr>\n",
       "    <tr>\n",
       "      <th>8</th>\n",
       "      <td>1</td>\n",
       "      <td>Кира</td>\n",
       "      <td>22</td>\n",
       "      <td>Тюмень</td>\n",
       "      <td>ultra</td>\n",
       "      <td>3412.690668</td>\n",
       "      <td>15.238072</td>\n",
       "      <td>2021-11-14</td>\n",
       "      <td>11</td>\n",
       "      <td>6</td>\n",
       "      <td>0</td>\n",
       "      <td>199</td>\n",
       "    </tr>\n",
       "    <tr>\n",
       "      <th>9</th>\n",
       "      <td>1</td>\n",
       "      <td>Кира</td>\n",
       "      <td>22</td>\n",
       "      <td>Тюмень</td>\n",
       "      <td>ultra</td>\n",
       "      <td>748.690645</td>\n",
       "      <td>15.041884</td>\n",
       "      <td>2021-11-22</td>\n",
       "      <td>11</td>\n",
       "      <td>6</td>\n",
       "      <td>0</td>\n",
       "      <td>199</td>\n",
       "    </tr>\n",
       "  </tbody>\n",
       "</table>\n",
       "</div>"
      ],
      "text/plain": [
       "   user_id  name  age    city subscription_type     distance   duration  \\\n",
       "0        1  Кира   22  Тюмень             ultra  4409.919140  25.599769   \n",
       "1        1  Кира   22  Тюмень             ultra  2617.592153  15.816871   \n",
       "2        1  Кира   22  Тюмень             ultra   754.159807   6.232113   \n",
       "3        1  Кира   22  Тюмень             ultra  2694.783254  18.511000   \n",
       "4        1  Кира   22  Тюмень             ultra  4028.687306  26.265803   \n",
       "5        1  Кира   22  Тюмень             ultra  2770.890808  16.650138   \n",
       "6        1  Кира   22  Тюмень             ultra  3039.020292  14.927879   \n",
       "7        1  Кира   22  Тюмень             ultra  2842.118050  23.117468   \n",
       "8        1  Кира   22  Тюмень             ultra  3412.690668  15.238072   \n",
       "9        1  Кира   22  Тюмень             ultra   748.690645  15.041884   \n",
       "\n",
       "        date  number_month  minute_price  start_ride_price  subscription_fee  \n",
       "0 2021-01-01             1             6                 0               199  \n",
       "1 2021-01-18             1             6                 0               199  \n",
       "2 2021-04-20             4             6                 0               199  \n",
       "3 2021-08-11             8             6                 0               199  \n",
       "4 2021-08-28             8             6                 0               199  \n",
       "5 2021-10-09            10             6                 0               199  \n",
       "6 2021-10-19            10             6                 0               199  \n",
       "7 2021-11-06            11             6                 0               199  \n",
       "8 2021-11-14            11             6                 0               199  \n",
       "9 2021-11-22            11             6                 0               199  "
      ]
     },
     "execution_count": 31,
     "metadata": {},
     "output_type": "execute_result"
    }
   ],
   "source": [
    "data_go = users_go.merge(rides_go, on='user_id').merge(subscriptions_go, on='subscription_type')\n",
    "data_go.head(10)"
   ]
  },
  {
   "cell_type": "code",
   "execution_count": 32,
   "id": "6ca529ce",
   "metadata": {},
   "outputs": [
    {
     "name": "stdout",
     "output_type": "stream",
     "text": [
      "Количество строк в rides_go: 18068\n",
      "Количество строк в data_go: 18068\n",
      "\n",
      "Количество пользователей в users_go: 1534\n",
      "Количество пользователей в data_go: 1534\n"
     ]
    }
   ],
   "source": [
    "print('Количество строк в rides_go:', rides_go['user_id'].count())\n",
    "print('Количество строк в data_go:', data_go['user_id'].count())\n",
    "print()\n",
    "print('Количество пользователей в users_go:', len(users_go['user_id'].unique()))\n",
    "print('Количество пользователей в data_go:', len(data_go['user_id'].unique()))"
   ]
  },
  {
   "cell_type": "markdown",
   "id": "4641ae52",
   "metadata": {},
   "source": [
    "**Создайте ещё два датафрейма из датафрейма:**\n",
    "- c данными о пользователях без подписки;\n",
    "- с данными о пользователях с подпиской."
   ]
  },
  {
   "cell_type": "code",
   "execution_count": 33,
   "id": "5c2d2cb9",
   "metadata": {
    "scrolled": true
   },
   "outputs": [
    {
     "data": {
      "text/html": [
       "<div>\n",
       "<style scoped>\n",
       "    .dataframe tbody tr th:only-of-type {\n",
       "        vertical-align: middle;\n",
       "    }\n",
       "\n",
       "    .dataframe tbody tr th {\n",
       "        vertical-align: top;\n",
       "    }\n",
       "\n",
       "    .dataframe thead th {\n",
       "        text-align: right;\n",
       "    }\n",
       "</style>\n",
       "<table border=\"1\" class=\"dataframe\">\n",
       "  <thead>\n",
       "    <tr style=\"text-align: right;\">\n",
       "      <th></th>\n",
       "      <th>user_id</th>\n",
       "      <th>name</th>\n",
       "      <th>age</th>\n",
       "      <th>city</th>\n",
       "      <th>subscription_type</th>\n",
       "      <th>distance</th>\n",
       "      <th>duration</th>\n",
       "      <th>date</th>\n",
       "      <th>number_month</th>\n",
       "      <th>minute_price</th>\n",
       "      <th>start_ride_price</th>\n",
       "      <th>subscription_fee</th>\n",
       "    </tr>\n",
       "  </thead>\n",
       "  <tbody>\n",
       "    <tr>\n",
       "      <th>6500</th>\n",
       "      <td>700</td>\n",
       "      <td>Айдар</td>\n",
       "      <td>22</td>\n",
       "      <td>Омск</td>\n",
       "      <td>free</td>\n",
       "      <td>2515.690719</td>\n",
       "      <td>14.944286</td>\n",
       "      <td>2021-01-02</td>\n",
       "      <td>1</td>\n",
       "      <td>8</td>\n",
       "      <td>50</td>\n",
       "      <td>0</td>\n",
       "    </tr>\n",
       "    <tr>\n",
       "      <th>6501</th>\n",
       "      <td>700</td>\n",
       "      <td>Айдар</td>\n",
       "      <td>22</td>\n",
       "      <td>Омск</td>\n",
       "      <td>free</td>\n",
       "      <td>846.932642</td>\n",
       "      <td>16.234663</td>\n",
       "      <td>2021-02-01</td>\n",
       "      <td>2</td>\n",
       "      <td>8</td>\n",
       "      <td>50</td>\n",
       "      <td>0</td>\n",
       "    </tr>\n",
       "    <tr>\n",
       "      <th>6502</th>\n",
       "      <td>700</td>\n",
       "      <td>Айдар</td>\n",
       "      <td>22</td>\n",
       "      <td>Омск</td>\n",
       "      <td>free</td>\n",
       "      <td>4004.434142</td>\n",
       "      <td>20.016628</td>\n",
       "      <td>2021-02-04</td>\n",
       "      <td>2</td>\n",
       "      <td>8</td>\n",
       "      <td>50</td>\n",
       "      <td>0</td>\n",
       "    </tr>\n",
       "    <tr>\n",
       "      <th>6503</th>\n",
       "      <td>700</td>\n",
       "      <td>Айдар</td>\n",
       "      <td>22</td>\n",
       "      <td>Омск</td>\n",
       "      <td>free</td>\n",
       "      <td>1205.911290</td>\n",
       "      <td>9.782872</td>\n",
       "      <td>2021-02-10</td>\n",
       "      <td>2</td>\n",
       "      <td>8</td>\n",
       "      <td>50</td>\n",
       "      <td>0</td>\n",
       "    </tr>\n",
       "    <tr>\n",
       "      <th>6504</th>\n",
       "      <td>700</td>\n",
       "      <td>Айдар</td>\n",
       "      <td>22</td>\n",
       "      <td>Омск</td>\n",
       "      <td>free</td>\n",
       "      <td>3047.379435</td>\n",
       "      <td>17.427673</td>\n",
       "      <td>2021-02-14</td>\n",
       "      <td>2</td>\n",
       "      <td>8</td>\n",
       "      <td>50</td>\n",
       "      <td>0</td>\n",
       "    </tr>\n",
       "    <tr>\n",
       "      <th>6505</th>\n",
       "      <td>700</td>\n",
       "      <td>Айдар</td>\n",
       "      <td>22</td>\n",
       "      <td>Омск</td>\n",
       "      <td>free</td>\n",
       "      <td>4342.002254</td>\n",
       "      <td>22.368009</td>\n",
       "      <td>2021-02-23</td>\n",
       "      <td>2</td>\n",
       "      <td>8</td>\n",
       "      <td>50</td>\n",
       "      <td>0</td>\n",
       "    </tr>\n",
       "    <tr>\n",
       "      <th>6506</th>\n",
       "      <td>700</td>\n",
       "      <td>Айдар</td>\n",
       "      <td>22</td>\n",
       "      <td>Омск</td>\n",
       "      <td>free</td>\n",
       "      <td>3798.334905</td>\n",
       "      <td>18.243756</td>\n",
       "      <td>2021-03-03</td>\n",
       "      <td>3</td>\n",
       "      <td>8</td>\n",
       "      <td>50</td>\n",
       "      <td>0</td>\n",
       "    </tr>\n",
       "    <tr>\n",
       "      <th>6507</th>\n",
       "      <td>700</td>\n",
       "      <td>Айдар</td>\n",
       "      <td>22</td>\n",
       "      <td>Омск</td>\n",
       "      <td>free</td>\n",
       "      <td>2984.551206</td>\n",
       "      <td>15.424899</td>\n",
       "      <td>2021-04-09</td>\n",
       "      <td>4</td>\n",
       "      <td>8</td>\n",
       "      <td>50</td>\n",
       "      <td>0</td>\n",
       "    </tr>\n",
       "    <tr>\n",
       "      <th>6508</th>\n",
       "      <td>700</td>\n",
       "      <td>Айдар</td>\n",
       "      <td>22</td>\n",
       "      <td>Омск</td>\n",
       "      <td>free</td>\n",
       "      <td>3360.107141</td>\n",
       "      <td>16.765497</td>\n",
       "      <td>2021-06-12</td>\n",
       "      <td>6</td>\n",
       "      <td>8</td>\n",
       "      <td>50</td>\n",
       "      <td>0</td>\n",
       "    </tr>\n",
       "    <tr>\n",
       "      <th>6509</th>\n",
       "      <td>700</td>\n",
       "      <td>Айдар</td>\n",
       "      <td>22</td>\n",
       "      <td>Омск</td>\n",
       "      <td>free</td>\n",
       "      <td>2567.543847</td>\n",
       "      <td>11.312160</td>\n",
       "      <td>2021-06-23</td>\n",
       "      <td>6</td>\n",
       "      <td>8</td>\n",
       "      <td>50</td>\n",
       "      <td>0</td>\n",
       "    </tr>\n",
       "  </tbody>\n",
       "</table>\n",
       "</div>"
      ],
      "text/plain": [
       "      user_id   name  age  city subscription_type     distance   duration  \\\n",
       "6500      700  Айдар   22  Омск              free  2515.690719  14.944286   \n",
       "6501      700  Айдар   22  Омск              free   846.932642  16.234663   \n",
       "6502      700  Айдар   22  Омск              free  4004.434142  20.016628   \n",
       "6503      700  Айдар   22  Омск              free  1205.911290   9.782872   \n",
       "6504      700  Айдар   22  Омск              free  3047.379435  17.427673   \n",
       "6505      700  Айдар   22  Омск              free  4342.002254  22.368009   \n",
       "6506      700  Айдар   22  Омск              free  3798.334905  18.243756   \n",
       "6507      700  Айдар   22  Омск              free  2984.551206  15.424899   \n",
       "6508      700  Айдар   22  Омск              free  3360.107141  16.765497   \n",
       "6509      700  Айдар   22  Омск              free  2567.543847  11.312160   \n",
       "\n",
       "           date  number_month  minute_price  start_ride_price  \\\n",
       "6500 2021-01-02             1             8                50   \n",
       "6501 2021-02-01             2             8                50   \n",
       "6502 2021-02-04             2             8                50   \n",
       "6503 2021-02-10             2             8                50   \n",
       "6504 2021-02-14             2             8                50   \n",
       "6505 2021-02-23             2             8                50   \n",
       "6506 2021-03-03             3             8                50   \n",
       "6507 2021-04-09             4             8                50   \n",
       "6508 2021-06-12             6             8                50   \n",
       "6509 2021-06-23             6             8                50   \n",
       "\n",
       "      subscription_fee  \n",
       "6500                 0  \n",
       "6501                 0  \n",
       "6502                 0  \n",
       "6503                 0  \n",
       "6504                 0  \n",
       "6505                 0  \n",
       "6506                 0  \n",
       "6507                 0  \n",
       "6508                 0  \n",
       "6509                 0  "
      ]
     },
     "metadata": {},
     "output_type": "display_data"
    },
    {
     "data": {
      "text/html": [
       "<div>\n",
       "<style scoped>\n",
       "    .dataframe tbody tr th:only-of-type {\n",
       "        vertical-align: middle;\n",
       "    }\n",
       "\n",
       "    .dataframe tbody tr th {\n",
       "        vertical-align: top;\n",
       "    }\n",
       "\n",
       "    .dataframe thead th {\n",
       "        text-align: right;\n",
       "    }\n",
       "</style>\n",
       "<table border=\"1\" class=\"dataframe\">\n",
       "  <thead>\n",
       "    <tr style=\"text-align: right;\">\n",
       "      <th></th>\n",
       "      <th>user_id</th>\n",
       "      <th>age</th>\n",
       "      <th>distance</th>\n",
       "      <th>duration</th>\n",
       "      <th>date</th>\n",
       "      <th>number_month</th>\n",
       "      <th>minute_price</th>\n",
       "      <th>start_ride_price</th>\n",
       "      <th>subscription_fee</th>\n",
       "    </tr>\n",
       "  </thead>\n",
       "  <tbody>\n",
       "    <tr>\n",
       "      <th>count</th>\n",
       "      <td>11568.000000</td>\n",
       "      <td>11568.000000</td>\n",
       "      <td>11568.000000</td>\n",
       "      <td>11568.000000</td>\n",
       "      <td>11568</td>\n",
       "      <td>11568.000000</td>\n",
       "      <td>11568.0</td>\n",
       "      <td>11568.0</td>\n",
       "      <td>11568.0</td>\n",
       "    </tr>\n",
       "    <tr>\n",
       "      <th>mean</th>\n",
       "      <td>1120.527230</td>\n",
       "      <td>24.893326</td>\n",
       "      <td>3045.495282</td>\n",
       "      <td>17.390909</td>\n",
       "      <td>2021-07-01 21:47:03.236514560</td>\n",
       "      <td>6.522994</td>\n",
       "      <td>8.0</td>\n",
       "      <td>50.0</td>\n",
       "      <td>0.0</td>\n",
       "    </tr>\n",
       "    <tr>\n",
       "      <th>min</th>\n",
       "      <td>700.000000</td>\n",
       "      <td>12.000000</td>\n",
       "      <td>0.855683</td>\n",
       "      <td>0.500000</td>\n",
       "      <td>2021-01-01 00:00:00</td>\n",
       "      <td>1.000000</td>\n",
       "      <td>8.0</td>\n",
       "      <td>50.0</td>\n",
       "      <td>0.0</td>\n",
       "    </tr>\n",
       "    <tr>\n",
       "      <th>25%</th>\n",
       "      <td>915.000000</td>\n",
       "      <td>22.000000</td>\n",
       "      <td>2366.562689</td>\n",
       "      <td>12.958437</td>\n",
       "      <td>2021-04-02 00:00:00</td>\n",
       "      <td>4.000000</td>\n",
       "      <td>8.0</td>\n",
       "      <td>50.0</td>\n",
       "      <td>0.0</td>\n",
       "    </tr>\n",
       "    <tr>\n",
       "      <th>50%</th>\n",
       "      <td>1123.000000</td>\n",
       "      <td>25.000000</td>\n",
       "      <td>3114.648465</td>\n",
       "      <td>17.326890</td>\n",
       "      <td>2021-07-01 00:00:00</td>\n",
       "      <td>7.000000</td>\n",
       "      <td>8.0</td>\n",
       "      <td>50.0</td>\n",
       "      <td>0.0</td>\n",
       "    </tr>\n",
       "    <tr>\n",
       "      <th>75%</th>\n",
       "      <td>1328.000000</td>\n",
       "      <td>28.000000</td>\n",
       "      <td>3905.697894</td>\n",
       "      <td>21.594071</td>\n",
       "      <td>2021-09-30 00:00:00</td>\n",
       "      <td>9.000000</td>\n",
       "      <td>8.0</td>\n",
       "      <td>50.0</td>\n",
       "      <td>0.0</td>\n",
       "    </tr>\n",
       "    <tr>\n",
       "      <th>max</th>\n",
       "      <td>1534.000000</td>\n",
       "      <td>43.000000</td>\n",
       "      <td>7211.007745</td>\n",
       "      <td>34.948498</td>\n",
       "      <td>2021-12-30 00:00:00</td>\n",
       "      <td>12.000000</td>\n",
       "      <td>8.0</td>\n",
       "      <td>50.0</td>\n",
       "      <td>0.0</td>\n",
       "    </tr>\n",
       "    <tr>\n",
       "      <th>std</th>\n",
       "      <td>241.165628</td>\n",
       "      <td>4.481100</td>\n",
       "      <td>1246.173806</td>\n",
       "      <td>6.326803</td>\n",
       "      <td>NaN</td>\n",
       "      <td>3.449770</td>\n",
       "      <td>0.0</td>\n",
       "      <td>0.0</td>\n",
       "      <td>0.0</td>\n",
       "    </tr>\n",
       "  </tbody>\n",
       "</table>\n",
       "</div>"
      ],
      "text/plain": [
       "            user_id           age      distance      duration  \\\n",
       "count  11568.000000  11568.000000  11568.000000  11568.000000   \n",
       "mean    1120.527230     24.893326   3045.495282     17.390909   \n",
       "min      700.000000     12.000000      0.855683      0.500000   \n",
       "25%      915.000000     22.000000   2366.562689     12.958437   \n",
       "50%     1123.000000     25.000000   3114.648465     17.326890   \n",
       "75%     1328.000000     28.000000   3905.697894     21.594071   \n",
       "max     1534.000000     43.000000   7211.007745     34.948498   \n",
       "std      241.165628      4.481100   1246.173806      6.326803   \n",
       "\n",
       "                                date  number_month  minute_price  \\\n",
       "count                          11568  11568.000000       11568.0   \n",
       "mean   2021-07-01 21:47:03.236514560      6.522994           8.0   \n",
       "min              2021-01-01 00:00:00      1.000000           8.0   \n",
       "25%              2021-04-02 00:00:00      4.000000           8.0   \n",
       "50%              2021-07-01 00:00:00      7.000000           8.0   \n",
       "75%              2021-09-30 00:00:00      9.000000           8.0   \n",
       "max              2021-12-30 00:00:00     12.000000           8.0   \n",
       "std                              NaN      3.449770           0.0   \n",
       "\n",
       "       start_ride_price  subscription_fee  \n",
       "count           11568.0           11568.0  \n",
       "mean               50.0               0.0  \n",
       "min                50.0               0.0  \n",
       "25%                50.0               0.0  \n",
       "50%                50.0               0.0  \n",
       "75%                50.0               0.0  \n",
       "max                50.0               0.0  \n",
       "std                 0.0               0.0  "
      ]
     },
     "execution_count": 33,
     "metadata": {},
     "output_type": "execute_result"
    }
   ],
   "source": [
    "#создадим датафрейм без подписки\n",
    "without_subscription = data_go.query('subscription_type == \"free\"')\n",
    "display(without_subscription.head(10))\n",
    "without_subscription.describe()"
   ]
  },
  {
   "cell_type": "code",
   "execution_count": 34,
   "id": "ff09343f",
   "metadata": {},
   "outputs": [
    {
     "data": {
      "text/html": [
       "<div>\n",
       "<style scoped>\n",
       "    .dataframe tbody tr th:only-of-type {\n",
       "        vertical-align: middle;\n",
       "    }\n",
       "\n",
       "    .dataframe tbody tr th {\n",
       "        vertical-align: top;\n",
       "    }\n",
       "\n",
       "    .dataframe thead th {\n",
       "        text-align: right;\n",
       "    }\n",
       "</style>\n",
       "<table border=\"1\" class=\"dataframe\">\n",
       "  <thead>\n",
       "    <tr style=\"text-align: right;\">\n",
       "      <th></th>\n",
       "      <th>user_id</th>\n",
       "      <th>name</th>\n",
       "      <th>age</th>\n",
       "      <th>city</th>\n",
       "      <th>subscription_type</th>\n",
       "      <th>distance</th>\n",
       "      <th>duration</th>\n",
       "      <th>date</th>\n",
       "      <th>number_month</th>\n",
       "      <th>minute_price</th>\n",
       "      <th>start_ride_price</th>\n",
       "      <th>subscription_fee</th>\n",
       "    </tr>\n",
       "  </thead>\n",
       "  <tbody>\n",
       "    <tr>\n",
       "      <th>0</th>\n",
       "      <td>1</td>\n",
       "      <td>Кира</td>\n",
       "      <td>22</td>\n",
       "      <td>Тюмень</td>\n",
       "      <td>ultra</td>\n",
       "      <td>4409.919140</td>\n",
       "      <td>25.599769</td>\n",
       "      <td>2021-01-01</td>\n",
       "      <td>1</td>\n",
       "      <td>6</td>\n",
       "      <td>0</td>\n",
       "      <td>199</td>\n",
       "    </tr>\n",
       "    <tr>\n",
       "      <th>1</th>\n",
       "      <td>1</td>\n",
       "      <td>Кира</td>\n",
       "      <td>22</td>\n",
       "      <td>Тюмень</td>\n",
       "      <td>ultra</td>\n",
       "      <td>2617.592153</td>\n",
       "      <td>15.816871</td>\n",
       "      <td>2021-01-18</td>\n",
       "      <td>1</td>\n",
       "      <td>6</td>\n",
       "      <td>0</td>\n",
       "      <td>199</td>\n",
       "    </tr>\n",
       "    <tr>\n",
       "      <th>2</th>\n",
       "      <td>1</td>\n",
       "      <td>Кира</td>\n",
       "      <td>22</td>\n",
       "      <td>Тюмень</td>\n",
       "      <td>ultra</td>\n",
       "      <td>754.159807</td>\n",
       "      <td>6.232113</td>\n",
       "      <td>2021-04-20</td>\n",
       "      <td>4</td>\n",
       "      <td>6</td>\n",
       "      <td>0</td>\n",
       "      <td>199</td>\n",
       "    </tr>\n",
       "    <tr>\n",
       "      <th>3</th>\n",
       "      <td>1</td>\n",
       "      <td>Кира</td>\n",
       "      <td>22</td>\n",
       "      <td>Тюмень</td>\n",
       "      <td>ultra</td>\n",
       "      <td>2694.783254</td>\n",
       "      <td>18.511000</td>\n",
       "      <td>2021-08-11</td>\n",
       "      <td>8</td>\n",
       "      <td>6</td>\n",
       "      <td>0</td>\n",
       "      <td>199</td>\n",
       "    </tr>\n",
       "    <tr>\n",
       "      <th>4</th>\n",
       "      <td>1</td>\n",
       "      <td>Кира</td>\n",
       "      <td>22</td>\n",
       "      <td>Тюмень</td>\n",
       "      <td>ultra</td>\n",
       "      <td>4028.687306</td>\n",
       "      <td>26.265803</td>\n",
       "      <td>2021-08-28</td>\n",
       "      <td>8</td>\n",
       "      <td>6</td>\n",
       "      <td>0</td>\n",
       "      <td>199</td>\n",
       "    </tr>\n",
       "    <tr>\n",
       "      <th>5</th>\n",
       "      <td>1</td>\n",
       "      <td>Кира</td>\n",
       "      <td>22</td>\n",
       "      <td>Тюмень</td>\n",
       "      <td>ultra</td>\n",
       "      <td>2770.890808</td>\n",
       "      <td>16.650138</td>\n",
       "      <td>2021-10-09</td>\n",
       "      <td>10</td>\n",
       "      <td>6</td>\n",
       "      <td>0</td>\n",
       "      <td>199</td>\n",
       "    </tr>\n",
       "    <tr>\n",
       "      <th>6</th>\n",
       "      <td>1</td>\n",
       "      <td>Кира</td>\n",
       "      <td>22</td>\n",
       "      <td>Тюмень</td>\n",
       "      <td>ultra</td>\n",
       "      <td>3039.020292</td>\n",
       "      <td>14.927879</td>\n",
       "      <td>2021-10-19</td>\n",
       "      <td>10</td>\n",
       "      <td>6</td>\n",
       "      <td>0</td>\n",
       "      <td>199</td>\n",
       "    </tr>\n",
       "    <tr>\n",
       "      <th>7</th>\n",
       "      <td>1</td>\n",
       "      <td>Кира</td>\n",
       "      <td>22</td>\n",
       "      <td>Тюмень</td>\n",
       "      <td>ultra</td>\n",
       "      <td>2842.118050</td>\n",
       "      <td>23.117468</td>\n",
       "      <td>2021-11-06</td>\n",
       "      <td>11</td>\n",
       "      <td>6</td>\n",
       "      <td>0</td>\n",
       "      <td>199</td>\n",
       "    </tr>\n",
       "    <tr>\n",
       "      <th>8</th>\n",
       "      <td>1</td>\n",
       "      <td>Кира</td>\n",
       "      <td>22</td>\n",
       "      <td>Тюмень</td>\n",
       "      <td>ultra</td>\n",
       "      <td>3412.690668</td>\n",
       "      <td>15.238072</td>\n",
       "      <td>2021-11-14</td>\n",
       "      <td>11</td>\n",
       "      <td>6</td>\n",
       "      <td>0</td>\n",
       "      <td>199</td>\n",
       "    </tr>\n",
       "    <tr>\n",
       "      <th>9</th>\n",
       "      <td>1</td>\n",
       "      <td>Кира</td>\n",
       "      <td>22</td>\n",
       "      <td>Тюмень</td>\n",
       "      <td>ultra</td>\n",
       "      <td>748.690645</td>\n",
       "      <td>15.041884</td>\n",
       "      <td>2021-11-22</td>\n",
       "      <td>11</td>\n",
       "      <td>6</td>\n",
       "      <td>0</td>\n",
       "      <td>199</td>\n",
       "    </tr>\n",
       "  </tbody>\n",
       "</table>\n",
       "</div>"
      ],
      "text/plain": [
       "   user_id  name  age    city subscription_type     distance   duration  \\\n",
       "0        1  Кира   22  Тюмень             ultra  4409.919140  25.599769   \n",
       "1        1  Кира   22  Тюмень             ultra  2617.592153  15.816871   \n",
       "2        1  Кира   22  Тюмень             ultra   754.159807   6.232113   \n",
       "3        1  Кира   22  Тюмень             ultra  2694.783254  18.511000   \n",
       "4        1  Кира   22  Тюмень             ultra  4028.687306  26.265803   \n",
       "5        1  Кира   22  Тюмень             ultra  2770.890808  16.650138   \n",
       "6        1  Кира   22  Тюмень             ultra  3039.020292  14.927879   \n",
       "7        1  Кира   22  Тюмень             ultra  2842.118050  23.117468   \n",
       "8        1  Кира   22  Тюмень             ultra  3412.690668  15.238072   \n",
       "9        1  Кира   22  Тюмень             ultra   748.690645  15.041884   \n",
       "\n",
       "        date  number_month  minute_price  start_ride_price  subscription_fee  \n",
       "0 2021-01-01             1             6                 0               199  \n",
       "1 2021-01-18             1             6                 0               199  \n",
       "2 2021-04-20             4             6                 0               199  \n",
       "3 2021-08-11             8             6                 0               199  \n",
       "4 2021-08-28             8             6                 0               199  \n",
       "5 2021-10-09            10             6                 0               199  \n",
       "6 2021-10-19            10             6                 0               199  \n",
       "7 2021-11-06            11             6                 0               199  \n",
       "8 2021-11-14            11             6                 0               199  \n",
       "9 2021-11-22            11             6                 0               199  "
      ]
     },
     "metadata": {},
     "output_type": "display_data"
    },
    {
     "data": {
      "text/html": [
       "<div>\n",
       "<style scoped>\n",
       "    .dataframe tbody tr th:only-of-type {\n",
       "        vertical-align: middle;\n",
       "    }\n",
       "\n",
       "    .dataframe tbody tr th {\n",
       "        vertical-align: top;\n",
       "    }\n",
       "\n",
       "    .dataframe thead th {\n",
       "        text-align: right;\n",
       "    }\n",
       "</style>\n",
       "<table border=\"1\" class=\"dataframe\">\n",
       "  <thead>\n",
       "    <tr style=\"text-align: right;\">\n",
       "      <th></th>\n",
       "      <th>user_id</th>\n",
       "      <th>age</th>\n",
       "      <th>distance</th>\n",
       "      <th>duration</th>\n",
       "      <th>date</th>\n",
       "      <th>number_month</th>\n",
       "      <th>minute_price</th>\n",
       "      <th>start_ride_price</th>\n",
       "      <th>subscription_fee</th>\n",
       "    </tr>\n",
       "  </thead>\n",
       "  <tbody>\n",
       "    <tr>\n",
       "      <th>count</th>\n",
       "      <td>6500.000000</td>\n",
       "      <td>6500.000000</td>\n",
       "      <td>6500.000000</td>\n",
       "      <td>6500.000000</td>\n",
       "      <td>6500</td>\n",
       "      <td>6500.000000</td>\n",
       "      <td>6500.0</td>\n",
       "      <td>6500.0</td>\n",
       "      <td>6500.0</td>\n",
       "    </tr>\n",
       "    <tr>\n",
       "      <th>mean</th>\n",
       "      <td>348.725385</td>\n",
       "      <td>24.892615</td>\n",
       "      <td>3115.445388</td>\n",
       "      <td>18.541985</td>\n",
       "      <td>2021-06-28 21:31:34.153846016</td>\n",
       "      <td>6.422308</td>\n",
       "      <td>6.0</td>\n",
       "      <td>0.0</td>\n",
       "      <td>199.0</td>\n",
       "    </tr>\n",
       "    <tr>\n",
       "      <th>min</th>\n",
       "      <td>1.000000</td>\n",
       "      <td>12.000000</td>\n",
       "      <td>244.210438</td>\n",
       "      <td>3.760353</td>\n",
       "      <td>2021-01-01 00:00:00</td>\n",
       "      <td>1.000000</td>\n",
       "      <td>6.0</td>\n",
       "      <td>0.0</td>\n",
       "      <td>199.0</td>\n",
       "    </tr>\n",
       "    <tr>\n",
       "      <th>25%</th>\n",
       "      <td>175.000000</td>\n",
       "      <td>22.000000</td>\n",
       "      <td>2785.444017</td>\n",
       "      <td>14.524654</td>\n",
       "      <td>2021-04-01 00:00:00</td>\n",
       "      <td>4.000000</td>\n",
       "      <td>6.0</td>\n",
       "      <td>0.0</td>\n",
       "      <td>199.0</td>\n",
       "    </tr>\n",
       "    <tr>\n",
       "      <th>50%</th>\n",
       "      <td>351.000000</td>\n",
       "      <td>25.000000</td>\n",
       "      <td>3148.637229</td>\n",
       "      <td>18.178153</td>\n",
       "      <td>2021-06-27 00:00:00</td>\n",
       "      <td>6.000000</td>\n",
       "      <td>6.0</td>\n",
       "      <td>0.0</td>\n",
       "      <td>199.0</td>\n",
       "    </tr>\n",
       "    <tr>\n",
       "      <th>75%</th>\n",
       "      <td>525.000000</td>\n",
       "      <td>28.000000</td>\n",
       "      <td>3560.574425</td>\n",
       "      <td>21.884129</td>\n",
       "      <td>2021-09-25 00:00:00</td>\n",
       "      <td>9.000000</td>\n",
       "      <td>6.0</td>\n",
       "      <td>0.0</td>\n",
       "      <td>199.0</td>\n",
       "    </tr>\n",
       "    <tr>\n",
       "      <th>max</th>\n",
       "      <td>699.000000</td>\n",
       "      <td>38.000000</td>\n",
       "      <td>5699.769662</td>\n",
       "      <td>40.823963</td>\n",
       "      <td>2021-12-30 00:00:00</td>\n",
       "      <td>12.000000</td>\n",
       "      <td>6.0</td>\n",
       "      <td>0.0</td>\n",
       "      <td>199.0</td>\n",
       "    </tr>\n",
       "    <tr>\n",
       "      <th>std</th>\n",
       "      <td>201.099339</td>\n",
       "      <td>4.757208</td>\n",
       "      <td>836.895330</td>\n",
       "      <td>5.572048</td>\n",
       "      <td>NaN</td>\n",
       "      <td>3.414616</td>\n",
       "      <td>0.0</td>\n",
       "      <td>0.0</td>\n",
       "      <td>0.0</td>\n",
       "    </tr>\n",
       "  </tbody>\n",
       "</table>\n",
       "</div>"
      ],
      "text/plain": [
       "           user_id          age     distance     duration  \\\n",
       "count  6500.000000  6500.000000  6500.000000  6500.000000   \n",
       "mean    348.725385    24.892615  3115.445388    18.541985   \n",
       "min       1.000000    12.000000   244.210438     3.760353   \n",
       "25%     175.000000    22.000000  2785.444017    14.524654   \n",
       "50%     351.000000    25.000000  3148.637229    18.178153   \n",
       "75%     525.000000    28.000000  3560.574425    21.884129   \n",
       "max     699.000000    38.000000  5699.769662    40.823963   \n",
       "std     201.099339     4.757208   836.895330     5.572048   \n",
       "\n",
       "                                date  number_month  minute_price  \\\n",
       "count                           6500   6500.000000        6500.0   \n",
       "mean   2021-06-28 21:31:34.153846016      6.422308           6.0   \n",
       "min              2021-01-01 00:00:00      1.000000           6.0   \n",
       "25%              2021-04-01 00:00:00      4.000000           6.0   \n",
       "50%              2021-06-27 00:00:00      6.000000           6.0   \n",
       "75%              2021-09-25 00:00:00      9.000000           6.0   \n",
       "max              2021-12-30 00:00:00     12.000000           6.0   \n",
       "std                              NaN      3.414616           0.0   \n",
       "\n",
       "       start_ride_price  subscription_fee  \n",
       "count            6500.0            6500.0  \n",
       "mean                0.0             199.0  \n",
       "min                 0.0             199.0  \n",
       "25%                 0.0             199.0  \n",
       "50%                 0.0             199.0  \n",
       "75%                 0.0             199.0  \n",
       "max                 0.0             199.0  \n",
       "std                 0.0               0.0  "
      ]
     },
     "execution_count": 34,
     "metadata": {},
     "output_type": "execute_result"
    }
   ],
   "source": [
    "#создадим датафрейм с подпиской\n",
    "with_subscription = data_go.query('subscription_type == \"ultra\"')\n",
    "display(with_subscription.head(10))\n",
    "with_subscription.describe()"
   ]
  },
  {
   "cell_type": "markdown",
   "id": "9889b606",
   "metadata": {},
   "source": [
    "*Визуализируем информацию о расстоянии поездок для пользователей обеих категорий.*"
   ]
  },
  {
   "cell_type": "code",
   "execution_count": 35,
   "id": "70e61a4b",
   "metadata": {},
   "outputs": [
    {
     "data": {
      "image/png": "[encoded data removed]",
      "text/plain": [
       "<Figure size 1400x600 with 2 Axes>"
      ]
     },
     "metadata": {},
     "output_type": "display_data"
    }
   ],
   "source": [
    "fig, (ax1, ax2) = plt.subplots(1, 2, figsize=(14, 6))\n",
    "\n",
    "ax1.hist(without_subscription['distance'], bins = 40, ec='black')\n",
    "ax1.set_title('Расстояние поездок без подписки ')\n",
    "ax1.grid(True)\n",
    "ax1.set_xlabel('Растояние')\n",
    "ax1.set_ylabel('Количество поездок')\n",
    "\n",
    "ax2.hist(with_subscription['distance'], bins = 40,  ec='black')\n",
    "ax2.set_title('Расстояние поездок с подпиской')\n",
    "ax2.grid(True)\n",
    "ax2.set_xlabel('Растояние')\n",
    "ax2.set_ylabel('Количество поездок')\n",
    "\n",
    "plt.show()"
   ]
  },
  {
   "cell_type": "code",
   "execution_count": 36,
   "id": "41c3b3c1",
   "metadata": {},
   "outputs": [
    {
     "data": {
      "image/png": "[encoded data removed]",
      "text/plain": [
       "<Figure size 640x480 with 1 Axes>"
      ]
     },
     "metadata": {},
     "output_type": "display_data"
    }
   ],
   "source": [
    "plt.hist([without_subscription['distance'], with_subscription['distance']],\n",
    "         bins=20,\n",
    "         stacked=False)\n",
    "plt.title('Расстояние поездок с подпиской')\n",
    "plt.xlabel('Растояние')\n",
    "plt.ylabel('Количество поездок')\n",
    "plt.legend(['без подписки', 'с подпиской'])\n",
    "plt.show()"
   ]
  },
  {
   "cell_type": "markdown",
   "id": "f589dda0",
   "metadata": {},
   "source": [
    "Выводы\n",
    "\n",
    "*Мы видим что если сравнивая расстояние с подпиской и без, то получим следующие результаты:*\n",
    "- максимальная длина поездки без подписки составляет 7210 метров , в то время как с подпиской 5699;\n",
    "- чаще всего пользователи с подпиской используют самокат на дистанцию от 2500 до 4000 метров, без подписки от 2500 до 4500 метров."
   ]
  },
  {
   "cell_type": "markdown",
   "id": "d183a83c",
   "metadata": {},
   "source": [
    "*Визуализируем информацию о времени поездок для пользователей обеих категорий.*"
   ]
  },
  {
   "cell_type": "code",
   "execution_count": 37,
   "id": "63dc7c92",
   "metadata": {
    "scrolled": true
   },
   "outputs": [
    {
     "data": {
      "image/png": "[encoded data removed]",
      "text/plain": [
       "<Figure size 1400x600 with 2 Axes>"
      ]
     },
     "metadata": {},
     "output_type": "display_data"
    }
   ],
   "source": [
    "fig, (ax1, ax2) = plt.subplots(1, 2, figsize=(14, 6))\n",
    "\n",
    "ax1.hist(without_subscription['duration'], bins = 40, ec='black')\n",
    "ax1.set_title('Длительность поездок без подписки ')\n",
    "ax1.grid(True)\n",
    "ax1.set_xlabel('Время')\n",
    "ax1.set_ylabel('Количество поездок')\n",
    "\n",
    "ax2.hist(with_subscription['duration'], bins = 40,  ec='black')\n",
    "ax2.set_title('Длительность поездок с подпиской')\n",
    "ax2.grid(True)\n",
    "ax2.set_xlabel('Время')\n",
    "ax2.set_ylabel('Количество поездок')\n",
    "\n",
    "plt.show()"
   ]
  },
  {
   "cell_type": "code",
   "execution_count": 38,
   "id": "a37f5624",
   "metadata": {},
   "outputs": [
    {
     "data": {
      "image/png": "[encoded data removed]",
      "text/plain": [
       "<Figure size 640x480 with 1 Axes>"
      ]
     },
     "metadata": {},
     "output_type": "display_data"
    }
   ],
   "source": [
    "plt.hist([without_subscription['duration'], with_subscription['duration']],\n",
    "         bins=20,\n",
    "         stacked=False)\n",
    "plt.title('Длительность поездок ')\n",
    "plt.xlabel('Время')\n",
    "plt.ylabel('Количество поездок')\n",
    "plt.legend(['без подписки', 'с подпиской'])\n",
    "plt.show()"
   ]
  },
  {
   "cell_type": "markdown",
   "id": "cc3d157e",
   "metadata": {},
   "source": [
    "Выводы\n",
    "\n",
    "При визуализации данных с подпиской и без мы видим что среднее числовые значения и гистограмма дают разный результат: в числовом выражении среднее как у пользователей с подпиской так и без составляет 18 минут, в то время как при изучении гистограммы мы видим что основная масса пользователей без прописки катается на самокатах от 10 до 25 минут, а пользователи с подпиской от 12 до 22 минут."
   ]
  },
  {
   "cell_type": "markdown",
   "id": "7e1fdfa7",
   "metadata": {},
   "source": [
    "#### Шаг 5. Подсчёт выручки"
   ]
  },
  {
   "cell_type": "markdown",
   "id": "f9df995f",
   "metadata": {},
   "source": [
    "**Создадим датафрейм с агрегированными данными о поездках и найдём для каждого пользователя за каждый месяц:** \n",
    "- суммарное расстояние, \n",
    "- количество поездок, \n",
    "- суммарное время. "
   ]
  },
  {
   "cell_type": "code",
   "execution_count": 39,
   "id": "9fbf1416",
   "metadata": {},
   "outputs": [],
   "source": [
    "#Создадим датафрейм и округлим значения\n",
    "data_go['duration'] = np.ceil(data_go['duration'])\n",
    "df_go = data_go.pivot_table(\n",
    "                           index=['number_month', 'user_id'],\n",
    "                           values = ['distance', 'duration', 'name', 'subscription_type'],\n",
    "                           aggfunc = {'distance': sum, \n",
    "                                      'duration' : sum, \n",
    "                                      'name' : 'count', \n",
    "                                      'subscription_type' : min})"
   ]
  },
  {
   "cell_type": "markdown",
   "id": "0be05cfa",
   "metadata": {},
   "source": [
    "**Добавим столбец с помесячной выручкой, которую принёс каждый пользователь.**"
   ]
  },
  {
   "cell_type": "code",
   "execution_count": 40,
   "id": "74f02028",
   "metadata": {},
   "outputs": [
    {
     "name": "stdout",
     "output_type": "stream",
     "text": [
      "count    11331.000000\n",
      "mean       342.303504\n",
      "std        153.875346\n",
      "min         58.000000\n",
      "25%        234.000000\n",
      "50%        319.000000\n",
      "75%        415.000000\n",
      "max       1444.000000\n",
      "Name: revenue, dtype: float64\n"
     ]
    },
    {
     "data": {
      "image/png": "[encoded data removed]",
      "text/plain": [
       "<Figure size 800x600 with 1 Axes>"
      ]
     },
     "metadata": {},
     "output_type": "display_data"
    }
   ],
   "source": [
    "#создадим функцию\n",
    "def month_revenue(row):\n",
    "    if row['subscription_type'] == 'ultra':\n",
    "        return 6 * row['duration'] + 199\n",
    "    if row['subscription_type'] == 'free':\n",
    "        return 8 * row['duration'] + 50 * row['name']\n",
    "    \n",
    "#добавим столбец    \n",
    "df_go['revenue'] =  df_go.apply(month_revenue, axis=1)\n",
    "\n",
    "print(df_go['revenue'].describe())\n",
    "df_go['revenue'].hist( bins = 50, grid=True, ec='black', figsize = (8,6))\n",
    "plt.title('Помесячная выручка')\n",
    "plt.xlabel('Траты пользователя')\n",
    "plt.ylabel('Количество поездок')\n",
    "plt.show()\n"
   ]
  },
  {
   "cell_type": "code",
   "execution_count": 41,
   "id": "72530cec",
   "metadata": {},
   "outputs": [
    {
     "data": {
      "text/html": [
       "<div>\n",
       "<style scoped>\n",
       "    .dataframe tbody tr th:only-of-type {\n",
       "        vertical-align: middle;\n",
       "    }\n",
       "\n",
       "    .dataframe tbody tr th {\n",
       "        vertical-align: top;\n",
       "    }\n",
       "\n",
       "    .dataframe thead th {\n",
       "        text-align: right;\n",
       "    }\n",
       "</style>\n",
       "<table border=\"1\" class=\"dataframe\">\n",
       "  <thead>\n",
       "    <tr style=\"text-align: right;\">\n",
       "      <th></th>\n",
       "      <th></th>\n",
       "      <th>distance</th>\n",
       "      <th>duration</th>\n",
       "      <th>minute_price</th>\n",
       "      <th>name</th>\n",
       "      <th>start_ride_price</th>\n",
       "      <th>subscription_fee</th>\n",
       "    </tr>\n",
       "    <tr>\n",
       "      <th>number_month</th>\n",
       "      <th>user_id</th>\n",
       "      <th></th>\n",
       "      <th></th>\n",
       "      <th></th>\n",
       "      <th></th>\n",
       "      <th></th>\n",
       "      <th></th>\n",
       "    </tr>\n",
       "  </thead>\n",
       "  <tbody>\n",
       "    <tr>\n",
       "      <th rowspan=\"5\" valign=\"top\">1</th>\n",
       "      <th>1</th>\n",
       "      <td>7027.511294</td>\n",
       "      <td>42.0</td>\n",
       "      <td>6</td>\n",
       "      <td>2</td>\n",
       "      <td>0</td>\n",
       "      <td>199</td>\n",
       "    </tr>\n",
       "    <tr>\n",
       "      <th>3</th>\n",
       "      <td>3061.777147</td>\n",
       "      <td>13.0</td>\n",
       "      <td>6</td>\n",
       "      <td>1</td>\n",
       "      <td>0</td>\n",
       "      <td>199</td>\n",
       "    </tr>\n",
       "    <tr>\n",
       "      <th>5</th>\n",
       "      <td>3914.646990</td>\n",
       "      <td>13.0</td>\n",
       "      <td>6</td>\n",
       "      <td>1</td>\n",
       "      <td>0</td>\n",
       "      <td>199</td>\n",
       "    </tr>\n",
       "    <tr>\n",
       "      <th>7</th>\n",
       "      <td>6478.080979</td>\n",
       "      <td>28.0</td>\n",
       "      <td>6</td>\n",
       "      <td>2</td>\n",
       "      <td>0</td>\n",
       "      <td>199</td>\n",
       "    </tr>\n",
       "    <tr>\n",
       "      <th>12</th>\n",
       "      <td>3577.151148</td>\n",
       "      <td>33.0</td>\n",
       "      <td>6</td>\n",
       "      <td>1</td>\n",
       "      <td>0</td>\n",
       "      <td>199</td>\n",
       "    </tr>\n",
       "    <tr>\n",
       "      <th>...</th>\n",
       "      <th>...</th>\n",
       "      <td>...</td>\n",
       "      <td>...</td>\n",
       "      <td>...</td>\n",
       "      <td>...</td>\n",
       "      <td>...</td>\n",
       "      <td>...</td>\n",
       "    </tr>\n",
       "    <tr>\n",
       "      <th rowspan=\"5\" valign=\"top\">12</th>\n",
       "      <th>1525</th>\n",
       "      <td>4597.854350</td>\n",
       "      <td>34.0</td>\n",
       "      <td>8</td>\n",
       "      <td>1</td>\n",
       "      <td>50</td>\n",
       "      <td>0</td>\n",
       "    </tr>\n",
       "    <tr>\n",
       "      <th>1526</th>\n",
       "      <td>3644.121544</td>\n",
       "      <td>23.0</td>\n",
       "      <td>8</td>\n",
       "      <td>1</td>\n",
       "      <td>50</td>\n",
       "      <td>0</td>\n",
       "    </tr>\n",
       "    <tr>\n",
       "      <th>1528</th>\n",
       "      <td>3998.569324</td>\n",
       "      <td>11.0</td>\n",
       "      <td>8</td>\n",
       "      <td>1</td>\n",
       "      <td>50</td>\n",
       "      <td>0</td>\n",
       "    </tr>\n",
       "    <tr>\n",
       "      <th>1532</th>\n",
       "      <td>6111.889853</td>\n",
       "      <td>42.0</td>\n",
       "      <td>8</td>\n",
       "      <td>2</td>\n",
       "      <td>50</td>\n",
       "      <td>0</td>\n",
       "    </tr>\n",
       "    <tr>\n",
       "      <th>1534</th>\n",
       "      <td>2371.711192</td>\n",
       "      <td>16.0</td>\n",
       "      <td>8</td>\n",
       "      <td>1</td>\n",
       "      <td>50</td>\n",
       "      <td>0</td>\n",
       "    </tr>\n",
       "  </tbody>\n",
       "</table>\n",
       "<p>11331 rows × 6 columns</p>\n",
       "</div>"
      ],
      "text/plain": [
       "                         distance  duration  minute_price  name  \\\n",
       "number_month user_id                                              \n",
       "1            1        7027.511294      42.0             6     2   \n",
       "             3        3061.777147      13.0             6     1   \n",
       "             5        3914.646990      13.0             6     1   \n",
       "             7        6478.080979      28.0             6     2   \n",
       "             12       3577.151148      33.0             6     1   \n",
       "...                           ...       ...           ...   ...   \n",
       "12           1525     4597.854350      34.0             8     1   \n",
       "             1526     3644.121544      23.0             8     1   \n",
       "             1528     3998.569324      11.0             8     1   \n",
       "             1532     6111.889853      42.0             8     2   \n",
       "             1534     2371.711192      16.0             8     1   \n",
       "\n",
       "                      start_ride_price  subscription_fee  \n",
       "number_month user_id                                      \n",
       "1            1                       0               199  \n",
       "             3                       0               199  \n",
       "             5                       0               199  \n",
       "             7                       0               199  \n",
       "             12                      0               199  \n",
       "...                                ...               ...  \n",
       "12           1525                   50                 0  \n",
       "             1526                   50                 0  \n",
       "             1528                   50                 0  \n",
       "             1532                   50                 0  \n",
       "             1534                   50                 0  \n",
       "\n",
       "[11331 rows x 6 columns]"
      ]
     },
     "execution_count": 41,
     "metadata": {},
     "output_type": "execute_result"
    }
   ],
   "source": [
    "df_go1 = data_go.pivot_table(\n",
    "                           index=['number_month', 'user_id'],\n",
    "                           values = ['distance', 'duration', 'name', 'subscription_fee', 'minute_price', 'start_ride_price'],\n",
    "                           aggfunc = {'distance': sum, \n",
    "                                      'duration' : sum, \n",
    "                                      'name' : 'count', \n",
    "                                      'subscription_fee' : min,\n",
    "                                      'minute_price': min, \n",
    "                                      'start_ride_price':min})\n",
    "df_go1"
   ]
  },
  {
   "cell_type": "code",
   "execution_count": 42,
   "id": "4c46fe15",
   "metadata": {},
   "outputs": [
    {
     "data": {
      "text/html": [
       "<div>\n",
       "<style scoped>\n",
       "    .dataframe tbody tr th:only-of-type {\n",
       "        vertical-align: middle;\n",
       "    }\n",
       "\n",
       "    .dataframe tbody tr th {\n",
       "        vertical-align: top;\n",
       "    }\n",
       "\n",
       "    .dataframe thead th {\n",
       "        text-align: right;\n",
       "    }\n",
       "</style>\n",
       "<table border=\"1\" class=\"dataframe\">\n",
       "  <thead>\n",
       "    <tr style=\"text-align: right;\">\n",
       "      <th></th>\n",
       "      <th></th>\n",
       "      <th>distance</th>\n",
       "      <th>duration</th>\n",
       "      <th>minute_price</th>\n",
       "      <th>name</th>\n",
       "      <th>start_ride_price</th>\n",
       "      <th>subscription_fee</th>\n",
       "      <th>revenue</th>\n",
       "    </tr>\n",
       "    <tr>\n",
       "      <th>number_month</th>\n",
       "      <th>user_id</th>\n",
       "      <th></th>\n",
       "      <th></th>\n",
       "      <th></th>\n",
       "      <th></th>\n",
       "      <th></th>\n",
       "      <th></th>\n",
       "      <th></th>\n",
       "    </tr>\n",
       "  </thead>\n",
       "  <tbody>\n",
       "    <tr>\n",
       "      <th rowspan=\"5\" valign=\"top\">1</th>\n",
       "      <th>1</th>\n",
       "      <td>7027.511294</td>\n",
       "      <td>42.0</td>\n",
       "      <td>6</td>\n",
       "      <td>2</td>\n",
       "      <td>0</td>\n",
       "      <td>199</td>\n",
       "      <td>451.0</td>\n",
       "    </tr>\n",
       "    <tr>\n",
       "      <th>3</th>\n",
       "      <td>3061.777147</td>\n",
       "      <td>13.0</td>\n",
       "      <td>6</td>\n",
       "      <td>1</td>\n",
       "      <td>0</td>\n",
       "      <td>199</td>\n",
       "      <td>277.0</td>\n",
       "    </tr>\n",
       "    <tr>\n",
       "      <th>5</th>\n",
       "      <td>3914.646990</td>\n",
       "      <td>13.0</td>\n",
       "      <td>6</td>\n",
       "      <td>1</td>\n",
       "      <td>0</td>\n",
       "      <td>199</td>\n",
       "      <td>277.0</td>\n",
       "    </tr>\n",
       "    <tr>\n",
       "      <th>7</th>\n",
       "      <td>6478.080979</td>\n",
       "      <td>28.0</td>\n",
       "      <td>6</td>\n",
       "      <td>2</td>\n",
       "      <td>0</td>\n",
       "      <td>199</td>\n",
       "      <td>367.0</td>\n",
       "    </tr>\n",
       "    <tr>\n",
       "      <th>12</th>\n",
       "      <td>3577.151148</td>\n",
       "      <td>33.0</td>\n",
       "      <td>6</td>\n",
       "      <td>1</td>\n",
       "      <td>0</td>\n",
       "      <td>199</td>\n",
       "      <td>397.0</td>\n",
       "    </tr>\n",
       "    <tr>\n",
       "      <th>...</th>\n",
       "      <th>...</th>\n",
       "      <td>...</td>\n",
       "      <td>...</td>\n",
       "      <td>...</td>\n",
       "      <td>...</td>\n",
       "      <td>...</td>\n",
       "      <td>...</td>\n",
       "      <td>...</td>\n",
       "    </tr>\n",
       "    <tr>\n",
       "      <th rowspan=\"5\" valign=\"top\">12</th>\n",
       "      <th>1525</th>\n",
       "      <td>4597.854350</td>\n",
       "      <td>34.0</td>\n",
       "      <td>8</td>\n",
       "      <td>1</td>\n",
       "      <td>50</td>\n",
       "      <td>0</td>\n",
       "      <td>322.0</td>\n",
       "    </tr>\n",
       "    <tr>\n",
       "      <th>1526</th>\n",
       "      <td>3644.121544</td>\n",
       "      <td>23.0</td>\n",
       "      <td>8</td>\n",
       "      <td>1</td>\n",
       "      <td>50</td>\n",
       "      <td>0</td>\n",
       "      <td>234.0</td>\n",
       "    </tr>\n",
       "    <tr>\n",
       "      <th>1528</th>\n",
       "      <td>3998.569324</td>\n",
       "      <td>11.0</td>\n",
       "      <td>8</td>\n",
       "      <td>1</td>\n",
       "      <td>50</td>\n",
       "      <td>0</td>\n",
       "      <td>138.0</td>\n",
       "    </tr>\n",
       "    <tr>\n",
       "      <th>1532</th>\n",
       "      <td>6111.889853</td>\n",
       "      <td>42.0</td>\n",
       "      <td>8</td>\n",
       "      <td>2</td>\n",
       "      <td>50</td>\n",
       "      <td>0</td>\n",
       "      <td>436.0</td>\n",
       "    </tr>\n",
       "    <tr>\n",
       "      <th>1534</th>\n",
       "      <td>2371.711192</td>\n",
       "      <td>16.0</td>\n",
       "      <td>8</td>\n",
       "      <td>1</td>\n",
       "      <td>50</td>\n",
       "      <td>0</td>\n",
       "      <td>178.0</td>\n",
       "    </tr>\n",
       "  </tbody>\n",
       "</table>\n",
       "<p>11331 rows × 7 columns</p>\n",
       "</div>"
      ],
      "text/plain": [
       "                         distance  duration  minute_price  name  \\\n",
       "number_month user_id                                              \n",
       "1            1        7027.511294      42.0             6     2   \n",
       "             3        3061.777147      13.0             6     1   \n",
       "             5        3914.646990      13.0             6     1   \n",
       "             7        6478.080979      28.0             6     2   \n",
       "             12       3577.151148      33.0             6     1   \n",
       "...                           ...       ...           ...   ...   \n",
       "12           1525     4597.854350      34.0             8     1   \n",
       "             1526     3644.121544      23.0             8     1   \n",
       "             1528     3998.569324      11.0             8     1   \n",
       "             1532     6111.889853      42.0             8     2   \n",
       "             1534     2371.711192      16.0             8     1   \n",
       "\n",
       "                      start_ride_price  subscription_fee  revenue  \n",
       "number_month user_id                                               \n",
       "1            1                       0               199    451.0  \n",
       "             3                       0               199    277.0  \n",
       "             5                       0               199    277.0  \n",
       "             7                       0               199    367.0  \n",
       "             12                      0               199    397.0  \n",
       "...                                ...               ...      ...  \n",
       "12           1525                   50                 0    322.0  \n",
       "             1526                   50                 0    234.0  \n",
       "             1528                   50                 0    138.0  \n",
       "             1532                   50                 0    436.0  \n",
       "             1534                   50                 0    178.0  \n",
       "\n",
       "[11331 rows x 7 columns]"
      ]
     },
     "execution_count": 42,
     "metadata": {},
     "output_type": "execute_result"
    }
   ],
   "source": [
    "df_go1['revenue'] = (\n",
    "    (df_go1['start_ride_price'] * df_go1['name']) \n",
    "    + (df_go1['minute_price'] * df_go1['duration']) \n",
    "    + df_go1['subscription_fee']\n",
    ")\n",
    "df_go1"
   ]
  },
  {
   "cell_type": "code",
   "execution_count": 43,
   "id": "a357ed20",
   "metadata": {},
   "outputs": [
    {
     "data": {
      "text/plain": [
       "count    11331.000000\n",
       "mean       342.303504\n",
       "std        153.875346\n",
       "min         58.000000\n",
       "25%        234.000000\n",
       "50%        319.000000\n",
       "75%        415.000000\n",
       "max       1444.000000\n",
       "Name: revenue, dtype: float64"
      ]
     },
     "execution_count": 43,
     "metadata": {},
     "output_type": "execute_result"
    }
   ],
   "source": [
    "df_go1['revenue'].describe()"
   ]
  },
  {
   "cell_type": "markdown",
   "id": "0d35cafa",
   "metadata": {},
   "source": [
    "Мы провели  необходимые вычисления подсчитав суммарное расстояние, количество поездок  и суммарное время. Также мы добавили новый столбец с помесячной выручкой, которую принёс каждый пользователь . Мы видим, что в не зависимости от наличия подписки или нет, в среднем \n",
    "пользователь тратит в месяц 342 рубля, хотя медиана из-за выбросов 319 рубля. Также мы видим что основная масса пользователей тратит от 200 до 415 рублей"
   ]
  },
  {
   "cell_type": "markdown",
   "id": "109612ae",
   "metadata": {},
   "source": [
    "#### Шаг 6. Проверка гипотез"
   ]
  },
  {
   "cell_type": "markdown",
   "id": "8cf9a2ee",
   "metadata": {},
   "source": [
    "**1. Проверим гипотезу: тратят ли пользователи с подпиской больше времени на поездки?**\n",
    "\n",
    "Для этого мы проведём статистический тест, где нулевая гипотеза состоит в том, что время пользователей с подпиской равно времени пользователей без подписки, тогда альтернативная гипотеза, соответственно, будет состоять в том что время пользователей с подпиской больше времени пользователей без подписки."
   ]
  },
  {
   "cell_type": "code",
   "execution_count": 44,
   "id": "81c5ccac",
   "metadata": {},
   "outputs": [
    {
     "name": "stdout",
     "output_type": "stream",
     "text": [
      "Cреднее время, которое тратят пользователи с подпиской: 19.0\n",
      "Cреднее время, которое тратят пользователи без подписки: 17.0\n",
      "p-значение: 1.2804098316645613e-34\n",
      "Отвергаем нулевую гипотезу\n"
     ]
    }
   ],
   "source": [
    "free = without_subscription['duration']\n",
    "ultra =  with_subscription['duration']\n",
    "print(f'Cреднее время, которое тратят пользователи с подпиской: {ultra.mean().round()}')\n",
    "print(f'Cреднее время, которое тратят пользователи без подписки: {free.mean().round()}')\n",
    "\n",
    "\n",
    "#выбранный уровень статистической значимости\n",
    "alpha = 0.05\n",
    "\n",
    "results = st.ttest_ind(ultra, free, alternative = 'greater')\n",
    "\n",
    "# вычисляем p-value\n",
    "print('p-значение:', results.pvalue)\n",
    "\n",
    "# сделаем сравнение p-value с alpha\n",
    "\n",
    "if results.pvalue < alpha: \n",
    "    print('Отвергаем нулевую гипотезу')\n",
    "else:\n",
    "    print('Не отвергаем нулевую гипотезу')"
   ]
  },
  {
   "cell_type": "markdown",
   "id": "7a5fbf66",
   "metadata": {},
   "source": [
    "После проведения теста мы видим что р — значение меньше альфы поэтому нулевую гипотезу отвергаем. Среднее значение подтверждает нам, что с подпиской катаются дольше."
   ]
  },
  {
   "cell_type": "markdown",
   "id": "a97efbd6",
   "metadata": {},
   "source": [
    "**2. Можно ли сказать, что среднее расстояние, которое проезжают пользователи с подпиской за одну поездку, не превышает 3130 метров?**\n",
    "\n",
    "Проведём статистический тест, где нулевая гипотеза состоит в том, что среднее расстояние пользователей с подпиской равно 3130 метров, тогда альтернативная гипотеза, соответственно, будет состоять в том что среднее расстояние пользователей с подпиской больше 3130 метров."
   ]
  },
  {
   "cell_type": "code",
   "execution_count": 45,
   "id": "45a59293",
   "metadata": {},
   "outputs": [
    {
     "name": "stdout",
     "output_type": "stream",
     "text": [
      "Cреднее расстояние, которое проезжают пользователи с подпиской: 3115.45\n",
      "p-значение: 0.9195368847849785\n",
      "Не отвергаем нулевую гипотезу\n"
     ]
    }
   ],
   "source": [
    "distance_ultra = with_subscription['distance']\n",
    "value = 3130\n",
    "print(f'Cреднее расстояние, которое проезжают пользователи с подпиской: {distance_ultra.mean().round(2)}')\n",
    "#выбранный уровень статистической значимости\n",
    "alpha = 0.05\n",
    "\n",
    "results = st.ttest_1samp(distance_ultra, value, alternative='greater')\n",
    "\n",
    "# вычисляем p-value\n",
    "print('p-значение:', results.pvalue)\n",
    "\n",
    "# сделаем сравнение p-value с alpha\n",
    "\n",
    "if results.pvalue < alpha: \n",
    "    print('Отвергаем нулевую гипотезу')\n",
    "else:\n",
    "    print('Не отвергаем нулевую гипотезу')"
   ]
  },
  {
   "cell_type": "markdown",
   "id": "24abe349",
   "metadata": {},
   "source": [
    "После проведения теста мы видим что р — значение больше альфы поэтому нулевую гипотезу не отвергаем. Нельзя сказать что среднее расстояние пользователей с подпиской равно 3130 метров.  В тоже время в числовом выражении оно составляет 3115.45 метров, что однозначно меньше 3130 метров, это означает что среднее расстояние, которое проезжают пользователи с подпиской за одну поездку, не превышает 3130 метров."
   ]
  },
  {
   "cell_type": "markdown",
   "id": "54366b0d",
   "metadata": {},
   "source": [
    "**3. Проверим гипотезу о том, будет ли помесячная выручка от пользователей с подпиской по месяцам выше, чем выручка от пользователей без подписки.**\n",
    "\n",
    "Наша нулевая гипотеза будет звучать так:  помесячная выручка от пользователей с подпиской равна выручке от пользователей без подписки.\n",
    "\n",
    "Тогда альтернативная гипотеза: помесячная выручка от пользователей с подпиской выше выручке от пользователей без подписки."
   ]
  },
  {
   "cell_type": "code",
   "execution_count": 46,
   "id": "ef8ab9f4",
   "metadata": {},
   "outputs": [
    {
     "name": "stdout",
     "output_type": "stream",
     "text": [
      "Средняя выручка пользователей с подпиской: 362.7921906022502\n",
      "Средняя выручка пользователей без подписки: 328.6413651073845\n",
      "p-значение: 1.8850394384715216e-31\n",
      "Отвергаем нулевую гипотезу\n"
     ]
    }
   ],
   "source": [
    "ultra_revenue = df_go.query('subscription_type == \"ultra\"')['revenue']\n",
    "free_revenue =  df_go.query('subscription_type == \"free\"')['revenue']\n",
    "\n",
    "print(f'Средняя выручка пользователей с подпиской: {ultra_revenue.mean()}')\n",
    "print(f'Средняя выручка пользователей без подписки: {free_revenue.mean()}')\n",
    "#выбранный уровень статистической значимости\n",
    "alpha = 0.05\n",
    "\n",
    "results = st.ttest_ind(ultra_revenue, free_revenue, alternative = 'greater')\n",
    "\n",
    "# вычисляем p-value\n",
    "print('p-значение:', results.pvalue)\n",
    "\n",
    "# сделаем сравнение p-value с alpha\n",
    "\n",
    "if results.pvalue < alpha: \n",
    "    print('Отвергаем нулевую гипотезу')\n",
    "else:\n",
    "    print('Не отвергаем нулевую гипотезу')"
   ]
  },
  {
   "cell_type": "markdown",
   "id": "682f6222",
   "metadata": {},
   "source": [
    "После проведения теста мы отвергаем нулевую гипотезу что выручка равна. К тому же средняя выручка пользователей с подпиской в числовом выражении выше средней выручки пользователей без подписки"
   ]
  },
  {
   "cell_type": "markdown",
   "id": "29c10bec",
   "metadata": {},
   "source": [
    "4. Представьте такую ситуацию: техническая команда сервиса обновила сервера, с которыми взаимодействует мобильное приложение. Она надеется, что из-за этого количество обращений в техподдержку значимо снизилось. Некоторый файл содержит для каждого пользователя данные о количестве обращений до обновления и после него. Какой тест вам понадобился бы для проверки этой гипотезы?\n",
    "\n",
    "Для проверки гопотезы используем st.ttest_rel(before, after) но прежде проведём сравнение выборок на их зависимость.\n",
    "В ином случае, проведём тест: st.ttest_ind(before, after, alternative=’less’). "
   ]
  },
  {
   "cell_type": "markdown",
   "id": "45cf0681",
   "metadata": {},
   "source": [
    "**Выводы**\n",
    "\n",
    " \n",
    "  Мы получили данные сервиса аренды самокатов GoFast. На первом этапе работы провели необходимую обработку данных, а именно:\n",
    "-удалили пропуски и дубликаты;\n",
    "- добавили нужные столбцы;\n",
    "- поменяли тип даты.\n",
    "\n",
    "  Исследовательский анализ:\n",
    "1. частота встречаемости городов, и выяснили, что   в процентном соотношении присутствие в различных городах распределено практически равномерно. В количественном, странным образом, Москва на последнем месте. Видимо это связано с огромной конкуренцией и меньшей представленностью сервиса в Москве.\n",
    "2.  соотношение пользователей с подпиской и без подписки: количество пользователей с подпиской ultra составляет 46% от общего количества, что является хорошим показателем , мы видим что сервис достаточно популярен у пользователей и они с радостью оформляют подписку.\n",
    "3. возраст пользователей:всего сервисом GoFast воспользовались 1534 пользователя. Среднее, медиана и мода показывают нам на то, что в основном сервисом пользуються 25-летние, минимальный возвраст 12 лет, максимальный 43.\n",
    "4.  расстояние, которое пользователь преодолел за одну поездку : пользователи сервиса, в среднем за одну поездку проезжают 3000-3200 метров. Также есть значения близки к нулю, скорее всего это связано с тем, что пользователь не умеет ездить на самокате и не смог преодолеть страх поездки .\n",
    "5. продолжительность поездок: длительность поездки составляет от 0,5 до 40 минут. Такой короткий интервал времени скорее всего (как писалось выше) связан со страхом пользователя использовать самокат. Средние как и медиана составляет почти 18 минут.\n",
    "\n",
    "  Далее мы объединили наши данные и создали две дополнительных таблицы, где указали пользователей с подпиской и без, для сравнительного анализа.\n",
    "Мы выяснили что: если сравниватьрасстояние с подпиской и без,  получим следующие результаты:\n",
    "- максимальная длина поездки без подписки составляет 7210 метров , в то время как с подпиской 5699;\n",
    "- чаще всего пользователи с подпиской используют самокат на дистанцию от 2500 до 4000 метров, без подписки от 2500 до 4500 метров.\n",
    "\n",
    "  А при визуализации данных с подпиской и без мы видим что среднее числовые значения и гистограмма дают разный результат: в числовом выражении среднее как у пользователей с подпиской так и без составляет 18 минут, в то время как при изучении гистограммы мы видим что основная масса пользователей без прописки катается на самокатах от 10 до 25 минут, а пользователи с подпиской от 12 до 22 минут. \n",
    "\n",
    "  Далее мы   провели необходимые вычисления подсчитав суммарное расстояние, количество поездок и суммарное время. Также мы добавили новый столбец с помесячной выручкой, которую принёс каждый пользователь . Мы видим, что в не зависимости от наличия подписки или нет, в среднем пользователь тратит в месяц 342 рубля, хотя медиана из-за выбросов 319 рубля. Также мы видим что основная масса пользователей тратит от 200 до 415 рублей.\n",
    "\n",
    "  Также были выдвинуты три гипотезы, получили следующие результаты:\n",
    "\n",
    "1. тратят ли пользователи с подпиской больше времени на поездки : после проведения теста мы видим что р — значение меньше альфы поэтому нулевую гипотезу отвергаем. Среднее значение подтверждает нам, что с подпиской катаются дольше.\n",
    "\n",
    "2. среднее расстояние, которое проезжают пользователи с подпиской за одну поездку, не превышает 3130 метров: после проведения теста мы видим что р — значение больше альфы поэтому нулевую гипотезу не отвергаем. Нельзя сказать что среднее расстояние пользователей с подпиской равно 3130 метров. В тоже время в числовом выражении оно составляет 3115.45 метров, что однозначно меньше 3130 метров, это означает что среднее расстояние, которое проезжают пользователи с подпиской за одну поездку, не превышает 3130 метров. \n",
    "\n",
    "3. будет ли помесячная выручка от пользователей с подпиской по месяцам выше, чем выручка от пользователей без подписки : После проведения теста мы отвергаем нулевую гипотезу что выручка равна. К тому же средняя выручка пользователей с подпиской в числовом выражении выше средней выручки пользователей без подписки.\n",
    "\n",
    "  Окончательные итоги : \n",
    " Компании GoFast стоит развивать свой бизнес и в иных городах. 46% пользователей с подпиской  показывает что сервис нравится клиентам. \n",
    " Также,  стоит обратить внимание на то, что средняя выручка от клиентов с подпиской выше чем выручка от пользователей без подписки. Компании стоит принять дополнительные шаги для завлечения новых подписчиков."
   ]
  },
  {
   "cell_type": "code",
   "execution_count": null,
   "id": "6459cd5a",
   "metadata": {},
   "outputs": [],
   "source": []
  }
 ],
 "metadata": {
  "ExecuteTimeLog": [
   {
    "duration": 1299,
    "start_time": "2024-02-03T10:37:36.460Z"
   },
   {
    "duration": 282,
    "start_time": "2024-02-03T10:45:35.369Z"
   },
   {
    "duration": 104,
    "start_time": "2024-02-03T10:46:38.498Z"
   },
   {
    "duration": 8,
    "start_time": "2024-02-03T10:47:06.369Z"
   },
   {
    "duration": 68,
    "start_time": "2024-02-03T10:47:09.261Z"
   },
   {
    "duration": 17,
    "start_time": "2024-02-03T10:47:11.303Z"
   },
   {
    "duration": 14,
    "start_time": "2024-02-03T10:47:31.238Z"
   },
   {
    "duration": 10,
    "start_time": "2024-02-03T10:47:47.452Z"
   },
   {
    "duration": 12,
    "start_time": "2024-02-03T10:47:59.661Z"
   },
   {
    "duration": 12,
    "start_time": "2024-02-03T10:48:09.876Z"
   },
   {
    "duration": 8,
    "start_time": "2024-02-03T10:50:48.884Z"
   },
   {
    "duration": 11,
    "start_time": "2024-02-03T10:51:16.077Z"
   },
   {
    "duration": 7,
    "start_time": "2024-02-03T10:51:33.375Z"
   },
   {
    "duration": 84,
    "start_time": "2024-02-03T10:51:40.461Z"
   },
   {
    "duration": 15,
    "start_time": "2024-02-03T10:52:08.654Z"
   },
   {
    "duration": 13,
    "start_time": "2024-02-03T10:52:42.762Z"
   },
   {
    "duration": 14,
    "start_time": "2024-02-03T10:53:05.805Z"
   },
   {
    "duration": 18,
    "start_time": "2024-02-03T10:58:42.425Z"
   },
   {
    "duration": 2,
    "start_time": "2024-02-03T11:03:38.257Z"
   },
   {
    "duration": 18,
    "start_time": "2024-02-03T11:04:09.351Z"
   },
   {
    "duration": 17,
    "start_time": "2024-02-03T11:04:38.150Z"
   },
   {
    "duration": 16,
    "start_time": "2024-02-03T11:05:37.071Z"
   },
   {
    "duration": 5,
    "start_time": "2024-02-03T11:28:57.609Z"
   },
   {
    "duration": 323,
    "start_time": "2024-02-03T11:29:01.797Z"
   },
   {
    "duration": 519,
    "start_time": "2024-02-03T11:29:21.397Z"
   },
   {
    "duration": 336,
    "start_time": "2024-02-03T11:29:48.626Z"
   },
   {
    "duration": 3,
    "start_time": "2024-02-03T11:30:11.959Z"
   },
   {
    "duration": 19,
    "start_time": "2024-02-03T11:30:14.817Z"
   },
   {
    "duration": 20,
    "start_time": "2024-02-03T11:30:17.674Z"
   },
   {
    "duration": 16,
    "start_time": "2024-02-03T11:30:19.541Z"
   },
   {
    "duration": 1304,
    "start_time": "2024-02-05T07:06:58.959Z"
   },
   {
    "duration": 200,
    "start_time": "2024-02-05T07:07:03.324Z"
   },
   {
    "duration": 2,
    "start_time": "2024-02-05T07:07:05.662Z"
   },
   {
    "duration": 21,
    "start_time": "2024-02-05T07:07:08.054Z"
   },
   {
    "duration": 17,
    "start_time": "2024-02-05T07:07:12.342Z"
   },
   {
    "duration": 14,
    "start_time": "2024-02-05T07:10:59.237Z"
   },
   {
    "duration": 14,
    "start_time": "2024-02-05T07:12:37.178Z"
   },
   {
    "duration": 10,
    "start_time": "2024-02-05T07:12:51.927Z"
   },
   {
    "duration": 5,
    "start_time": "2024-02-05T07:20:40.406Z"
   },
   {
    "duration": 6,
    "start_time": "2024-02-05T07:21:19.330Z"
   },
   {
    "duration": 7,
    "start_time": "2024-02-05T07:27:41.847Z"
   },
   {
    "duration": 3,
    "start_time": "2024-02-05T07:30:50.319Z"
   },
   {
    "duration": 7,
    "start_time": "2024-02-05T07:32:19.112Z"
   },
   {
    "duration": 90,
    "start_time": "2024-02-05T07:33:11.852Z"
   },
   {
    "duration": 10,
    "start_time": "2024-02-05T07:33:27.329Z"
   },
   {
    "duration": 8,
    "start_time": "2024-02-05T07:41:48.083Z"
   },
   {
    "duration": 5,
    "start_time": "2024-02-05T07:43:46.650Z"
   },
   {
    "duration": 7,
    "start_time": "2024-02-05T07:45:58.104Z"
   },
   {
    "duration": 6,
    "start_time": "2024-02-05T07:46:15.966Z"
   },
   {
    "duration": 67,
    "start_time": "2024-02-05T10:37:32.231Z"
   },
   {
    "duration": 9,
    "start_time": "2024-02-05T10:48:51.144Z"
   },
   {
    "duration": 7,
    "start_time": "2024-02-05T10:49:00.175Z"
   },
   {
    "duration": 6,
    "start_time": "2024-02-05T10:49:08.383Z"
   },
   {
    "duration": 35,
    "start_time": "2024-02-05T10:51:18.685Z"
   },
   {
    "duration": 13,
    "start_time": "2024-02-05T10:52:02.699Z"
   },
   {
    "duration": 11,
    "start_time": "2024-02-05T10:52:54.141Z"
   },
   {
    "duration": 79,
    "start_time": "2024-02-05T10:59:16.425Z"
   },
   {
    "duration": 184,
    "start_time": "2024-02-05T13:23:12.134Z"
   },
   {
    "duration": 4,
    "start_time": "2024-02-05T13:27:25.310Z"
   },
   {
    "duration": 163,
    "start_time": "2024-02-05T13:27:37.328Z"
   },
   {
    "duration": 11,
    "start_time": "2024-02-05T13:31:28.972Z"
   },
   {
    "duration": 12,
    "start_time": "2024-02-05T13:32:03.051Z"
   },
   {
    "duration": 12,
    "start_time": "2024-02-05T13:34:40.999Z"
   },
   {
    "duration": 12,
    "start_time": "2024-02-05T13:34:57.175Z"
   },
   {
    "duration": 166,
    "start_time": "2024-02-05T13:37:24.397Z"
   },
   {
    "duration": 18,
    "start_time": "2024-02-05T13:42:31.397Z"
   },
   {
    "duration": 9,
    "start_time": "2024-02-05T13:42:54.396Z"
   },
   {
    "duration": 10,
    "start_time": "2024-02-05T13:46:34.517Z"
   },
   {
    "duration": 133,
    "start_time": "2024-02-05T13:54:41.014Z"
   },
   {
    "duration": 111,
    "start_time": "2024-02-05T13:57:15.395Z"
   },
   {
    "duration": 129,
    "start_time": "2024-02-05T13:57:26.431Z"
   },
   {
    "duration": 137,
    "start_time": "2024-02-05T13:57:55.883Z"
   },
   {
    "duration": 140,
    "start_time": "2024-02-05T13:58:37.201Z"
   },
   {
    "duration": 10,
    "start_time": "2024-02-05T14:32:51.555Z"
   },
   {
    "duration": 151,
    "start_time": "2024-02-05T14:33:38.305Z"
   },
   {
    "duration": 79,
    "start_time": "2024-02-05T14:34:42.855Z"
   },
   {
    "duration": 71,
    "start_time": "2024-02-05T14:43:08.582Z"
   },
   {
    "duration": 71,
    "start_time": "2024-02-05T14:43:19.046Z"
   },
   {
    "duration": 127,
    "start_time": "2024-02-05T14:43:33.388Z"
   },
   {
    "duration": 72,
    "start_time": "2024-02-05T14:45:42.039Z"
   },
   {
    "duration": 77,
    "start_time": "2024-02-05T14:46:00.986Z"
   },
   {
    "duration": 4,
    "start_time": "2024-02-05T14:46:08.782Z"
   },
   {
    "duration": 77,
    "start_time": "2024-02-05T14:47:06.414Z"
   },
   {
    "duration": 8,
    "start_time": "2024-02-05T15:18:34.998Z"
   },
   {
    "duration": 206,
    "start_time": "2024-02-05T15:20:38.820Z"
   },
   {
    "duration": 106,
    "start_time": "2024-02-05T15:21:15.843Z"
   },
   {
    "duration": 180,
    "start_time": "2024-02-05T15:22:07.221Z"
   },
   {
    "duration": 224,
    "start_time": "2024-02-05T15:22:20.485Z"
   },
   {
    "duration": 10,
    "start_time": "2024-02-05T15:24:14.046Z"
   },
   {
    "duration": 6,
    "start_time": "2024-02-05T15:24:26.938Z"
   },
   {
    "duration": 7,
    "start_time": "2024-02-05T15:24:40.974Z"
   },
   {
    "duration": 13,
    "start_time": "2024-02-05T15:37:09.487Z"
   },
   {
    "duration": 9,
    "start_time": "2024-02-05T15:38:32.715Z"
   },
   {
    "duration": 8,
    "start_time": "2024-02-05T15:45:58.657Z"
   },
   {
    "duration": 1112,
    "start_time": "2024-02-05T15:46:04.514Z"
   },
   {
    "duration": 8,
    "start_time": "2024-02-05T15:47:23.101Z"
   },
   {
    "duration": 1228,
    "start_time": "2024-02-05T15:48:45.812Z"
   },
   {
    "duration": 176,
    "start_time": "2024-02-05T15:48:57.298Z"
   },
   {
    "duration": 176,
    "start_time": "2024-02-05T15:59:19.463Z"
   },
   {
    "duration": 8,
    "start_time": "2024-02-05T16:00:22.715Z"
   },
   {
    "duration": 9,
    "start_time": "2024-02-05T16:01:19.105Z"
   },
   {
    "duration": 9,
    "start_time": "2024-02-05T16:13:56.747Z"
   },
   {
    "duration": 7,
    "start_time": "2024-02-05T16:17:44.130Z"
   },
   {
    "duration": 8,
    "start_time": "2024-02-05T16:17:59.618Z"
   },
   {
    "duration": 8,
    "start_time": "2024-02-05T16:18:12.457Z"
   },
   {
    "duration": 9,
    "start_time": "2024-02-05T16:18:19.466Z"
   },
   {
    "duration": 5,
    "start_time": "2024-02-05T16:19:25.756Z"
   },
   {
    "duration": 12,
    "start_time": "2024-02-05T16:19:38.570Z"
   },
   {
    "duration": 1287,
    "start_time": "2024-02-06T06:47:37.928Z"
   },
   {
    "duration": 201,
    "start_time": "2024-02-06T06:47:39.217Z"
   },
   {
    "duration": 4,
    "start_time": "2024-02-06T06:47:39.420Z"
   },
   {
    "duration": 29,
    "start_time": "2024-02-06T06:47:39.427Z"
   },
   {
    "duration": 18,
    "start_time": "2024-02-06T06:47:39.458Z"
   },
   {
    "duration": 14,
    "start_time": "2024-02-06T06:47:39.477Z"
   },
   {
    "duration": 10,
    "start_time": "2024-02-06T06:47:39.493Z"
   },
   {
    "duration": 2,
    "start_time": "2024-02-06T06:47:39.505Z"
   },
   {
    "duration": 19,
    "start_time": "2024-02-06T06:47:39.509Z"
   },
   {
    "duration": 14,
    "start_time": "2024-02-06T06:47:39.530Z"
   },
   {
    "duration": 10,
    "start_time": "2024-02-06T06:47:39.564Z"
   },
   {
    "duration": 6,
    "start_time": "2024-02-06T06:47:39.575Z"
   },
   {
    "duration": 12,
    "start_time": "2024-02-06T06:47:39.582Z"
   },
   {
    "duration": 222,
    "start_time": "2024-02-06T06:47:39.595Z"
   },
   {
    "duration": 136,
    "start_time": "2024-02-06T06:47:39.818Z"
   },
   {
    "duration": 12,
    "start_time": "2024-02-06T06:47:39.955Z"
   },
   {
    "duration": 80,
    "start_time": "2024-02-06T06:47:39.968Z"
   },
   {
    "duration": 22,
    "start_time": "2024-02-06T06:47:40.050Z"
   },
   {
    "duration": 183,
    "start_time": "2024-02-06T06:47:40.074Z"
   },
   {
    "duration": 11,
    "start_time": "2024-02-06T06:47:40.259Z"
   },
   {
    "duration": 14,
    "start_time": "2024-02-06T06:47:40.271Z"
   },
   {
    "duration": 10,
    "start_time": "2024-02-06T06:47:40.287Z"
   },
   {
    "duration": 221,
    "start_time": "2024-02-06T06:47:40.299Z"
   },
   {
    "duration": 6,
    "start_time": "2024-02-06T06:48:14.621Z"
   },
   {
    "duration": 199,
    "start_time": "2024-02-06T06:49:03.840Z"
   },
   {
    "duration": 204,
    "start_time": "2024-02-06T06:49:34.478Z"
   },
   {
    "duration": 10,
    "start_time": "2024-02-06T06:51:32.421Z"
   },
   {
    "duration": 249,
    "start_time": "2024-02-06T07:01:28.658Z"
   },
   {
    "duration": 155,
    "start_time": "2024-02-06T07:10:59.242Z"
   },
   {
    "duration": 9,
    "start_time": "2024-02-06T07:11:56.243Z"
   },
   {
    "duration": 195,
    "start_time": "2024-02-06T07:29:13.895Z"
   },
   {
    "duration": 277,
    "start_time": "2024-02-06T07:30:55.420Z"
   },
   {
    "duration": 195,
    "start_time": "2024-02-06T07:31:30.830Z"
   },
   {
    "duration": 200,
    "start_time": "2024-02-06T07:32:04.543Z"
   },
   {
    "duration": 198,
    "start_time": "2024-02-06T07:32:31.392Z"
   },
   {
    "duration": 193,
    "start_time": "2024-02-06T07:32:53.800Z"
   },
   {
    "duration": 197,
    "start_time": "2024-02-06T07:33:12.753Z"
   },
   {
    "duration": 193,
    "start_time": "2024-02-06T07:33:21.942Z"
   },
   {
    "duration": 17,
    "start_time": "2024-02-06T09:24:16.747Z"
   },
   {
    "duration": 23,
    "start_time": "2024-02-06T09:24:38.034Z"
   },
   {
    "duration": 9,
    "start_time": "2024-02-06T09:33:15.323Z"
   },
   {
    "duration": 16,
    "start_time": "2024-02-06T09:33:30.523Z"
   },
   {
    "duration": 10,
    "start_time": "2024-02-06T09:53:51.547Z"
   },
   {
    "duration": 15,
    "start_time": "2024-02-06T09:54:07.456Z"
   },
   {
    "duration": 42,
    "start_time": "2024-02-06T09:59:38.498Z"
   },
   {
    "duration": 98,
    "start_time": "2024-02-06T10:00:48.056Z"
   },
   {
    "duration": 40,
    "start_time": "2024-02-06T10:00:55.155Z"
   },
   {
    "duration": 40,
    "start_time": "2024-02-06T10:01:12.475Z"
   },
   {
    "duration": 41,
    "start_time": "2024-02-06T10:02:00.698Z"
   },
   {
    "duration": 216,
    "start_time": "2024-02-06T10:16:09.392Z"
   },
   {
    "duration": 297,
    "start_time": "2024-02-06T10:18:43.780Z"
   },
   {
    "duration": 307,
    "start_time": "2024-02-06T10:22:06.178Z"
   },
   {
    "duration": 314,
    "start_time": "2024-02-06T10:24:01.831Z"
   },
   {
    "duration": 13,
    "start_time": "2024-02-06T10:25:41.842Z"
   },
   {
    "duration": 160,
    "start_time": "2024-02-06T10:30:03.834Z"
   },
   {
    "duration": 169,
    "start_time": "2024-02-06T10:30:31.980Z"
   },
   {
    "duration": 167,
    "start_time": "2024-02-06T10:34:05.535Z"
   },
   {
    "duration": 1557,
    "start_time": "2024-02-06T10:34:37.878Z"
   },
   {
    "duration": 172,
    "start_time": "2024-02-06T10:34:51.923Z"
   },
   {
    "duration": 169,
    "start_time": "2024-02-06T10:35:28.644Z"
   },
   {
    "duration": 166,
    "start_time": "2024-02-06T10:36:28.771Z"
   },
   {
    "duration": 267,
    "start_time": "2024-02-06T10:36:53.342Z"
   },
   {
    "duration": 222,
    "start_time": "2024-02-06T10:37:23.132Z"
   },
   {
    "duration": 224,
    "start_time": "2024-02-06T10:37:37.695Z"
   },
   {
    "duration": 315,
    "start_time": "2024-02-06T10:45:48.198Z"
   },
   {
    "duration": 365,
    "start_time": "2024-02-06T10:46:18.757Z"
   },
   {
    "duration": 436,
    "start_time": "2024-02-06T10:46:25.510Z"
   },
   {
    "duration": 392,
    "start_time": "2024-02-06T10:46:40.471Z"
   },
   {
    "duration": 308,
    "start_time": "2024-02-06T10:46:50.537Z"
   },
   {
    "duration": 324,
    "start_time": "2024-02-06T10:48:40.986Z"
   },
   {
    "duration": 204,
    "start_time": "2024-02-06T10:49:26.335Z"
   },
   {
    "duration": 228,
    "start_time": "2024-02-06T10:51:38.677Z"
   },
   {
    "duration": 200,
    "start_time": "2024-02-06T10:51:58.976Z"
   },
   {
    "duration": 313,
    "start_time": "2024-02-06T10:52:12.436Z"
   },
   {
    "duration": 196,
    "start_time": "2024-02-06T10:52:30.334Z"
   },
   {
    "duration": 196,
    "start_time": "2024-02-06T10:53:19.076Z"
   },
   {
    "duration": 174,
    "start_time": "2024-02-06T10:55:39.223Z"
   },
   {
    "duration": 188,
    "start_time": "2024-02-06T12:19:05.614Z"
   },
   {
    "duration": 260,
    "start_time": "2024-02-06T12:21:55.407Z"
   },
   {
    "duration": 233,
    "start_time": "2024-02-06T12:22:22.825Z"
   },
   {
    "duration": 315,
    "start_time": "2024-02-06T12:22:40.005Z"
   },
   {
    "duration": 446,
    "start_time": "2024-02-06T12:23:39.415Z"
   },
   {
    "duration": 254,
    "start_time": "2024-02-06T12:24:25.375Z"
   },
   {
    "duration": 310,
    "start_time": "2024-02-06T12:24:37.548Z"
   },
   {
    "duration": 316,
    "start_time": "2024-02-06T12:24:53.033Z"
   },
   {
    "duration": 322,
    "start_time": "2024-02-06T12:25:34.508Z"
   },
   {
    "duration": 327,
    "start_time": "2024-02-06T12:26:57.436Z"
   },
   {
    "duration": 454,
    "start_time": "2024-02-06T12:27:36.436Z"
   },
   {
    "duration": 300,
    "start_time": "2024-02-06T12:28:26.741Z"
   },
   {
    "duration": 308,
    "start_time": "2024-02-06T12:28:39.537Z"
   },
   {
    "duration": 343,
    "start_time": "2024-02-06T12:29:09.029Z"
   },
   {
    "duration": 340,
    "start_time": "2024-02-06T12:43:38.250Z"
   },
   {
    "duration": 1568,
    "start_time": "2024-02-06T12:50:12.592Z"
   },
   {
    "duration": 1353,
    "start_time": "2024-02-06T12:51:03.901Z"
   },
   {
    "duration": 29,
    "start_time": "2024-02-06T12:51:30.339Z"
   },
   {
    "duration": 40,
    "start_time": "2024-02-06T12:51:52.418Z"
   },
   {
    "duration": 2,
    "start_time": "2024-02-06T13:04:57.617Z"
   },
   {
    "duration": 17,
    "start_time": "2024-02-06T13:10:08.662Z"
   },
   {
    "duration": 14,
    "start_time": "2024-02-06T13:13:21.187Z"
   },
   {
    "duration": 817,
    "start_time": "2024-02-06T13:14:32.385Z"
   },
   {
    "duration": 814,
    "start_time": "2024-02-06T13:14:53.404Z"
   },
   {
    "duration": 737,
    "start_time": "2024-02-06T13:21:49.877Z"
   },
   {
    "duration": 769,
    "start_time": "2024-02-06T15:47:59.927Z"
   },
   {
    "duration": 803,
    "start_time": "2024-02-06T15:48:46.903Z"
   },
   {
    "duration": 2066,
    "start_time": "2024-02-06T15:57:52.491Z"
   },
   {
    "duration": 774,
    "start_time": "2024-02-06T16:02:49.193Z"
   },
   {
    "duration": 769,
    "start_time": "2024-02-06T16:03:16.315Z"
   },
   {
    "duration": 1920,
    "start_time": "2024-02-06T16:15:44.412Z"
   },
   {
    "duration": 843,
    "start_time": "2024-02-06T16:16:00.927Z"
   },
   {
    "duration": 1059,
    "start_time": "2024-02-06T16:18:32.498Z"
   },
   {
    "duration": 68,
    "start_time": "2024-02-06T16:18:33.559Z"
   },
   {
    "duration": 3,
    "start_time": "2024-02-06T16:18:33.628Z"
   },
   {
    "duration": 26,
    "start_time": "2024-02-06T16:18:33.632Z"
   },
   {
    "duration": 15,
    "start_time": "2024-02-06T16:18:33.660Z"
   },
   {
    "duration": 13,
    "start_time": "2024-02-06T16:18:33.676Z"
   },
   {
    "duration": 9,
    "start_time": "2024-02-06T16:18:33.690Z"
   },
   {
    "duration": 2,
    "start_time": "2024-02-06T16:18:33.700Z"
   },
   {
    "duration": 7,
    "start_time": "2024-02-06T16:18:33.703Z"
   },
   {
    "duration": 8,
    "start_time": "2024-02-06T16:18:33.712Z"
   },
   {
    "duration": 8,
    "start_time": "2024-02-06T16:18:33.721Z"
   },
   {
    "duration": 7,
    "start_time": "2024-02-06T16:18:33.765Z"
   },
   {
    "duration": 12,
    "start_time": "2024-02-06T16:18:33.773Z"
   },
   {
    "duration": 186,
    "start_time": "2024-02-06T16:18:33.786Z"
   },
   {
    "duration": 131,
    "start_time": "2024-02-06T16:18:33.974Z"
   },
   {
    "duration": 5,
    "start_time": "2024-02-06T16:18:34.106Z"
   },
   {
    "duration": 91,
    "start_time": "2024-02-06T16:18:34.112Z"
   },
   {
    "duration": 10,
    "start_time": "2024-02-06T16:18:34.204Z"
   },
   {
    "duration": 188,
    "start_time": "2024-02-06T16:18:34.215Z"
   },
   {
    "duration": 9,
    "start_time": "2024-02-06T16:18:34.404Z"
   },
   {
    "duration": 8,
    "start_time": "2024-02-06T16:18:34.415Z"
   },
   {
    "duration": 241,
    "start_time": "2024-02-06T16:18:34.424Z"
   },
   {
    "duration": 10,
    "start_time": "2024-02-06T16:18:34.666Z"
   },
   {
    "duration": 219,
    "start_time": "2024-02-06T16:18:34.678Z"
   },
   {
    "duration": 24,
    "start_time": "2024-02-06T16:18:34.899Z"
   },
   {
    "duration": 141,
    "start_time": "2024-02-06T16:18:34.925Z"
   },
   {
    "duration": 40,
    "start_time": "2024-02-06T16:18:35.067Z"
   },
   {
    "duration": 356,
    "start_time": "2024-02-06T16:18:35.110Z"
   },
   {
    "duration": 338,
    "start_time": "2024-02-06T16:18:35.468Z"
   },
   {
    "duration": 788,
    "start_time": "2024-02-06T16:18:35.807Z"
   },
   {
    "duration": 1224,
    "start_time": "2024-02-06T16:18:36.596Z"
   },
   {
    "duration": 822,
    "start_time": "2024-02-06T16:19:39.444Z"
   },
   {
    "duration": 849,
    "start_time": "2024-02-06T16:20:40.522Z"
   },
   {
    "duration": 1273,
    "start_time": "2024-02-07T07:02:29.160Z"
   },
   {
    "duration": 194,
    "start_time": "2024-02-07T07:02:30.435Z"
   },
   {
    "duration": 4,
    "start_time": "2024-02-07T07:02:30.631Z"
   },
   {
    "duration": 44,
    "start_time": "2024-02-07T07:02:30.637Z"
   },
   {
    "duration": 51,
    "start_time": "2024-02-07T07:02:30.682Z"
   },
   {
    "duration": 69,
    "start_time": "2024-02-07T07:02:30.734Z"
   },
   {
    "duration": 69,
    "start_time": "2024-02-07T07:02:30.804Z"
   },
   {
    "duration": 9,
    "start_time": "2024-02-07T07:02:30.875Z"
   },
   {
    "duration": 38,
    "start_time": "2024-02-07T07:02:30.886Z"
   },
   {
    "duration": 46,
    "start_time": "2024-02-07T07:02:30.927Z"
   },
   {
    "duration": 28,
    "start_time": "2024-02-07T07:02:30.975Z"
   },
   {
    "duration": 17,
    "start_time": "2024-02-07T07:02:31.005Z"
   },
   {
    "duration": 73,
    "start_time": "2024-02-07T07:02:31.024Z"
   },
   {
    "duration": 256,
    "start_time": "2024-02-07T07:02:31.099Z"
   },
   {
    "duration": 136,
    "start_time": "2024-02-07T07:02:31.357Z"
   },
   {
    "duration": 5,
    "start_time": "2024-02-07T07:02:31.495Z"
   },
   {
    "duration": 116,
    "start_time": "2024-02-07T07:02:31.502Z"
   },
   {
    "duration": 13,
    "start_time": "2024-02-07T07:02:31.620Z"
   },
   {
    "duration": 276,
    "start_time": "2024-02-07T07:02:31.634Z"
   },
   {
    "duration": 12,
    "start_time": "2024-02-07T07:02:31.912Z"
   },
   {
    "duration": 30,
    "start_time": "2024-02-07T07:02:31.926Z"
   },
   {
    "duration": 213,
    "start_time": "2024-02-07T07:02:31.958Z"
   },
   {
    "duration": 9,
    "start_time": "2024-02-07T07:02:32.172Z"
   },
   {
    "duration": 328,
    "start_time": "2024-02-07T07:02:32.182Z"
   },
   {
    "duration": 23,
    "start_time": "2024-02-07T07:02:32.512Z"
   },
   {
    "duration": 115,
    "start_time": "2024-02-07T07:02:32.536Z"
   },
   {
    "duration": 42,
    "start_time": "2024-02-07T07:02:32.652Z"
   },
   {
    "duration": 361,
    "start_time": "2024-02-07T07:02:32.697Z"
   },
   {
    "duration": 342,
    "start_time": "2024-02-07T07:02:33.059Z"
   },
   {
    "duration": 853,
    "start_time": "2024-02-07T07:02:33.403Z"
   },
   {
    "duration": 1286,
    "start_time": "2024-02-07T07:02:34.257Z"
   },
   {
    "duration": 9,
    "start_time": "2024-02-07T08:23:33.024Z"
   },
   {
    "duration": 33,
    "start_time": "2024-02-07T08:24:18.438Z"
   },
   {
    "duration": 48,
    "start_time": "2024-02-07T08:24:29.321Z"
   },
   {
    "duration": 49,
    "start_time": "2024-02-07T08:24:41.222Z"
   },
   {
    "duration": 335,
    "start_time": "2024-02-07T08:24:54.951Z"
   },
   {
    "duration": 40,
    "start_time": "2024-02-07T08:25:18.071Z"
   },
   {
    "duration": 44,
    "start_time": "2024-02-07T08:26:08.711Z"
   },
   {
    "duration": 43,
    "start_time": "2024-02-07T08:26:33.530Z"
   },
   {
    "duration": 55,
    "start_time": "2024-02-07T08:26:41.151Z"
   },
   {
    "duration": 50,
    "start_time": "2024-02-07T08:27:12.912Z"
   },
   {
    "duration": 55,
    "start_time": "2024-02-07T08:27:18.148Z"
   },
   {
    "duration": 1123,
    "start_time": "2024-02-07T08:32:28.175Z"
   },
   {
    "duration": 9,
    "start_time": "2024-02-07T08:36:30.581Z"
   },
   {
    "duration": 15,
    "start_time": "2024-02-07T08:36:53.571Z"
   },
   {
    "duration": 823,
    "start_time": "2024-02-07T08:37:13.725Z"
   },
   {
    "duration": 791,
    "start_time": "2024-02-07T08:37:28.301Z"
   },
   {
    "duration": 3,
    "start_time": "2024-02-07T08:47:41.249Z"
   },
   {
    "duration": 74,
    "start_time": "2024-02-07T09:49:15.045Z"
   },
   {
    "duration": 82,
    "start_time": "2024-02-07T09:49:30.169Z"
   },
   {
    "duration": 1158,
    "start_time": "2024-02-07T09:50:04.145Z"
   },
   {
    "duration": 70,
    "start_time": "2024-02-07T09:50:05.304Z"
   },
   {
    "duration": 3,
    "start_time": "2024-02-07T09:50:05.376Z"
   },
   {
    "duration": 49,
    "start_time": "2024-02-07T09:50:05.380Z"
   },
   {
    "duration": 19,
    "start_time": "2024-02-07T09:50:05.432Z"
   },
   {
    "duration": 18,
    "start_time": "2024-02-07T09:50:05.453Z"
   },
   {
    "duration": 19,
    "start_time": "2024-02-07T09:50:05.473Z"
   },
   {
    "duration": 2,
    "start_time": "2024-02-07T09:50:05.494Z"
   },
   {
    "duration": 19,
    "start_time": "2024-02-07T09:50:05.498Z"
   },
   {
    "duration": 15,
    "start_time": "2024-02-07T09:50:05.519Z"
   },
   {
    "duration": 21,
    "start_time": "2024-02-07T09:50:05.535Z"
   },
   {
    "duration": 17,
    "start_time": "2024-02-07T09:50:05.558Z"
   },
   {
    "duration": 42,
    "start_time": "2024-02-07T09:50:05.577Z"
   },
   {
    "duration": 207,
    "start_time": "2024-02-07T09:50:05.622Z"
   },
   {
    "duration": 136,
    "start_time": "2024-02-07T09:50:05.830Z"
   },
   {
    "duration": 5,
    "start_time": "2024-02-07T09:50:05.967Z"
   },
   {
    "duration": 92,
    "start_time": "2024-02-07T09:50:05.973Z"
   },
   {
    "duration": 10,
    "start_time": "2024-02-07T09:50:06.066Z"
   },
   {
    "duration": 211,
    "start_time": "2024-02-07T09:50:06.078Z"
   },
   {
    "duration": 9,
    "start_time": "2024-02-07T09:50:06.291Z"
   },
   {
    "duration": 13,
    "start_time": "2024-02-07T09:50:06.302Z"
   },
   {
    "duration": 239,
    "start_time": "2024-02-07T09:50:06.333Z"
   },
   {
    "duration": 9,
    "start_time": "2024-02-07T09:50:06.574Z"
   },
   {
    "duration": 216,
    "start_time": "2024-02-07T09:50:06.584Z"
   },
   {
    "duration": 34,
    "start_time": "2024-02-07T09:50:06.801Z"
   },
   {
    "duration": 125,
    "start_time": "2024-02-07T09:50:06.837Z"
   },
   {
    "duration": 44,
    "start_time": "2024-02-07T09:50:06.964Z"
   },
   {
    "duration": 359,
    "start_time": "2024-02-07T09:50:07.009Z"
   },
   {
    "duration": 339,
    "start_time": "2024-02-07T09:50:07.369Z"
   },
   {
    "duration": 803,
    "start_time": "2024-02-07T09:50:07.710Z"
   },
   {
    "duration": 30,
    "start_time": "2024-02-07T09:50:08.514Z"
   },
   {
    "duration": 1105,
    "start_time": "2024-02-07T09:51:00.476Z"
   },
   {
    "duration": 70,
    "start_time": "2024-02-07T09:51:01.582Z"
   },
   {
    "duration": 11,
    "start_time": "2024-02-07T09:51:01.654Z"
   },
   {
    "duration": 98,
    "start_time": "2024-02-07T09:51:01.667Z"
   },
   {
    "duration": 50,
    "start_time": "2024-02-07T09:51:01.767Z"
   },
   {
    "duration": 59,
    "start_time": "2024-02-07T09:51:01.818Z"
   },
   {
    "duration": 50,
    "start_time": "2024-02-07T09:51:01.878Z"
   },
   {
    "duration": 36,
    "start_time": "2024-02-07T09:51:01.930Z"
   },
   {
    "duration": 67,
    "start_time": "2024-02-07T09:51:01.968Z"
   },
   {
    "duration": 38,
    "start_time": "2024-02-07T09:51:02.038Z"
   },
   {
    "duration": 113,
    "start_time": "2024-02-07T09:51:02.078Z"
   },
   {
    "duration": 39,
    "start_time": "2024-02-07T09:51:02.192Z"
   },
   {
    "duration": 42,
    "start_time": "2024-02-07T09:51:02.232Z"
   },
   {
    "duration": 320,
    "start_time": "2024-02-07T09:51:02.275Z"
   },
   {
    "duration": 132,
    "start_time": "2024-02-07T09:51:02.596Z"
   },
   {
    "duration": 5,
    "start_time": "2024-02-07T09:51:02.729Z"
   },
   {
    "duration": 147,
    "start_time": "2024-02-07T09:51:02.735Z"
   },
   {
    "duration": 11,
    "start_time": "2024-02-07T09:51:02.884Z"
   },
   {
    "duration": 177,
    "start_time": "2024-02-07T09:51:02.897Z"
   },
   {
    "duration": 10,
    "start_time": "2024-02-07T09:51:03.076Z"
   },
   {
    "duration": 102,
    "start_time": "2024-02-07T09:51:03.088Z"
   },
   {
    "duration": 346,
    "start_time": "2024-02-07T09:51:03.191Z"
   },
   {
    "duration": 11,
    "start_time": "2024-02-07T09:51:03.538Z"
   },
   {
    "duration": 210,
    "start_time": "2024-02-07T09:51:03.551Z"
   },
   {
    "duration": 23,
    "start_time": "2024-02-07T09:51:03.763Z"
   },
   {
    "duration": 118,
    "start_time": "2024-02-07T09:51:03.788Z"
   },
   {
    "duration": 52,
    "start_time": "2024-02-07T09:51:03.908Z"
   },
   {
    "duration": 354,
    "start_time": "2024-02-07T09:51:03.963Z"
   },
   {
    "duration": 325,
    "start_time": "2024-02-07T09:51:04.318Z"
   },
   {
    "duration": 724,
    "start_time": "2024-02-07T09:51:04.644Z"
   },
   {
    "duration": 15,
    "start_time": "2024-02-07T09:51:05.370Z"
   },
   {
    "duration": 1423,
    "start_time": "2024-02-07T09:53:46.080Z"
   },
   {
    "duration": 142,
    "start_time": "2024-02-07T09:54:16.455Z"
   },
   {
    "duration": 870,
    "start_time": "2024-02-07T09:56:53.607Z"
   },
   {
    "duration": 199,
    "start_time": "2024-02-07T09:57:13.786Z"
   },
   {
    "duration": 168,
    "start_time": "2024-02-07T09:57:37.502Z"
   },
   {
    "duration": 346,
    "start_time": "2024-02-07T10:08:28.884Z"
   },
   {
    "duration": 343,
    "start_time": "2024-02-07T10:09:07.219Z"
   },
   {
    "duration": 333,
    "start_time": "2024-02-07T10:10:58.616Z"
   },
   {
    "duration": 5,
    "start_time": "2024-02-07T10:41:13.658Z"
   },
   {
    "duration": 18,
    "start_time": "2024-02-07T10:43:29.187Z"
   },
   {
    "duration": 11,
    "start_time": "2024-02-07T12:15:26.260Z"
   },
   {
    "duration": 6,
    "start_time": "2024-02-07T13:31:50.650Z"
   },
   {
    "duration": 5,
    "start_time": "2024-02-07T13:32:47.855Z"
   },
   {
    "duration": 10,
    "start_time": "2024-02-07T13:39:32.038Z"
   },
   {
    "duration": 14,
    "start_time": "2024-02-07T13:39:50.812Z"
   },
   {
    "duration": 12,
    "start_time": "2024-02-07T13:40:09.724Z"
   },
   {
    "duration": 96,
    "start_time": "2024-02-07T13:40:42.187Z"
   },
   {
    "duration": 6,
    "start_time": "2024-02-07T13:40:53.030Z"
   },
   {
    "duration": 11,
    "start_time": "2024-02-07T14:12:01.323Z"
   },
   {
    "duration": 8,
    "start_time": "2024-02-07T14:18:25.052Z"
   },
   {
    "duration": 9,
    "start_time": "2024-02-07T14:19:04.284Z"
   },
   {
    "duration": 11,
    "start_time": "2024-02-07T14:19:26.950Z"
   },
   {
    "duration": 76,
    "start_time": "2024-02-07T14:29:43.625Z"
   },
   {
    "duration": 11,
    "start_time": "2024-02-07T14:30:00.851Z"
   },
   {
    "duration": 10,
    "start_time": "2024-02-07T14:31:55.308Z"
   },
   {
    "duration": 6,
    "start_time": "2024-02-07T14:32:17.889Z"
   },
   {
    "duration": 7,
    "start_time": "2024-02-07T14:33:31.714Z"
   },
   {
    "duration": 7,
    "start_time": "2024-02-07T14:41:36.440Z"
   },
   {
    "duration": 7,
    "start_time": "2024-02-07T14:41:47.697Z"
   },
   {
    "duration": 10,
    "start_time": "2024-02-07T15:24:11.542Z"
   },
   {
    "duration": 3,
    "start_time": "2024-02-07T15:25:13.130Z"
   },
   {
    "duration": 295,
    "start_time": "2024-02-07T15:25:26.640Z"
   },
   {
    "duration": 100,
    "start_time": "2024-02-07T15:26:43.184Z"
   },
   {
    "duration": 102,
    "start_time": "2024-02-07T15:28:14.077Z"
   },
   {
    "duration": 214,
    "start_time": "2024-02-07T15:28:21.366Z"
   },
   {
    "duration": 1506,
    "start_time": "2024-02-08T06:50:32.198Z"
   },
   {
    "duration": 196,
    "start_time": "2024-02-08T06:50:33.706Z"
   },
   {
    "duration": 5,
    "start_time": "2024-02-08T06:50:33.903Z"
   },
   {
    "duration": 45,
    "start_time": "2024-02-08T06:50:33.911Z"
   },
   {
    "duration": 46,
    "start_time": "2024-02-08T06:50:33.958Z"
   },
   {
    "duration": 22,
    "start_time": "2024-02-08T06:50:34.005Z"
   },
   {
    "duration": 12,
    "start_time": "2024-02-08T06:50:34.028Z"
   },
   {
    "duration": 5,
    "start_time": "2024-02-08T06:50:34.041Z"
   },
   {
    "duration": 39,
    "start_time": "2024-02-08T06:50:34.048Z"
   },
   {
    "duration": 31,
    "start_time": "2024-02-08T06:50:34.090Z"
   },
   {
    "duration": 24,
    "start_time": "2024-02-08T06:50:34.122Z"
   },
   {
    "duration": 6,
    "start_time": "2024-02-08T06:50:34.147Z"
   },
   {
    "duration": 14,
    "start_time": "2024-02-08T06:50:34.155Z"
   },
   {
    "duration": 200,
    "start_time": "2024-02-08T06:50:34.171Z"
   },
   {
    "duration": 147,
    "start_time": "2024-02-08T06:50:34.373Z"
   },
   {
    "duration": 4,
    "start_time": "2024-02-08T06:50:34.522Z"
   },
   {
    "duration": 99,
    "start_time": "2024-02-08T06:50:34.528Z"
   },
   {
    "duration": 10,
    "start_time": "2024-02-08T06:50:34.628Z"
   },
   {
    "duration": 218,
    "start_time": "2024-02-08T06:50:34.640Z"
   },
   {
    "duration": 10,
    "start_time": "2024-02-08T06:50:34.860Z"
   },
   {
    "duration": 27,
    "start_time": "2024-02-08T06:50:34.872Z"
   },
   {
    "duration": 259,
    "start_time": "2024-02-08T06:50:34.901Z"
   },
   {
    "duration": 10,
    "start_time": "2024-02-08T06:50:35.161Z"
   },
   {
    "duration": 244,
    "start_time": "2024-02-08T06:50:35.173Z"
   },
   {
    "duration": 28,
    "start_time": "2024-02-08T06:50:35.419Z"
   },
   {
    "duration": 141,
    "start_time": "2024-02-08T06:50:35.449Z"
   },
   {
    "duration": 60,
    "start_time": "2024-02-08T06:50:35.591Z"
   },
   {
    "duration": 378,
    "start_time": "2024-02-08T06:50:35.654Z"
   },
   {
    "duration": 372,
    "start_time": "2024-02-08T06:50:36.035Z"
   },
   {
    "duration": 858,
    "start_time": "2024-02-08T06:50:36.409Z"
   },
   {
    "duration": 406,
    "start_time": "2024-02-08T06:50:37.268Z"
   },
   {
    "duration": 7,
    "start_time": "2024-02-08T06:50:37.676Z"
   },
   {
    "duration": 18,
    "start_time": "2024-02-08T06:50:37.684Z"
   },
   {
    "duration": 52,
    "start_time": "2024-02-08T06:50:37.703Z"
   },
   {
    "duration": 270,
    "start_time": "2024-02-08T06:50:37.756Z"
   },
   {
    "duration": 6,
    "start_time": "2024-02-08T07:27:55.446Z"
   },
   {
    "duration": 1286,
    "start_time": "2024-02-08T07:38:58.116Z"
   },
   {
    "duration": 85,
    "start_time": "2024-02-08T07:38:59.404Z"
   },
   {
    "duration": 5,
    "start_time": "2024-02-08T07:38:59.494Z"
   },
   {
    "duration": 29,
    "start_time": "2024-02-08T07:38:59.502Z"
   },
   {
    "duration": 21,
    "start_time": "2024-02-08T07:38:59.533Z"
   },
   {
    "duration": 17,
    "start_time": "2024-02-08T07:38:59.556Z"
   },
   {
    "duration": 11,
    "start_time": "2024-02-08T07:38:59.575Z"
   },
   {
    "duration": 38,
    "start_time": "2024-02-08T07:38:59.588Z"
   },
   {
    "duration": 10,
    "start_time": "2024-02-08T07:38:59.627Z"
   },
   {
    "duration": 9,
    "start_time": "2024-02-08T07:38:59.640Z"
   },
   {
    "duration": 10,
    "start_time": "2024-02-08T07:38:59.651Z"
   },
   {
    "duration": 7,
    "start_time": "2024-02-08T07:38:59.663Z"
   },
   {
    "duration": 52,
    "start_time": "2024-02-08T07:38:59.672Z"
   },
   {
    "duration": 201,
    "start_time": "2024-02-08T07:38:59.726Z"
   },
   {
    "duration": 153,
    "start_time": "2024-02-08T07:38:59.929Z"
   },
   {
    "duration": 6,
    "start_time": "2024-02-08T07:39:00.084Z"
   },
   {
    "duration": 109,
    "start_time": "2024-02-08T07:39:00.092Z"
   },
   {
    "duration": 21,
    "start_time": "2024-02-08T07:39:00.203Z"
   },
   {
    "duration": 201,
    "start_time": "2024-02-08T07:39:00.225Z"
   },
   {
    "duration": 10,
    "start_time": "2024-02-08T07:39:00.428Z"
   },
   {
    "duration": 34,
    "start_time": "2024-02-08T07:39:00.440Z"
   },
   {
    "duration": 420,
    "start_time": "2024-02-08T07:39:00.475Z"
   },
   {
    "duration": 9,
    "start_time": "2024-02-08T07:39:00.897Z"
   },
   {
    "duration": 420,
    "start_time": "2024-02-08T07:39:00.908Z"
   },
   {
    "duration": 26,
    "start_time": "2024-02-08T07:39:01.330Z"
   },
   {
    "duration": 286,
    "start_time": "2024-02-08T07:39:01.357Z"
   },
   {
    "duration": 48,
    "start_time": "2024-02-08T07:39:01.645Z"
   },
   {
    "duration": 439,
    "start_time": "2024-02-08T07:39:01.697Z"
   },
   {
    "duration": 406,
    "start_time": "2024-02-08T07:39:02.138Z"
   },
   {
    "duration": 890,
    "start_time": "2024-02-08T07:39:02.546Z"
   },
   {
    "duration": 427,
    "start_time": "2024-02-08T07:39:03.437Z"
   },
   {
    "duration": 7,
    "start_time": "2024-02-08T07:39:03.866Z"
   },
   {
    "duration": 18,
    "start_time": "2024-02-08T07:39:03.875Z"
   },
   {
    "duration": 27,
    "start_time": "2024-02-08T07:39:03.895Z"
   },
   {
    "duration": 1275,
    "start_time": "2024-02-08T08:13:36.631Z"
   },
   {
    "duration": 74,
    "start_time": "2024-02-08T08:13:37.908Z"
   },
   {
    "duration": 2,
    "start_time": "2024-02-08T08:13:37.984Z"
   },
   {
    "duration": 25,
    "start_time": "2024-02-08T08:13:37.989Z"
   },
   {
    "duration": 21,
    "start_time": "2024-02-08T08:13:38.015Z"
   },
   {
    "duration": 16,
    "start_time": "2024-02-08T08:13:38.038Z"
   },
   {
    "duration": 15,
    "start_time": "2024-02-08T08:13:38.056Z"
   },
   {
    "duration": 3,
    "start_time": "2024-02-08T08:13:38.073Z"
   },
   {
    "duration": 17,
    "start_time": "2024-02-08T08:13:38.078Z"
   },
   {
    "duration": 10,
    "start_time": "2024-02-08T08:13:38.123Z"
   },
   {
    "duration": 14,
    "start_time": "2024-02-08T08:13:38.134Z"
   },
   {
    "duration": 9,
    "start_time": "2024-02-08T08:13:38.150Z"
   },
   {
    "duration": 24,
    "start_time": "2024-02-08T08:13:38.161Z"
   },
   {
    "duration": 255,
    "start_time": "2024-02-08T08:13:38.187Z"
   },
   {
    "duration": 158,
    "start_time": "2024-02-08T08:13:38.444Z"
   },
   {
    "duration": 6,
    "start_time": "2024-02-08T08:13:38.603Z"
   },
   {
    "duration": 98,
    "start_time": "2024-02-08T08:13:38.610Z"
   },
   {
    "duration": 21,
    "start_time": "2024-02-08T08:13:38.710Z"
   },
   {
    "duration": 205,
    "start_time": "2024-02-08T08:13:38.733Z"
   },
   {
    "duration": 11,
    "start_time": "2024-02-08T08:13:38.940Z"
   },
   {
    "duration": 18,
    "start_time": "2024-02-08T08:13:38.952Z"
   },
   {
    "duration": 237,
    "start_time": "2024-02-08T08:13:38.972Z"
   },
   {
    "duration": 15,
    "start_time": "2024-02-08T08:13:39.210Z"
   },
   {
    "duration": 236,
    "start_time": "2024-02-08T08:13:39.227Z"
   },
   {
    "duration": 28,
    "start_time": "2024-02-08T08:13:39.465Z"
   },
   {
    "duration": 156,
    "start_time": "2024-02-08T08:13:39.494Z"
   },
   {
    "duration": 47,
    "start_time": "2024-02-08T08:13:39.651Z"
   },
   {
    "duration": 398,
    "start_time": "2024-02-08T08:13:39.701Z"
   },
   {
    "duration": 374,
    "start_time": "2024-02-08T08:13:40.101Z"
   },
   {
    "duration": 937,
    "start_time": "2024-02-08T08:13:40.477Z"
   },
   {
    "duration": 384,
    "start_time": "2024-02-08T08:13:41.416Z"
   },
   {
    "duration": 8,
    "start_time": "2024-02-08T08:13:41.801Z"
   },
   {
    "duration": 21,
    "start_time": "2024-02-08T08:13:41.810Z"
   },
   {
    "duration": 13,
    "start_time": "2024-02-08T08:13:41.833Z"
   },
   {
    "duration": 1271,
    "start_time": "2024-02-08T13:39:55.974Z"
   },
   {
    "duration": 187,
    "start_time": "2024-02-08T13:39:57.247Z"
   },
   {
    "duration": 3,
    "start_time": "2024-02-08T13:39:57.435Z"
   },
   {
    "duration": 22,
    "start_time": "2024-02-08T13:39:57.439Z"
   },
   {
    "duration": 16,
    "start_time": "2024-02-08T13:39:57.462Z"
   },
   {
    "duration": 14,
    "start_time": "2024-02-08T13:39:57.480Z"
   },
   {
    "duration": 11,
    "start_time": "2024-02-08T13:39:57.518Z"
   },
   {
    "duration": 2,
    "start_time": "2024-02-08T13:39:57.531Z"
   },
   {
    "duration": 7,
    "start_time": "2024-02-08T13:39:57.535Z"
   },
   {
    "duration": 7,
    "start_time": "2024-02-08T13:39:57.545Z"
   },
   {
    "duration": 9,
    "start_time": "2024-02-08T13:39:57.554Z"
   },
   {
    "duration": 5,
    "start_time": "2024-02-08T13:39:57.565Z"
   },
   {
    "duration": 16,
    "start_time": "2024-02-08T13:39:57.617Z"
   },
   {
    "duration": 201,
    "start_time": "2024-02-08T13:39:57.636Z"
   },
   {
    "duration": 137,
    "start_time": "2024-02-08T13:39:57.839Z"
   },
   {
    "duration": 4,
    "start_time": "2024-02-08T13:39:57.978Z"
   },
   {
    "duration": 90,
    "start_time": "2024-02-08T13:39:57.983Z"
   },
   {
    "duration": 10,
    "start_time": "2024-02-08T13:39:58.074Z"
   },
   {
    "duration": 190,
    "start_time": "2024-02-08T13:39:58.085Z"
   },
   {
    "duration": 9,
    "start_time": "2024-02-08T13:39:58.277Z"
   },
   {
    "duration": 14,
    "start_time": "2024-02-08T13:39:58.288Z"
   },
   {
    "duration": 232,
    "start_time": "2024-02-08T13:39:58.304Z"
   },
   {
    "duration": 10,
    "start_time": "2024-02-08T13:39:58.538Z"
   },
   {
    "duration": 230,
    "start_time": "2024-02-08T13:39:58.550Z"
   },
   {
    "duration": 41,
    "start_time": "2024-02-08T13:39:58.782Z"
   },
   {
    "duration": 143,
    "start_time": "2024-02-08T13:39:58.824Z"
   },
   {
    "duration": 50,
    "start_time": "2024-02-08T13:39:58.968Z"
   },
   {
    "duration": 353,
    "start_time": "2024-02-08T13:39:59.021Z"
   },
   {
    "duration": 349,
    "start_time": "2024-02-08T13:39:59.376Z"
   },
   {
    "duration": 816,
    "start_time": "2024-02-08T13:39:59.727Z"
   },
   {
    "duration": 353,
    "start_time": "2024-02-08T13:40:00.545Z"
   },
   {
    "duration": 18,
    "start_time": "2024-02-08T13:40:00.900Z"
   },
   {
    "duration": 20,
    "start_time": "2024-02-08T13:40:00.920Z"
   },
   {
    "duration": 53,
    "start_time": "2024-02-08T13:40:00.942Z"
   },
   {
    "duration": 7,
    "start_time": "2024-02-08T13:50:48.089Z"
   },
   {
    "duration": 1222,
    "start_time": "2024-02-08T13:57:08.202Z"
   },
   {
    "duration": 71,
    "start_time": "2024-02-08T13:57:09.426Z"
   },
   {
    "duration": 3,
    "start_time": "2024-02-08T13:57:09.498Z"
   },
   {
    "duration": 41,
    "start_time": "2024-02-08T13:57:09.503Z"
   },
   {
    "duration": 17,
    "start_time": "2024-02-08T13:57:09.546Z"
   },
   {
    "duration": 16,
    "start_time": "2024-02-08T13:57:09.565Z"
   },
   {
    "duration": 37,
    "start_time": "2024-02-08T13:57:09.583Z"
   },
   {
    "duration": 4,
    "start_time": "2024-02-08T13:57:09.621Z"
   },
   {
    "duration": 18,
    "start_time": "2024-02-08T13:57:09.627Z"
   },
   {
    "duration": 10,
    "start_time": "2024-02-08T13:57:09.648Z"
   },
   {
    "duration": 10,
    "start_time": "2024-02-08T13:57:09.659Z"
   },
   {
    "duration": 10,
    "start_time": "2024-02-08T13:57:09.671Z"
   },
   {
    "duration": 13,
    "start_time": "2024-02-08T13:57:09.682Z"
   },
   {
    "duration": 188,
    "start_time": "2024-02-08T13:57:09.718Z"
   },
   {
    "duration": 136,
    "start_time": "2024-02-08T13:57:09.908Z"
   },
   {
    "duration": 4,
    "start_time": "2024-02-08T13:57:10.046Z"
   },
   {
    "duration": 90,
    "start_time": "2024-02-08T13:57:10.051Z"
   },
   {
    "duration": 9,
    "start_time": "2024-02-08T13:57:10.143Z"
   },
   {
    "duration": 194,
    "start_time": "2024-02-08T13:57:10.153Z"
   },
   {
    "duration": 9,
    "start_time": "2024-02-08T13:57:10.349Z"
   },
   {
    "duration": 23,
    "start_time": "2024-02-08T13:57:10.360Z"
   },
   {
    "duration": 205,
    "start_time": "2024-02-08T13:57:10.385Z"
   },
   {
    "duration": 8,
    "start_time": "2024-02-08T13:57:10.592Z"
   },
   {
    "duration": 212,
    "start_time": "2024-02-08T13:57:10.602Z"
   },
   {
    "duration": 26,
    "start_time": "2024-02-08T13:57:10.815Z"
   },
   {
    "duration": 136,
    "start_time": "2024-02-08T13:57:10.842Z"
   },
   {
    "duration": 53,
    "start_time": "2024-02-08T13:57:10.979Z"
   },
   {
    "duration": 339,
    "start_time": "2024-02-08T13:57:11.035Z"
   },
   {
    "duration": 374,
    "start_time": "2024-02-08T13:57:11.376Z"
   },
   {
    "duration": 827,
    "start_time": "2024-02-08T13:57:11.752Z"
   },
   {
    "duration": 331,
    "start_time": "2024-02-08T13:57:12.580Z"
   },
   {
    "duration": 8,
    "start_time": "2024-02-08T13:57:12.913Z"
   },
   {
    "duration": 7,
    "start_time": "2024-02-08T13:57:12.923Z"
   },
   {
    "duration": 12,
    "start_time": "2024-02-08T13:57:12.931Z"
   },
   {
    "duration": 48,
    "start_time": "2024-02-08T14:31:53.693Z"
   },
   {
    "duration": 1322,
    "start_time": "2024-02-08T14:32:18.881Z"
   },
   {
    "duration": 185,
    "start_time": "2024-02-08T14:32:20.205Z"
   },
   {
    "duration": 3,
    "start_time": "2024-02-08T14:32:20.392Z"
   },
   {
    "duration": 37,
    "start_time": "2024-02-08T14:32:20.397Z"
   },
   {
    "duration": 24,
    "start_time": "2024-02-08T14:32:20.436Z"
   },
   {
    "duration": 36,
    "start_time": "2024-02-08T14:32:20.462Z"
   },
   {
    "duration": 25,
    "start_time": "2024-02-08T14:32:20.499Z"
   },
   {
    "duration": 11,
    "start_time": "2024-02-08T14:32:20.525Z"
   },
   {
    "duration": 21,
    "start_time": "2024-02-08T14:32:20.538Z"
   },
   {
    "duration": 35,
    "start_time": "2024-02-08T14:32:20.561Z"
   },
   {
    "duration": 19,
    "start_time": "2024-02-08T14:32:20.598Z"
   },
   {
    "duration": 36,
    "start_time": "2024-02-08T14:32:20.619Z"
   },
   {
    "duration": 14,
    "start_time": "2024-02-08T14:32:20.657Z"
   },
   {
    "duration": 40,
    "start_time": "2024-02-08T14:32:20.672Z"
   },
   {
    "duration": 179,
    "start_time": "2024-02-08T14:32:20.713Z"
   },
   {
    "duration": 148,
    "start_time": "2024-02-08T14:32:20.894Z"
   },
   {
    "duration": 4,
    "start_time": "2024-02-08T14:32:21.044Z"
   },
   {
    "duration": 96,
    "start_time": "2024-02-08T14:32:21.050Z"
   },
   {
    "duration": 11,
    "start_time": "2024-02-08T14:32:21.148Z"
   },
   {
    "duration": 196,
    "start_time": "2024-02-08T14:32:21.161Z"
   },
   {
    "duration": 9,
    "start_time": "2024-02-08T14:32:21.358Z"
   },
   {
    "duration": 15,
    "start_time": "2024-02-08T14:32:21.368Z"
   },
   {
    "duration": 215,
    "start_time": "2024-02-08T14:32:21.384Z"
   },
   {
    "duration": 21,
    "start_time": "2024-02-08T14:32:21.601Z"
   },
   {
    "duration": 236,
    "start_time": "2024-02-08T14:32:21.624Z"
   },
   {
    "duration": 24,
    "start_time": "2024-02-08T14:32:21.862Z"
   },
   {
    "duration": 139,
    "start_time": "2024-02-08T14:32:21.887Z"
   },
   {
    "duration": 61,
    "start_time": "2024-02-08T14:32:22.031Z"
   },
   {
    "duration": 361,
    "start_time": "2024-02-08T14:32:22.094Z"
   },
   {
    "duration": 345,
    "start_time": "2024-02-08T14:32:22.456Z"
   },
   {
    "duration": 779,
    "start_time": "2024-02-08T14:32:22.803Z"
   },
   {
    "duration": 383,
    "start_time": "2024-02-08T14:32:23.584Z"
   },
   {
    "duration": 7,
    "start_time": "2024-02-08T14:32:23.968Z"
   },
   {
    "duration": 6,
    "start_time": "2024-02-08T14:32:23.976Z"
   },
   {
    "duration": 35,
    "start_time": "2024-02-08T14:32:23.983Z"
   },
   {
    "duration": 5,
    "start_time": "2024-02-08T14:36:01.568Z"
   },
   {
    "duration": 98,
    "start_time": "2024-02-08T14:40:39.965Z"
   },
   {
    "duration": 7,
    "start_time": "2024-02-08T14:41:05.569Z"
   },
   {
    "duration": 253,
    "start_time": "2024-02-08T14:42:38.763Z"
   },
   {
    "duration": 5,
    "start_time": "2024-02-08T14:42:52.172Z"
   },
   {
    "duration": 1353,
    "start_time": "2024-02-09T06:59:21.800Z"
   },
   {
    "duration": 197,
    "start_time": "2024-02-09T06:59:23.155Z"
   },
   {
    "duration": 3,
    "start_time": "2024-02-09T06:59:23.353Z"
   },
   {
    "duration": 21,
    "start_time": "2024-02-09T06:59:23.358Z"
   },
   {
    "duration": 16,
    "start_time": "2024-02-09T06:59:23.380Z"
   },
   {
    "duration": 20,
    "start_time": "2024-02-09T06:59:23.398Z"
   },
   {
    "duration": 10,
    "start_time": "2024-02-09T06:59:23.419Z"
   },
   {
    "duration": 4,
    "start_time": "2024-02-09T06:59:23.430Z"
   },
   {
    "duration": 2,
    "start_time": "2024-02-09T06:59:23.436Z"
   },
   {
    "duration": 6,
    "start_time": "2024-02-09T06:59:23.441Z"
   },
   {
    "duration": 13,
    "start_time": "2024-02-09T06:59:23.449Z"
   },
   {
    "duration": 10,
    "start_time": "2024-02-09T06:59:23.463Z"
   },
   {
    "duration": 9,
    "start_time": "2024-02-09T06:59:23.475Z"
   },
   {
    "duration": 37,
    "start_time": "2024-02-09T06:59:23.486Z"
   },
   {
    "duration": 5,
    "start_time": "2024-02-09T06:59:23.525Z"
   },
   {
    "duration": 193,
    "start_time": "2024-02-09T06:59:23.532Z"
   },
   {
    "duration": 129,
    "start_time": "2024-02-09T06:59:23.727Z"
   },
   {
    "duration": 4,
    "start_time": "2024-02-09T06:59:23.858Z"
   },
   {
    "duration": 91,
    "start_time": "2024-02-09T06:59:23.863Z"
   },
   {
    "duration": 10,
    "start_time": "2024-02-09T06:59:23.955Z"
   },
   {
    "duration": 194,
    "start_time": "2024-02-09T06:59:23.967Z"
   },
   {
    "duration": 9,
    "start_time": "2024-02-09T06:59:24.162Z"
   },
   {
    "duration": 10,
    "start_time": "2024-02-09T06:59:24.173Z"
   },
   {
    "duration": 246,
    "start_time": "2024-02-09T06:59:24.185Z"
   },
   {
    "duration": 8,
    "start_time": "2024-02-09T06:59:24.432Z"
   },
   {
    "duration": 214,
    "start_time": "2024-02-09T06:59:24.442Z"
   },
   {
    "duration": 25,
    "start_time": "2024-02-09T06:59:24.658Z"
   },
   {
    "duration": 131,
    "start_time": "2024-02-09T06:59:24.686Z"
   },
   {
    "duration": 43,
    "start_time": "2024-02-09T06:59:24.819Z"
   },
   {
    "duration": 360,
    "start_time": "2024-02-09T06:59:24.863Z"
   },
   {
    "duration": 336,
    "start_time": "2024-02-09T06:59:25.224Z"
   },
   {
    "duration": 784,
    "start_time": "2024-02-09T06:59:25.561Z"
   },
   {
    "duration": 353,
    "start_time": "2024-02-09T06:59:26.346Z"
   },
   {
    "duration": 15,
    "start_time": "2024-02-09T06:59:26.700Z"
   },
   {
    "duration": 5,
    "start_time": "2024-02-09T06:59:26.716Z"
   },
   {
    "duration": 26,
    "start_time": "2024-02-09T06:59:26.722Z"
   },
   {
    "duration": 8,
    "start_time": "2024-02-09T07:14:27.095Z"
   },
   {
    "duration": 77,
    "start_time": "2024-02-09T07:14:42.655Z"
   },
   {
    "duration": 9,
    "start_time": "2024-02-09T07:14:46.919Z"
   },
   {
    "duration": 101,
    "start_time": "2024-02-09T07:19:07.866Z"
   },
   {
    "duration": 103,
    "start_time": "2024-02-09T07:19:17.231Z"
   },
   {
    "duration": 109,
    "start_time": "2024-02-09T07:19:25.506Z"
   },
   {
    "duration": 108,
    "start_time": "2024-02-09T07:19:49.799Z"
   },
   {
    "duration": 6,
    "start_time": "2024-02-09T07:24:15.887Z"
   },
   {
    "duration": 8,
    "start_time": "2024-02-09T07:24:36.100Z"
   },
   {
    "duration": 114,
    "start_time": "2024-02-09T07:24:47.692Z"
   },
   {
    "duration": 7,
    "start_time": "2024-02-09T07:25:03.836Z"
   },
   {
    "duration": 205,
    "start_time": "2024-02-09T07:44:34.137Z"
   },
   {
    "duration": 100,
    "start_time": "2024-02-09T07:44:50.944Z"
   },
   {
    "duration": 100,
    "start_time": "2024-02-09T07:44:58.416Z"
   },
   {
    "duration": 97,
    "start_time": "2024-02-09T07:45:21.448Z"
   },
   {
    "duration": 96,
    "start_time": "2024-02-09T07:45:59.774Z"
   },
   {
    "duration": 3,
    "start_time": "2024-02-09T07:46:50.644Z"
   },
   {
    "duration": 5,
    "start_time": "2024-02-09T07:49:59.265Z"
   },
   {
    "duration": 18,
    "start_time": "2024-02-09T07:50:09.893Z"
   },
   {
    "duration": 6,
    "start_time": "2024-02-09T07:53:56.830Z"
   },
   {
    "duration": 8,
    "start_time": "2024-02-09T07:54:16.284Z"
   },
   {
    "duration": 5,
    "start_time": "2024-02-09T07:54:31.753Z"
   },
   {
    "duration": 9,
    "start_time": "2024-02-09T07:55:21.168Z"
   },
   {
    "duration": 12,
    "start_time": "2024-02-09T07:55:28.611Z"
   },
   {
    "duration": 7,
    "start_time": "2024-02-09T07:56:33.078Z"
   },
   {
    "duration": 5,
    "start_time": "2024-02-09T07:56:52.861Z"
   },
   {
    "duration": 75,
    "start_time": "2024-02-09T08:01:12.245Z"
   },
   {
    "duration": 72,
    "start_time": "2024-02-09T08:01:24.257Z"
   },
   {
    "duration": 110,
    "start_time": "2024-02-09T08:04:17.707Z"
   },
   {
    "duration": 77,
    "start_time": "2024-02-09T08:04:34.302Z"
   },
   {
    "duration": 79,
    "start_time": "2024-02-09T08:05:53.777Z"
   },
   {
    "duration": 6,
    "start_time": "2024-02-09T08:06:34.556Z"
   },
   {
    "duration": 11,
    "start_time": "2024-02-09T08:07:12.070Z"
   },
   {
    "duration": 6,
    "start_time": "2024-02-09T08:07:39.470Z"
   },
   {
    "duration": 6,
    "start_time": "2024-02-09T08:08:20.407Z"
   },
   {
    "duration": 271,
    "start_time": "2024-02-09T08:14:16.814Z"
   },
   {
    "duration": 265,
    "start_time": "2024-02-09T08:14:34.502Z"
   },
   {
    "duration": 82,
    "start_time": "2024-02-09T08:15:28.015Z"
   },
   {
    "duration": 81,
    "start_time": "2024-02-09T08:15:36.469Z"
   },
   {
    "duration": 286,
    "start_time": "2024-02-09T08:16:14.586Z"
   },
   {
    "duration": 337,
    "start_time": "2024-02-09T08:16:23.971Z"
   },
   {
    "duration": 204,
    "start_time": "2024-02-09T08:16:49.439Z"
   },
   {
    "duration": 216,
    "start_time": "2024-02-09T08:18:13.238Z"
   },
   {
    "duration": 224,
    "start_time": "2024-02-09T08:19:02.041Z"
   },
   {
    "duration": 215,
    "start_time": "2024-02-09T08:19:18.402Z"
   },
   {
    "duration": 77,
    "start_time": "2024-02-09T08:24:58.578Z"
   },
   {
    "duration": 9,
    "start_time": "2024-02-09T08:27:49.141Z"
   },
   {
    "duration": 24,
    "start_time": "2024-02-09T08:28:25.255Z"
   },
   {
    "duration": 791,
    "start_time": "2024-02-09T08:29:40.163Z"
   },
   {
    "duration": 760,
    "start_time": "2024-02-09T08:29:52.675Z"
   },
   {
    "duration": 886,
    "start_time": "2024-02-09T08:30:14.243Z"
   },
   {
    "duration": 1461,
    "start_time": "2024-02-09T08:33:47.257Z"
   },
   {
    "duration": 824,
    "start_time": "2024-02-09T08:35:25.402Z"
   },
   {
    "duration": 31,
    "start_time": "2024-02-09T08:35:45.458Z"
   },
   {
    "duration": 6,
    "start_time": "2024-02-09T08:35:50.439Z"
   },
   {
    "duration": 20,
    "start_time": "2024-02-09T08:36:12.181Z"
   },
   {
    "duration": 9,
    "start_time": "2024-02-09T08:37:43.620Z"
   },
   {
    "duration": 9,
    "start_time": "2024-02-09T08:40:27.522Z"
   },
   {
    "duration": 7,
    "start_time": "2024-02-09T08:44:49.042Z"
   },
   {
    "duration": 5,
    "start_time": "2024-02-09T08:47:50.639Z"
   },
   {
    "duration": 5,
    "start_time": "2024-02-09T08:57:07.360Z"
   },
   {
    "duration": 10,
    "start_time": "2024-02-09T09:03:03.724Z"
   },
   {
    "duration": 1152,
    "start_time": "2024-02-09T09:36:54.884Z"
   },
   {
    "duration": 72,
    "start_time": "2024-02-09T09:36:56.038Z"
   },
   {
    "duration": 4,
    "start_time": "2024-02-09T09:36:56.111Z"
   },
   {
    "duration": 40,
    "start_time": "2024-02-09T09:36:56.117Z"
   },
   {
    "duration": 25,
    "start_time": "2024-02-09T09:36:56.159Z"
   },
   {
    "duration": 35,
    "start_time": "2024-02-09T09:36:56.187Z"
   },
   {
    "duration": 17,
    "start_time": "2024-02-09T09:36:56.224Z"
   },
   {
    "duration": 4,
    "start_time": "2024-02-09T09:36:56.244Z"
   },
   {
    "duration": 3,
    "start_time": "2024-02-09T09:36:56.250Z"
   },
   {
    "duration": 14,
    "start_time": "2024-02-09T09:36:56.256Z"
   },
   {
    "duration": 11,
    "start_time": "2024-02-09T09:36:56.272Z"
   },
   {
    "duration": 41,
    "start_time": "2024-02-09T09:36:56.285Z"
   },
   {
    "duration": 7,
    "start_time": "2024-02-09T09:36:56.327Z"
   },
   {
    "duration": 16,
    "start_time": "2024-02-09T09:36:56.336Z"
   },
   {
    "duration": 5,
    "start_time": "2024-02-09T09:36:56.353Z"
   },
   {
    "duration": 199,
    "start_time": "2024-02-09T09:36:56.360Z"
   },
   {
    "duration": 151,
    "start_time": "2024-02-09T09:36:56.560Z"
   },
   {
    "duration": 5,
    "start_time": "2024-02-09T09:36:56.715Z"
   },
   {
    "duration": 115,
    "start_time": "2024-02-09T09:36:56.723Z"
   },
   {
    "duration": 12,
    "start_time": "2024-02-09T09:36:56.843Z"
   },
   {
    "duration": 198,
    "start_time": "2024-02-09T09:36:56.856Z"
   },
   {
    "duration": 9,
    "start_time": "2024-02-09T09:36:57.056Z"
   },
   {
    "duration": 7,
    "start_time": "2024-02-09T09:36:57.067Z"
   },
   {
    "duration": 229,
    "start_time": "2024-02-09T09:36:57.076Z"
   },
   {
    "duration": 8,
    "start_time": "2024-02-09T09:36:57.315Z"
   },
   {
    "duration": 252,
    "start_time": "2024-02-09T09:36:57.325Z"
   },
   {
    "duration": 7,
    "start_time": "2024-02-09T09:36:57.578Z"
   },
   {
    "duration": 192,
    "start_time": "2024-02-09T09:36:57.588Z"
   },
   {
    "duration": 122,
    "start_time": "2024-02-09T09:36:57.782Z"
   },
   {
    "duration": 0,
    "start_time": "2024-02-09T09:36:57.914Z"
   },
   {
    "duration": 0,
    "start_time": "2024-02-09T09:36:57.916Z"
   },
   {
    "duration": 0,
    "start_time": "2024-02-09T09:36:57.917Z"
   },
   {
    "duration": 0,
    "start_time": "2024-02-09T09:36:57.919Z"
   },
   {
    "duration": 0,
    "start_time": "2024-02-09T09:36:57.920Z"
   },
   {
    "duration": 0,
    "start_time": "2024-02-09T09:36:57.921Z"
   },
   {
    "duration": 0,
    "start_time": "2024-02-09T09:36:57.923Z"
   },
   {
    "duration": 0,
    "start_time": "2024-02-09T09:36:57.924Z"
   },
   {
    "duration": 0,
    "start_time": "2024-02-09T09:36:57.925Z"
   },
   {
    "duration": 0,
    "start_time": "2024-02-09T09:36:57.926Z"
   },
   {
    "duration": 0,
    "start_time": "2024-02-09T09:36:57.927Z"
   },
   {
    "duration": 0,
    "start_time": "2024-02-09T09:36:57.929Z"
   },
   {
    "duration": 0,
    "start_time": "2024-02-09T09:36:57.930Z"
   },
   {
    "duration": 0,
    "start_time": "2024-02-09T09:36:57.931Z"
   },
   {
    "duration": 0,
    "start_time": "2024-02-09T09:36:57.932Z"
   },
   {
    "duration": 0,
    "start_time": "2024-02-09T09:36:57.934Z"
   },
   {
    "duration": 1087,
    "start_time": "2024-02-09T09:37:47.039Z"
   },
   {
    "duration": 72,
    "start_time": "2024-02-09T09:37:48.128Z"
   },
   {
    "duration": 3,
    "start_time": "2024-02-09T09:37:48.202Z"
   },
   {
    "duration": 27,
    "start_time": "2024-02-09T09:37:48.207Z"
   },
   {
    "duration": 18,
    "start_time": "2024-02-09T09:37:48.236Z"
   },
   {
    "duration": 14,
    "start_time": "2024-02-09T09:37:48.256Z"
   },
   {
    "duration": 11,
    "start_time": "2024-02-09T09:37:48.271Z"
   },
   {
    "duration": 9,
    "start_time": "2024-02-09T09:37:48.316Z"
   },
   {
    "duration": 3,
    "start_time": "2024-02-09T09:37:48.327Z"
   },
   {
    "duration": 9,
    "start_time": "2024-02-09T09:37:48.332Z"
   },
   {
    "duration": 8,
    "start_time": "2024-02-09T09:37:48.342Z"
   },
   {
    "duration": 9,
    "start_time": "2024-02-09T09:37:48.351Z"
   },
   {
    "duration": 5,
    "start_time": "2024-02-09T09:37:48.361Z"
   },
   {
    "duration": 49,
    "start_time": "2024-02-09T09:37:48.367Z"
   },
   {
    "duration": 6,
    "start_time": "2024-02-09T09:37:48.417Z"
   },
   {
    "duration": 196,
    "start_time": "2024-02-09T09:37:48.425Z"
   },
   {
    "duration": 141,
    "start_time": "2024-02-09T09:37:48.622Z"
   },
   {
    "duration": 5,
    "start_time": "2024-02-09T09:37:48.764Z"
   },
   {
    "duration": 112,
    "start_time": "2024-02-09T09:37:48.770Z"
   },
   {
    "duration": 10,
    "start_time": "2024-02-09T09:37:48.885Z"
   },
   {
    "duration": 186,
    "start_time": "2024-02-09T09:37:48.896Z"
   },
   {
    "duration": 9,
    "start_time": "2024-02-09T09:37:49.083Z"
   },
   {
    "duration": 17,
    "start_time": "2024-02-09T09:37:49.094Z"
   },
   {
    "duration": 209,
    "start_time": "2024-02-09T09:37:49.112Z"
   },
   {
    "duration": 8,
    "start_time": "2024-02-09T09:37:49.323Z"
   },
   {
    "duration": 235,
    "start_time": "2024-02-09T09:37:49.332Z"
   },
   {
    "duration": 8,
    "start_time": "2024-02-09T09:37:49.569Z"
   },
   {
    "duration": 193,
    "start_time": "2024-02-09T09:37:49.582Z"
   },
   {
    "duration": 24,
    "start_time": "2024-02-09T09:37:49.777Z"
   },
   {
    "duration": 16,
    "start_time": "2024-02-09T09:37:49.803Z"
   },
   {
    "duration": 53,
    "start_time": "2024-02-09T09:37:49.821Z"
   },
   {
    "duration": 63,
    "start_time": "2024-02-09T09:37:49.876Z"
   },
   {
    "duration": 367,
    "start_time": "2024-02-09T09:37:49.941Z"
   },
   {
    "duration": 225,
    "start_time": "2024-02-09T09:37:50.309Z"
   },
   {
    "duration": 343,
    "start_time": "2024-02-09T09:37:50.535Z"
   },
   {
    "duration": 202,
    "start_time": "2024-02-09T09:37:50.880Z"
   },
   {
    "duration": 838,
    "start_time": "2024-02-09T09:37:51.084Z"
   },
   {
    "duration": 347,
    "start_time": "2024-02-09T09:37:51.923Z"
   },
   {
    "duration": 31,
    "start_time": "2024-02-09T09:37:52.272Z"
   },
   {
    "duration": 28,
    "start_time": "2024-02-09T09:37:52.305Z"
   },
   {
    "duration": 8,
    "start_time": "2024-02-09T09:37:52.335Z"
   },
   {
    "duration": 7,
    "start_time": "2024-02-09T09:37:52.344Z"
   },
   {
    "duration": 6,
    "start_time": "2024-02-09T09:37:52.352Z"
   },
   {
    "duration": 13,
    "start_time": "2024-02-09T09:37:52.360Z"
   },
   {
    "duration": 1194,
    "start_time": "2024-02-09T12:35:02.149Z"
   },
   {
    "duration": 72,
    "start_time": "2024-02-09T12:35:03.345Z"
   },
   {
    "duration": 3,
    "start_time": "2024-02-09T12:35:03.418Z"
   },
   {
    "duration": 23,
    "start_time": "2024-02-09T12:35:03.423Z"
   },
   {
    "duration": 16,
    "start_time": "2024-02-09T12:35:03.448Z"
   },
   {
    "duration": 13,
    "start_time": "2024-02-09T12:35:03.466Z"
   },
   {
    "duration": 44,
    "start_time": "2024-02-09T12:35:03.481Z"
   },
   {
    "duration": 5,
    "start_time": "2024-02-09T12:35:03.527Z"
   },
   {
    "duration": 5,
    "start_time": "2024-02-09T12:35:03.533Z"
   },
   {
    "duration": 7,
    "start_time": "2024-02-09T12:35:03.541Z"
   },
   {
    "duration": 7,
    "start_time": "2024-02-09T12:35:03.550Z"
   },
   {
    "duration": 15,
    "start_time": "2024-02-09T12:35:03.559Z"
   },
   {
    "duration": 6,
    "start_time": "2024-02-09T12:35:03.576Z"
   },
   {
    "duration": 54,
    "start_time": "2024-02-09T12:35:03.583Z"
   },
   {
    "duration": 6,
    "start_time": "2024-02-09T12:35:03.639Z"
   },
   {
    "duration": 218,
    "start_time": "2024-02-09T12:35:03.647Z"
   },
   {
    "duration": 135,
    "start_time": "2024-02-09T12:35:03.867Z"
   },
   {
    "duration": 4,
    "start_time": "2024-02-09T12:35:04.004Z"
   },
   {
    "duration": 77,
    "start_time": "2024-02-09T12:35:04.018Z"
   },
   {
    "duration": 25,
    "start_time": "2024-02-09T12:35:04.097Z"
   },
   {
    "duration": 167,
    "start_time": "2024-02-09T12:35:04.124Z"
   },
   {
    "duration": 9,
    "start_time": "2024-02-09T12:35:04.292Z"
   },
   {
    "duration": 54,
    "start_time": "2024-02-09T12:35:04.302Z"
   },
   {
    "duration": 235,
    "start_time": "2024-02-09T12:35:04.358Z"
   },
   {
    "duration": 8,
    "start_time": "2024-02-09T12:35:04.594Z"
   },
   {
    "duration": 208,
    "start_time": "2024-02-09T12:35:04.603Z"
   },
   {
    "duration": 10,
    "start_time": "2024-02-09T12:35:04.813Z"
   },
   {
    "duration": 182,
    "start_time": "2024-02-09T12:35:04.826Z"
   },
   {
    "duration": 37,
    "start_time": "2024-02-09T12:35:05.010Z"
   },
   {
    "duration": 13,
    "start_time": "2024-02-09T12:35:05.049Z"
   },
   {
    "duration": 75,
    "start_time": "2024-02-09T12:35:05.064Z"
   },
   {
    "duration": 51,
    "start_time": "2024-02-09T12:35:05.140Z"
   },
   {
    "duration": 331,
    "start_time": "2024-02-09T12:35:05.193Z"
   },
   {
    "duration": 223,
    "start_time": "2024-02-09T12:35:05.526Z"
   },
   {
    "duration": 331,
    "start_time": "2024-02-09T12:35:05.750Z"
   },
   {
    "duration": 221,
    "start_time": "2024-02-09T12:35:06.083Z"
   },
   {
    "duration": 779,
    "start_time": "2024-02-09T12:35:06.305Z"
   },
   {
    "duration": 340,
    "start_time": "2024-02-09T12:35:07.086Z"
   },
   {
    "duration": 31,
    "start_time": "2024-02-09T12:35:07.428Z"
   },
   {
    "duration": 18,
    "start_time": "2024-02-09T12:35:07.460Z"
   },
   {
    "duration": 7,
    "start_time": "2024-02-09T12:35:07.479Z"
   },
   {
    "duration": 34,
    "start_time": "2024-02-09T12:35:07.487Z"
   },
   {
    "duration": 6,
    "start_time": "2024-02-09T12:35:07.523Z"
   },
   {
    "duration": 13,
    "start_time": "2024-02-09T12:35:07.531Z"
   },
   {
    "duration": 5,
    "start_time": "2024-02-09T12:37:04.062Z"
   },
   {
    "duration": 1450,
    "start_time": "2024-02-09T12:52:35.390Z"
   },
   {
    "duration": 299,
    "start_time": "2024-02-09T12:52:36.842Z"
   },
   {
    "duration": 3,
    "start_time": "2024-02-09T12:52:37.143Z"
   },
   {
    "duration": 27,
    "start_time": "2024-02-09T12:52:37.148Z"
   },
   {
    "duration": 20,
    "start_time": "2024-02-09T12:52:37.177Z"
   },
   {
    "duration": 16,
    "start_time": "2024-02-09T12:52:37.199Z"
   },
   {
    "duration": 13,
    "start_time": "2024-02-09T12:52:37.216Z"
   },
   {
    "duration": 4,
    "start_time": "2024-02-09T12:52:37.231Z"
   },
   {
    "duration": 4,
    "start_time": "2024-02-09T12:52:37.237Z"
   },
   {
    "duration": 8,
    "start_time": "2024-02-09T12:52:37.244Z"
   },
   {
    "duration": 43,
    "start_time": "2024-02-09T12:52:37.254Z"
   },
   {
    "duration": 10,
    "start_time": "2024-02-09T12:52:37.298Z"
   },
   {
    "duration": 7,
    "start_time": "2024-02-09T12:52:37.309Z"
   },
   {
    "duration": 25,
    "start_time": "2024-02-09T12:52:37.317Z"
   },
   {
    "duration": 6,
    "start_time": "2024-02-09T12:52:37.344Z"
   },
   {
    "duration": 223,
    "start_time": "2024-02-09T12:52:37.351Z"
   },
   {
    "duration": 170,
    "start_time": "2024-02-09T12:52:37.576Z"
   },
   {
    "duration": 5,
    "start_time": "2024-02-09T12:52:37.748Z"
   },
   {
    "duration": 105,
    "start_time": "2024-02-09T12:52:37.755Z"
   },
   {
    "duration": 12,
    "start_time": "2024-02-09T12:52:37.862Z"
   },
   {
    "duration": 209,
    "start_time": "2024-02-09T12:52:37.876Z"
   },
   {
    "duration": 14,
    "start_time": "2024-02-09T12:52:38.086Z"
   },
   {
    "duration": 10,
    "start_time": "2024-02-09T12:52:38.101Z"
   },
   {
    "duration": 247,
    "start_time": "2024-02-09T12:52:38.112Z"
   },
   {
    "duration": 8,
    "start_time": "2024-02-09T12:52:38.361Z"
   },
   {
    "duration": 236,
    "start_time": "2024-02-09T12:52:38.371Z"
   },
   {
    "duration": 7,
    "start_time": "2024-02-09T12:52:38.609Z"
   },
   {
    "duration": 207,
    "start_time": "2024-02-09T12:52:38.620Z"
   },
   {
    "duration": 27,
    "start_time": "2024-02-09T12:52:38.829Z"
   },
   {
    "duration": 7,
    "start_time": "2024-02-09T12:52:38.857Z"
   },
   {
    "duration": 87,
    "start_time": "2024-02-09T12:52:38.866Z"
   },
   {
    "duration": 65,
    "start_time": "2024-02-09T12:52:38.955Z"
   },
   {
    "duration": 378,
    "start_time": "2024-02-09T12:52:39.022Z"
   },
   {
    "duration": 243,
    "start_time": "2024-02-09T12:52:39.402Z"
   },
   {
    "duration": 383,
    "start_time": "2024-02-09T12:52:39.647Z"
   },
   {
    "duration": 250,
    "start_time": "2024-02-09T12:52:40.032Z"
   },
   {
    "duration": 888,
    "start_time": "2024-02-09T12:52:40.283Z"
   },
   {
    "duration": 399,
    "start_time": "2024-02-09T12:52:41.172Z"
   },
   {
    "duration": 43,
    "start_time": "2024-02-09T12:52:41.573Z"
   },
   {
    "duration": 19,
    "start_time": "2024-02-09T12:52:41.618Z"
   },
   {
    "duration": 33,
    "start_time": "2024-02-09T12:52:41.639Z"
   },
   {
    "duration": 11,
    "start_time": "2024-02-09T12:52:41.674Z"
   },
   {
    "duration": 12,
    "start_time": "2024-02-09T12:52:41.687Z"
   },
   {
    "duration": 13,
    "start_time": "2024-02-09T12:52:41.700Z"
   }
  ],
  "kernelspec": {
   "display_name": "Python 3 (ipykernel)",
   "language": "python",
   "name": "python3"
  },
  "language_info": {
   "codemirror_mode": {
    "name": "ipython",
    "version": 3
   },
   "file_extension": ".py",
   "mimetype": "text/x-python",
   "name": "python",
   "nbconvert_exporter": "python",
   "pygments_lexer": "ipython3",
   "version": "3.11.4"
  },
  "toc": {
   "base_numbering": 1,
   "nav_menu": {},
   "number_sections": true,
   "sideBar": true,
   "skip_h1_title": true,
   "title_cell": "Table of Contents",
   "title_sidebar": "Contents",
   "toc_cell": false,
   "toc_position": {},
   "toc_section_display": true,
   "toc_window_display": false
  }
 },
 "nbformat": 4,
 "nbformat_minor": 5
}
